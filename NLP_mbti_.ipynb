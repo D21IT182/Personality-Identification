{
  "cells": [
    {
      "cell_type": "code",
      "execution_count": 4,
      "metadata": {
        "colab": {
          "base_uri": "https://localhost:8080/"
        },
        "id": "i8VpH5YFB78r",
        "outputId": "a9c2bf9a-c70d-4722-dc89-26b3a96a6f36"
      },
      "outputs": [
        {
          "output_type": "stream",
          "name": "stdout",
          "text": [
            "Drive already mounted at /content/drive; to attempt to forcibly remount, call drive.mount(\"/content/drive\", force_remount=True).\n"
          ]
        }
      ],
      "source": [
        "from google.colab import drive\n",
        "\n",
        "drive.mount('/content/drive')\n",
        "\n"
      ]
    },
    {
      "cell_type": "code",
      "execution_count": 5,
      "metadata": {
        "id": "0Tt7T3OCEYmZ"
      },
      "outputs": [],
      "source": [
        "# Importing al libraries\n",
        "import pandas as pd\n",
        "import numpy as np\n",
        "from numpy import asarray\n",
        "from numpy import savetxt\n",
        "from numpy import loadtxt\n",
        "import pickle as pkl\n",
        "from scipy import sparse\n",
        "\n",
        "# Data Visualization\n",
        "import seaborn as sns\n",
        "import matplotlib.pyplot as plt\n",
        "import wordcloud\n",
        "from wordcloud import WordCloud, STOPWORDS\n",
        "\n",
        "# Text Processing\n",
        "import re\n",
        "import itertools\n",
        "import string\n",
        "import collections\n",
        "from collections import Counter\n",
        "from sklearn.preprocessing import LabelEncoder\n",
        "import nltk\n",
        "from nltk.classify import NaiveBayesClassifier\n",
        "from nltk.corpus import stopwords\n",
        "from nltk import word_tokenize\n",
        "from nltk.tokenize import word_tokenize\n",
        "from nltk.stem import PorterStemmer, WordNetLemmatizer\n",
        "\n",
        "# Machine Learning packages\n",
        "import sklearn\n",
        "from sklearn.feature_extraction.text import CountVectorizer\n",
        "from sklearn.feature_extraction.text import TfidfVectorizer\n",
        "from sklearn.feature_extraction.text import TfidfTransformer\n",
        "import sklearn.cluster as cluster\n",
        "from sklearn.manifold import TSNE\n",
        "\n",
        "# Model training and evaluation\n",
        "from sklearn.model_selection import train_test_split\n",
        "\n",
        "#Models\n",
        "from sklearn.linear_model import LogisticRegression\n",
        "from sklearn.linear_model import SGDClassifier\n",
        "from sklearn.neighbors import KNeighborsClassifier\n",
        "from sklearn.naive_bayes import GaussianNB\n",
        "from sklearn.svm import SVC\n",
        "from sklearn.ensemble import RandomForestClassifier, GradientBoostingClassifier\n",
        "from xgboost import XGBClassifier\n",
        "from xgboost import plot_importance\n",
        "\n",
        "#Metrics\n",
        "from sklearn.metrics import r2_score, mean_squared_error, mean_absolute_error, accuracy_score, balanced_accuracy_score\n",
        "from sklearn.metrics import precision_score, recall_score, f1_score, multilabel_confusion_matrix, confusion_matrix\n",
        "from sklearn.metrics import classification_report\n",
        "\n",
        "# Ignore noise warning\n",
        "import warnings\n",
        "warnings.filterwarnings(\"ignore\")"
      ]
    },
    {
      "cell_type": "code",
      "execution_count": 6,
      "metadata": {
        "id": "rtYp0H8wEckw"
      },
      "outputs": [],
      "source": [
        "#load the dataset into dataframe\n",
        "mbti_df = pd.read_csv(\"/content/drive/MyDrive/ML Project/mbti_1.csv\")"
      ]
    },
    {
      "cell_type": "code",
      "execution_count": 7,
      "metadata": {
        "colab": {
          "base_uri": "https://localhost:8080/",
          "height": 206
        },
        "id": "jTCOZqdIHEvG",
        "outputId": "803e7aec-46ee-4bfc-f4d6-35dd85e8c0c9"
      },
      "outputs": [
        {
          "output_type": "execute_result",
          "data": {
            "text/plain": [
              "   type                                              posts\n",
              "0  INFJ  'http://www.youtube.com/watch?v=qsXHcwe3krw|||...\n",
              "1  ENTP  'I'm finding the lack of me in these posts ver...\n",
              "2  INTP  'Good one  _____   https://www.youtube.com/wat...\n",
              "3  INTJ  'Dear INTP,   I enjoyed our conversation the o...\n",
              "4  ENTJ  'You're fired.|||That's another silly misconce..."
            ],
            "text/html": [
              "\n",
              "  <div id=\"df-2e5a4cb9-956f-408d-8b6c-1d728efd557b\">\n",
              "    <div class=\"colab-df-container\">\n",
              "      <div>\n",
              "<style scoped>\n",
              "    .dataframe tbody tr th:only-of-type {\n",
              "        vertical-align: middle;\n",
              "    }\n",
              "\n",
              "    .dataframe tbody tr th {\n",
              "        vertical-align: top;\n",
              "    }\n",
              "\n",
              "    .dataframe thead th {\n",
              "        text-align: right;\n",
              "    }\n",
              "</style>\n",
              "<table border=\"1\" class=\"dataframe\">\n",
              "  <thead>\n",
              "    <tr style=\"text-align: right;\">\n",
              "      <th></th>\n",
              "      <th>type</th>\n",
              "      <th>posts</th>\n",
              "    </tr>\n",
              "  </thead>\n",
              "  <tbody>\n",
              "    <tr>\n",
              "      <th>0</th>\n",
              "      <td>INFJ</td>\n",
              "      <td>'http://www.youtube.com/watch?v=qsXHcwe3krw|||...</td>\n",
              "    </tr>\n",
              "    <tr>\n",
              "      <th>1</th>\n",
              "      <td>ENTP</td>\n",
              "      <td>'I'm finding the lack of me in these posts ver...</td>\n",
              "    </tr>\n",
              "    <tr>\n",
              "      <th>2</th>\n",
              "      <td>INTP</td>\n",
              "      <td>'Good one  _____   https://www.youtube.com/wat...</td>\n",
              "    </tr>\n",
              "    <tr>\n",
              "      <th>3</th>\n",
              "      <td>INTJ</td>\n",
              "      <td>'Dear INTP,   I enjoyed our conversation the o...</td>\n",
              "    </tr>\n",
              "    <tr>\n",
              "      <th>4</th>\n",
              "      <td>ENTJ</td>\n",
              "      <td>'You're fired.|||That's another silly misconce...</td>\n",
              "    </tr>\n",
              "  </tbody>\n",
              "</table>\n",
              "</div>\n",
              "      <button class=\"colab-df-convert\" onclick=\"convertToInteractive('df-2e5a4cb9-956f-408d-8b6c-1d728efd557b')\"\n",
              "              title=\"Convert this dataframe to an interactive table.\"\n",
              "              style=\"display:none;\">\n",
              "        \n",
              "  <svg xmlns=\"http://www.w3.org/2000/svg\" height=\"24px\"viewBox=\"0 0 24 24\"\n",
              "       width=\"24px\">\n",
              "    <path d=\"M0 0h24v24H0V0z\" fill=\"none\"/>\n",
              "    <path d=\"M18.56 5.44l.94 2.06.94-2.06 2.06-.94-2.06-.94-.94-2.06-.94 2.06-2.06.94zm-11 1L8.5 8.5l.94-2.06 2.06-.94-2.06-.94L8.5 2.5l-.94 2.06-2.06.94zm10 10l.94 2.06.94-2.06 2.06-.94-2.06-.94-.94-2.06-.94 2.06-2.06.94z\"/><path d=\"M17.41 7.96l-1.37-1.37c-.4-.4-.92-.59-1.43-.59-.52 0-1.04.2-1.43.59L10.3 9.45l-7.72 7.72c-.78.78-.78 2.05 0 2.83L4 21.41c.39.39.9.59 1.41.59.51 0 1.02-.2 1.41-.59l7.78-7.78 2.81-2.81c.8-.78.8-2.07 0-2.86zM5.41 20L4 18.59l7.72-7.72 1.47 1.35L5.41 20z\"/>\n",
              "  </svg>\n",
              "      </button>\n",
              "      \n",
              "  <style>\n",
              "    .colab-df-container {\n",
              "      display:flex;\n",
              "      flex-wrap:wrap;\n",
              "      gap: 12px;\n",
              "    }\n",
              "\n",
              "    .colab-df-convert {\n",
              "      background-color: #E8F0FE;\n",
              "      border: none;\n",
              "      border-radius: 50%;\n",
              "      cursor: pointer;\n",
              "      display: none;\n",
              "      fill: #1967D2;\n",
              "      height: 32px;\n",
              "      padding: 0 0 0 0;\n",
              "      width: 32px;\n",
              "    }\n",
              "\n",
              "    .colab-df-convert:hover {\n",
              "      background-color: #E2EBFA;\n",
              "      box-shadow: 0px 1px 2px rgba(60, 64, 67, 0.3), 0px 1px 3px 1px rgba(60, 64, 67, 0.15);\n",
              "      fill: #174EA6;\n",
              "    }\n",
              "\n",
              "    [theme=dark] .colab-df-convert {\n",
              "      background-color: #3B4455;\n",
              "      fill: #D2E3FC;\n",
              "    }\n",
              "\n",
              "    [theme=dark] .colab-df-convert:hover {\n",
              "      background-color: #434B5C;\n",
              "      box-shadow: 0px 1px 3px 1px rgba(0, 0, 0, 0.15);\n",
              "      filter: drop-shadow(0px 1px 2px rgba(0, 0, 0, 0.3));\n",
              "      fill: #FFFFFF;\n",
              "    }\n",
              "  </style>\n",
              "\n",
              "      <script>\n",
              "        const buttonEl =\n",
              "          document.querySelector('#df-2e5a4cb9-956f-408d-8b6c-1d728efd557b button.colab-df-convert');\n",
              "        buttonEl.style.display =\n",
              "          google.colab.kernel.accessAllowed ? 'block' : 'none';\n",
              "\n",
              "        async function convertToInteractive(key) {\n",
              "          const element = document.querySelector('#df-2e5a4cb9-956f-408d-8b6c-1d728efd557b');\n",
              "          const dataTable =\n",
              "            await google.colab.kernel.invokeFunction('convertToInteractive',\n",
              "                                                     [key], {});\n",
              "          if (!dataTable) return;\n",
              "\n",
              "          const docLinkHtml = 'Like what you see? Visit the ' +\n",
              "            '<a target=\"_blank\" href=https://colab.research.google.com/notebooks/data_table.ipynb>data table notebook</a>'\n",
              "            + ' to learn more about interactive tables.';\n",
              "          element.innerHTML = '';\n",
              "          dataTable['output_type'] = 'display_data';\n",
              "          await google.colab.output.renderOutput(dataTable, element);\n",
              "          const docLink = document.createElement('div');\n",
              "          docLink.innerHTML = docLinkHtml;\n",
              "          element.appendChild(docLink);\n",
              "        }\n",
              "      </script>\n",
              "    </div>\n",
              "  </div>\n",
              "  "
            ]
          },
          "metadata": {},
          "execution_count": 7
        }
      ],
      "source": [
        "#First 5 rows of dataset is as follows\n",
        "mbti_df.head()"
      ]
    },
    {
      "cell_type": "code",
      "execution_count": 8,
      "metadata": {
        "colab": {
          "base_uri": "https://localhost:8080/"
        },
        "id": "x1IMFOCKHIYX",
        "outputId": "956af55f-2d41-4cfc-c8f7-316261869b41"
      },
      "outputs": [
        {
          "output_type": "execute_result",
          "data": {
            "text/plain": [
              "(8675, 2)"
            ]
          },
          "metadata": {},
          "execution_count": 8
        }
      ],
      "source": [
        "mbti_df.shape"
      ]
    },
    {
      "cell_type": "code",
      "execution_count": 9,
      "metadata": {
        "colab": {
          "base_uri": "https://localhost:8080/"
        },
        "id": "J1GjnTCiHM3Q",
        "outputId": "ace92f3c-12dc-4da1-ad48-8ad2c5b5bb51"
      },
      "outputs": [
        {
          "output_type": "stream",
          "name": "stdout",
          "text": [
            "<class 'pandas.core.frame.DataFrame'>\n",
            "RangeIndex: 8675 entries, 0 to 8674\n",
            "Data columns (total 2 columns):\n",
            " #   Column  Non-Null Count  Dtype \n",
            "---  ------  --------------  ----- \n",
            " 0   type    8675 non-null   object\n",
            " 1   posts   8675 non-null   object\n",
            "dtypes: object(2)\n",
            "memory usage: 135.7+ KB\n"
          ]
        }
      ],
      "source": [
        "mbti_df.info()"
      ]
    },
    {
      "cell_type": "code",
      "execution_count": 10,
      "metadata": {
        "colab": {
          "base_uri": "https://localhost:8080/",
          "height": 175
        },
        "id": "4csFzph8HQSz",
        "outputId": "a4445110-2297-4cc5-db9a-6ba840b64594"
      },
      "outputs": [
        {
          "output_type": "execute_result",
          "data": {
            "text/plain": [
              "        type                                              posts\n",
              "count   8675                                               8675\n",
              "unique    16                                               8675\n",
              "top     INFP  'http://www.youtube.com/watch?v=qsXHcwe3krw|||...\n",
              "freq    1832                                                  1"
            ],
            "text/html": [
              "\n",
              "  <div id=\"df-c24f4cc7-6d31-4528-b51a-2c111e362322\">\n",
              "    <div class=\"colab-df-container\">\n",
              "      <div>\n",
              "<style scoped>\n",
              "    .dataframe tbody tr th:only-of-type {\n",
              "        vertical-align: middle;\n",
              "    }\n",
              "\n",
              "    .dataframe tbody tr th {\n",
              "        vertical-align: top;\n",
              "    }\n",
              "\n",
              "    .dataframe thead th {\n",
              "        text-align: right;\n",
              "    }\n",
              "</style>\n",
              "<table border=\"1\" class=\"dataframe\">\n",
              "  <thead>\n",
              "    <tr style=\"text-align: right;\">\n",
              "      <th></th>\n",
              "      <th>type</th>\n",
              "      <th>posts</th>\n",
              "    </tr>\n",
              "  </thead>\n",
              "  <tbody>\n",
              "    <tr>\n",
              "      <th>count</th>\n",
              "      <td>8675</td>\n",
              "      <td>8675</td>\n",
              "    </tr>\n",
              "    <tr>\n",
              "      <th>unique</th>\n",
              "      <td>16</td>\n",
              "      <td>8675</td>\n",
              "    </tr>\n",
              "    <tr>\n",
              "      <th>top</th>\n",
              "      <td>INFP</td>\n",
              "      <td>'http://www.youtube.com/watch?v=qsXHcwe3krw|||...</td>\n",
              "    </tr>\n",
              "    <tr>\n",
              "      <th>freq</th>\n",
              "      <td>1832</td>\n",
              "      <td>1</td>\n",
              "    </tr>\n",
              "  </tbody>\n",
              "</table>\n",
              "</div>\n",
              "      <button class=\"colab-df-convert\" onclick=\"convertToInteractive('df-c24f4cc7-6d31-4528-b51a-2c111e362322')\"\n",
              "              title=\"Convert this dataframe to an interactive table.\"\n",
              "              style=\"display:none;\">\n",
              "        \n",
              "  <svg xmlns=\"http://www.w3.org/2000/svg\" height=\"24px\"viewBox=\"0 0 24 24\"\n",
              "       width=\"24px\">\n",
              "    <path d=\"M0 0h24v24H0V0z\" fill=\"none\"/>\n",
              "    <path d=\"M18.56 5.44l.94 2.06.94-2.06 2.06-.94-2.06-.94-.94-2.06-.94 2.06-2.06.94zm-11 1L8.5 8.5l.94-2.06 2.06-.94-2.06-.94L8.5 2.5l-.94 2.06-2.06.94zm10 10l.94 2.06.94-2.06 2.06-.94-2.06-.94-.94-2.06-.94 2.06-2.06.94z\"/><path d=\"M17.41 7.96l-1.37-1.37c-.4-.4-.92-.59-1.43-.59-.52 0-1.04.2-1.43.59L10.3 9.45l-7.72 7.72c-.78.78-.78 2.05 0 2.83L4 21.41c.39.39.9.59 1.41.59.51 0 1.02-.2 1.41-.59l7.78-7.78 2.81-2.81c.8-.78.8-2.07 0-2.86zM5.41 20L4 18.59l7.72-7.72 1.47 1.35L5.41 20z\"/>\n",
              "  </svg>\n",
              "      </button>\n",
              "      \n",
              "  <style>\n",
              "    .colab-df-container {\n",
              "      display:flex;\n",
              "      flex-wrap:wrap;\n",
              "      gap: 12px;\n",
              "    }\n",
              "\n",
              "    .colab-df-convert {\n",
              "      background-color: #E8F0FE;\n",
              "      border: none;\n",
              "      border-radius: 50%;\n",
              "      cursor: pointer;\n",
              "      display: none;\n",
              "      fill: #1967D2;\n",
              "      height: 32px;\n",
              "      padding: 0 0 0 0;\n",
              "      width: 32px;\n",
              "    }\n",
              "\n",
              "    .colab-df-convert:hover {\n",
              "      background-color: #E2EBFA;\n",
              "      box-shadow: 0px 1px 2px rgba(60, 64, 67, 0.3), 0px 1px 3px 1px rgba(60, 64, 67, 0.15);\n",
              "      fill: #174EA6;\n",
              "    }\n",
              "\n",
              "    [theme=dark] .colab-df-convert {\n",
              "      background-color: #3B4455;\n",
              "      fill: #D2E3FC;\n",
              "    }\n",
              "\n",
              "    [theme=dark] .colab-df-convert:hover {\n",
              "      background-color: #434B5C;\n",
              "      box-shadow: 0px 1px 3px 1px rgba(0, 0, 0, 0.15);\n",
              "      filter: drop-shadow(0px 1px 2px rgba(0, 0, 0, 0.3));\n",
              "      fill: #FFFFFF;\n",
              "    }\n",
              "  </style>\n",
              "\n",
              "      <script>\n",
              "        const buttonEl =\n",
              "          document.querySelector('#df-c24f4cc7-6d31-4528-b51a-2c111e362322 button.colab-df-convert');\n",
              "        buttonEl.style.display =\n",
              "          google.colab.kernel.accessAllowed ? 'block' : 'none';\n",
              "\n",
              "        async function convertToInteractive(key) {\n",
              "          const element = document.querySelector('#df-c24f4cc7-6d31-4528-b51a-2c111e362322');\n",
              "          const dataTable =\n",
              "            await google.colab.kernel.invokeFunction('convertToInteractive',\n",
              "                                                     [key], {});\n",
              "          if (!dataTable) return;\n",
              "\n",
              "          const docLinkHtml = 'Like what you see? Visit the ' +\n",
              "            '<a target=\"_blank\" href=https://colab.research.google.com/notebooks/data_table.ipynb>data table notebook</a>'\n",
              "            + ' to learn more about interactive tables.';\n",
              "          element.innerHTML = '';\n",
              "          dataTable['output_type'] = 'display_data';\n",
              "          await google.colab.output.renderOutput(dataTable, element);\n",
              "          const docLink = document.createElement('div');\n",
              "          docLink.innerHTML = docLinkHtml;\n",
              "          element.appendChild(docLink);\n",
              "        }\n",
              "      </script>\n",
              "    </div>\n",
              "  </div>\n",
              "  "
            ]
          },
          "metadata": {},
          "execution_count": 10
        }
      ],
      "source": [
        "mbti_df.describe()\n"
      ]
    },
    {
      "cell_type": "code",
      "execution_count": 11,
      "metadata": {
        "colab": {
          "base_uri": "https://localhost:8080/"
        },
        "id": "zn2vX7XOHTcp",
        "outputId": "d19c60fd-5ca5-4ab2-e0cd-ff352e21cd87"
      },
      "outputs": [
        {
          "output_type": "execute_result",
          "data": {
            "text/plain": [
              "type     False\n",
              "posts    False\n",
              "dtype: bool"
            ]
          },
          "metadata": {},
          "execution_count": 11
        }
      ],
      "source": [
        "mbti_df.isnull().any()"
      ]
    },
    {
      "cell_type": "code",
      "execution_count": 12,
      "metadata": {
        "colab": {
          "base_uri": "https://localhost:8080/"
        },
        "id": "NXPwzQBlHYPE",
        "outputId": "b3649995-3ba5-4efd-a89d-219276ad3045"
      },
      "outputs": [
        {
          "output_type": "execute_result",
          "data": {
            "text/plain": [
              "array(['ENFJ', 'ENFP', 'ENTJ', 'ENTP', 'ESFJ', 'ESFP', 'ESTJ', 'ESTP',\n",
              "       'INFJ', 'INFP', 'INTJ', 'INTP', 'ISFJ', 'ISFP', 'ISTJ', 'ISTP'],\n",
              "      dtype=object)"
            ]
          },
          "metadata": {},
          "execution_count": 12
        }
      ],
      "source": [
        "#Finding unique personality types\n",
        "personality = np.unique(np.array(mbti_df['type']))\n",
        "personality\n",
        "\n"
      ]
    },
    {
      "cell_type": "code",
      "execution_count": 13,
      "metadata": {
        "colab": {
          "base_uri": "https://localhost:8080/",
          "height": 583
        },
        "id": "rdaTC2R6Ha1T",
        "outputId": "a6b03228-8e76-445f-e9a7-03d5a2ff9c4d"
      },
      "outputs": [
        {
          "output_type": "execute_result",
          "data": {
            "text/plain": [
              "      posts\n",
              "type       \n",
              "ENFJ    190\n",
              "ENFP    675\n",
              "ENTJ    231\n",
              "ENTP    685\n",
              "ESFJ     42\n",
              "ESFP     48\n",
              "ESTJ     39\n",
              "ESTP     89\n",
              "INFJ   1470\n",
              "INFP   1832\n",
              "INTJ   1091\n",
              "INTP   1304\n",
              "ISFJ    166\n",
              "ISFP    271\n",
              "ISTJ    205\n",
              "ISTP    337"
            ],
            "text/html": [
              "\n",
              "  <div id=\"df-a28747b1-3cd4-4f6e-8493-03b8dc1b70c6\">\n",
              "    <div class=\"colab-df-container\">\n",
              "      <div>\n",
              "<style scoped>\n",
              "    .dataframe tbody tr th:only-of-type {\n",
              "        vertical-align: middle;\n",
              "    }\n",
              "\n",
              "    .dataframe tbody tr th {\n",
              "        vertical-align: top;\n",
              "    }\n",
              "\n",
              "    .dataframe thead th {\n",
              "        text-align: right;\n",
              "    }\n",
              "</style>\n",
              "<table border=\"1\" class=\"dataframe\">\n",
              "  <thead>\n",
              "    <tr style=\"text-align: right;\">\n",
              "      <th></th>\n",
              "      <th>posts</th>\n",
              "    </tr>\n",
              "    <tr>\n",
              "      <th>type</th>\n",
              "      <th></th>\n",
              "    </tr>\n",
              "  </thead>\n",
              "  <tbody>\n",
              "    <tr>\n",
              "      <th>ENFJ</th>\n",
              "      <td>190</td>\n",
              "    </tr>\n",
              "    <tr>\n",
              "      <th>ENFP</th>\n",
              "      <td>675</td>\n",
              "    </tr>\n",
              "    <tr>\n",
              "      <th>ENTJ</th>\n",
              "      <td>231</td>\n",
              "    </tr>\n",
              "    <tr>\n",
              "      <th>ENTP</th>\n",
              "      <td>685</td>\n",
              "    </tr>\n",
              "    <tr>\n",
              "      <th>ESFJ</th>\n",
              "      <td>42</td>\n",
              "    </tr>\n",
              "    <tr>\n",
              "      <th>ESFP</th>\n",
              "      <td>48</td>\n",
              "    </tr>\n",
              "    <tr>\n",
              "      <th>ESTJ</th>\n",
              "      <td>39</td>\n",
              "    </tr>\n",
              "    <tr>\n",
              "      <th>ESTP</th>\n",
              "      <td>89</td>\n",
              "    </tr>\n",
              "    <tr>\n",
              "      <th>INFJ</th>\n",
              "      <td>1470</td>\n",
              "    </tr>\n",
              "    <tr>\n",
              "      <th>INFP</th>\n",
              "      <td>1832</td>\n",
              "    </tr>\n",
              "    <tr>\n",
              "      <th>INTJ</th>\n",
              "      <td>1091</td>\n",
              "    </tr>\n",
              "    <tr>\n",
              "      <th>INTP</th>\n",
              "      <td>1304</td>\n",
              "    </tr>\n",
              "    <tr>\n",
              "      <th>ISFJ</th>\n",
              "      <td>166</td>\n",
              "    </tr>\n",
              "    <tr>\n",
              "      <th>ISFP</th>\n",
              "      <td>271</td>\n",
              "    </tr>\n",
              "    <tr>\n",
              "      <th>ISTJ</th>\n",
              "      <td>205</td>\n",
              "    </tr>\n",
              "    <tr>\n",
              "      <th>ISTP</th>\n",
              "      <td>337</td>\n",
              "    </tr>\n",
              "  </tbody>\n",
              "</table>\n",
              "</div>\n",
              "      <button class=\"colab-df-convert\" onclick=\"convertToInteractive('df-a28747b1-3cd4-4f6e-8493-03b8dc1b70c6')\"\n",
              "              title=\"Convert this dataframe to an interactive table.\"\n",
              "              style=\"display:none;\">\n",
              "        \n",
              "  <svg xmlns=\"http://www.w3.org/2000/svg\" height=\"24px\"viewBox=\"0 0 24 24\"\n",
              "       width=\"24px\">\n",
              "    <path d=\"M0 0h24v24H0V0z\" fill=\"none\"/>\n",
              "    <path d=\"M18.56 5.44l.94 2.06.94-2.06 2.06-.94-2.06-.94-.94-2.06-.94 2.06-2.06.94zm-11 1L8.5 8.5l.94-2.06 2.06-.94-2.06-.94L8.5 2.5l-.94 2.06-2.06.94zm10 10l.94 2.06.94-2.06 2.06-.94-2.06-.94-.94-2.06-.94 2.06-2.06.94z\"/><path d=\"M17.41 7.96l-1.37-1.37c-.4-.4-.92-.59-1.43-.59-.52 0-1.04.2-1.43.59L10.3 9.45l-7.72 7.72c-.78.78-.78 2.05 0 2.83L4 21.41c.39.39.9.59 1.41.59.51 0 1.02-.2 1.41-.59l7.78-7.78 2.81-2.81c.8-.78.8-2.07 0-2.86zM5.41 20L4 18.59l7.72-7.72 1.47 1.35L5.41 20z\"/>\n",
              "  </svg>\n",
              "      </button>\n",
              "      \n",
              "  <style>\n",
              "    .colab-df-container {\n",
              "      display:flex;\n",
              "      flex-wrap:wrap;\n",
              "      gap: 12px;\n",
              "    }\n",
              "\n",
              "    .colab-df-convert {\n",
              "      background-color: #E8F0FE;\n",
              "      border: none;\n",
              "      border-radius: 50%;\n",
              "      cursor: pointer;\n",
              "      display: none;\n",
              "      fill: #1967D2;\n",
              "      height: 32px;\n",
              "      padding: 0 0 0 0;\n",
              "      width: 32px;\n",
              "    }\n",
              "\n",
              "    .colab-df-convert:hover {\n",
              "      background-color: #E2EBFA;\n",
              "      box-shadow: 0px 1px 2px rgba(60, 64, 67, 0.3), 0px 1px 3px 1px rgba(60, 64, 67, 0.15);\n",
              "      fill: #174EA6;\n",
              "    }\n",
              "\n",
              "    [theme=dark] .colab-df-convert {\n",
              "      background-color: #3B4455;\n",
              "      fill: #D2E3FC;\n",
              "    }\n",
              "\n",
              "    [theme=dark] .colab-df-convert:hover {\n",
              "      background-color: #434B5C;\n",
              "      box-shadow: 0px 1px 3px 1px rgba(0, 0, 0, 0.15);\n",
              "      filter: drop-shadow(0px 1px 2px rgba(0, 0, 0, 0.3));\n",
              "      fill: #FFFFFF;\n",
              "    }\n",
              "  </style>\n",
              "\n",
              "      <script>\n",
              "        const buttonEl =\n",
              "          document.querySelector('#df-a28747b1-3cd4-4f6e-8493-03b8dc1b70c6 button.colab-df-convert');\n",
              "        buttonEl.style.display =\n",
              "          google.colab.kernel.accessAllowed ? 'block' : 'none';\n",
              "\n",
              "        async function convertToInteractive(key) {\n",
              "          const element = document.querySelector('#df-a28747b1-3cd4-4f6e-8493-03b8dc1b70c6');\n",
              "          const dataTable =\n",
              "            await google.colab.kernel.invokeFunction('convertToInteractive',\n",
              "                                                     [key], {});\n",
              "          if (!dataTable) return;\n",
              "\n",
              "          const docLinkHtml = 'Like what you see? Visit the ' +\n",
              "            '<a target=\"_blank\" href=https://colab.research.google.com/notebooks/data_table.ipynb>data table notebook</a>'\n",
              "            + ' to learn more about interactive tables.';\n",
              "          element.innerHTML = '';\n",
              "          dataTable['output_type'] = 'display_data';\n",
              "          await google.colab.output.renderOutput(dataTable, element);\n",
              "          const docLink = document.createElement('div');\n",
              "          docLink.innerHTML = docLinkHtml;\n",
              "          element.appendChild(docLink);\n",
              "        }\n",
              "      </script>\n",
              "    </div>\n",
              "  </div>\n",
              "  "
            ]
          },
          "metadata": {},
          "execution_count": 13
        }
      ],
      "source": [
        "#Now counting posts for each personality types\n",
        "personality_count = mbti_df.groupby(['type']).count()\n",
        "personality_count"
      ]
    },
    {
      "cell_type": "code",
      "execution_count": 14,
      "metadata": {
        "colab": {
          "base_uri": "https://localhost:8080/",
          "height": 630
        },
        "id": "YrQ1MnWuHeuF",
        "outputId": "dbba3336-54d3-4f68-a764-6ad17db0b620"
      },
      "outputs": [
        {
          "output_type": "display_data",
          "data": {
            "text/plain": [
              "<Figure size 1296x720 with 1 Axes>"
            ],
            "image/png": "[encoded data removed]"
          },
          "metadata": {
            "needs_background": "light"
          }
        }
      ],
      "source": [
        "#Plot to show above inference\n",
        "plt.figure(figsize=(18,10))\n",
        "sns.countplot(x='type', data=mbti_df, order=mbti_df.type.value_counts().index, orient='v')\n",
        "sns.set_context('talk')\n",
        "plt.title('Personality types distribution', fontsize=25)\n",
        "plt.savefig('mbti_count.png')\n",
        "plt.show()"
      ]
    },
    {
      "cell_type": "code",
      "execution_count": 15,
      "metadata": {
        "colab": {
          "base_uri": "https://localhost:8080/",
          "height": 638
        },
        "id": "G48iqG-fHl91",
        "outputId": "07bec983-f2ea-4209-bb6f-c9b9f124031d"
      },
      "outputs": [
        {
          "output_type": "display_data",
          "data": {
            "text/plain": [
              "<Figure size 720x720 with 1 Axes>"
            ],
            "image/png": "[encoded data removed]"
          },
          "metadata": {}
        }
      ],
      "source": [
        "plt.figure(figsize=(10, 10))\n",
        "plt.pie(mbti_df.type.value_counts(),labels=mbti_df['type'].unique(), autopct='%1.0f%%', pctdistance=1.1, labeldistance=1.2,shadow=True)\n",
        "plt.axis('equal')\n",
        "plt.show()"
      ]
    },
    {
      "cell_type": "code",
      "execution_count": 16,
      "metadata": {
        "id": "uc1pjoR2HrIe"
      },
      "outputs": [],
      "source": [
        "#Finding the most common words in all posts.\n",
        "token = list(mbti_df[\"posts\"].apply(lambda x: x.split()))\n",
        "words = []\n",
        "for x in token:\n",
        "  for y in x:\n",
        "    words.append(y.lower())"
      ]
    },
    {
      "cell_type": "code",
      "execution_count": 17,
      "metadata": {
        "colab": {
          "base_uri": "https://localhost:8080/"
        },
        "id": "oSE5MikYH_ST",
        "outputId": "d7748168-40c9-4828-f022-adfdc93d0357"
      },
      "outputs": [
        {
          "output_type": "execute_result",
          "data": {
            "text/plain": [
              "10637645"
            ]
          },
          "metadata": {},
          "execution_count": 17
        }
      ],
      "source": [
        "len(words)"
      ]
    },
    {
      "cell_type": "code",
      "execution_count": 18,
      "metadata": {
        "colab": {
          "base_uri": "https://localhost:8080/"
        },
        "id": "zYdBgX5MIChn",
        "outputId": "973c1665-f8a2-4ed3-cf65-8aa9b3a4de75"
      },
      "outputs": [
        {
          "output_type": "execute_result",
          "data": {
            "text/plain": [
              "[('i', 413264),\n",
              " ('to', 292828),\n",
              " ('the', 291403),\n",
              " ('a', 236147),\n",
              " ('and', 231306),\n",
              " ('of', 179142),\n",
              " ('you', 141051),\n",
              " ('that', 132347),\n",
              " ('is', 131382),\n",
              " ('in', 122883),\n",
              " ('my', 115436),\n",
              " ('it', 107963),\n",
              " ('but', 88792),\n",
              " ('for', 87566),\n",
              " ('have', 81062),\n",
              " ('with', 78310),\n",
              " ('be', 69920),\n",
              " ('are', 66820),\n",
              " ('not', 64033),\n",
              " ('like', 63392),\n",
              " (\"i'm\", 60107),\n",
              " ('an', 59939),\n",
              " ('this', 59556),\n",
              " ('on', 58501),\n",
              " ('as', 57556),\n",
              " ('was', 56578),\n",
              " ('me', 56247),\n",
              " ('just', 51854),\n",
              " ('if', 49754),\n",
              " ('so', 49638),\n",
              " ('or', 48203),\n",
              " (\"don't\", 46842),\n",
              " ('about', 46661),\n",
              " ('think', 46585),\n",
              " ('what', 45138),\n",
              " ('do', 44388),\n",
              " ('your', 43368),\n",
              " ('when', 39982),\n",
              " ('at', 39560),\n",
              " (\"it's\", 38823),\n",
              " ('can', 38514),\n",
              " ('people', 37633),\n",
              " ('they', 34027),\n",
              " ('all', 33521),\n",
              " ('would', 33377),\n",
              " ('really', 31982),\n",
              " ('more', 31848),\n",
              " ('know', 31375),\n",
              " ('get', 29450),\n",
              " ('we', 29363)]"
            ]
          },
          "metadata": {},
          "execution_count": 18
        }
      ],
      "source": [
        "Counter(words).most_common(50)"
      ]
    },
    {
      "cell_type": "code",
      "execution_count": 19,
      "metadata": {
        "colab": {
          "base_uri": "https://localhost:8080/",
          "height": 424
        },
        "id": "0CuyoOffIFM6",
        "outputId": "cf5ac3ea-da87-42a7-9bd2-4a00b491a8ba"
      },
      "outputs": [
        {
          "output_type": "execute_result",
          "data": {
            "text/plain": [
              "      type                                              posts\n",
              "0     INFJ  'http://www.youtube.com/watch?v=qsXHcwe3krw|||...\n",
              "1     ENTP  'I'm finding the lack of me in these posts ver...\n",
              "2     INTP  'Good one  _____   https://www.youtube.com/wat...\n",
              "3     INTJ  'Dear INTP,   I enjoyed our conversation the o...\n",
              "4     ENTJ  'You're fired.|||That's another silly misconce...\n",
              "...    ...                                                ...\n",
              "8670  ISFP  'https://www.youtube.com/watch?v=t8edHB_h908||...\n",
              "8671  ENFP  'So...if this thread already exists someplace ...\n",
              "8672  INTP  'So many questions when i do these things.  I ...\n",
              "8673  INFP  'I am very conflicted right now when it comes ...\n",
              "8674  INFP  'It has been too long since I have been on per...\n",
              "\n",
              "[8675 rows x 2 columns]"
            ],
            "text/html": [
              "\n",
              "  <div id=\"df-842f6e04-e028-45e6-a35e-a5747a88e553\">\n",
              "    <div class=\"colab-df-container\">\n",
              "      <div>\n",
              "<style scoped>\n",
              "    .dataframe tbody tr th:only-of-type {\n",
              "        vertical-align: middle;\n",
              "    }\n",
              "\n",
              "    .dataframe tbody tr th {\n",
              "        vertical-align: top;\n",
              "    }\n",
              "\n",
              "    .dataframe thead th {\n",
              "        text-align: right;\n",
              "    }\n",
              "</style>\n",
              "<table border=\"1\" class=\"dataframe\">\n",
              "  <thead>\n",
              "    <tr style=\"text-align: right;\">\n",
              "      <th></th>\n",
              "      <th>type</th>\n",
              "      <th>posts</th>\n",
              "    </tr>\n",
              "  </thead>\n",
              "  <tbody>\n",
              "    <tr>\n",
              "      <th>0</th>\n",
              "      <td>INFJ</td>\n",
              "      <td>'http://www.youtube.com/watch?v=qsXHcwe3krw|||...</td>\n",
              "    </tr>\n",
              "    <tr>\n",
              "      <th>1</th>\n",
              "      <td>ENTP</td>\n",
              "      <td>'I'm finding the lack of me in these posts ver...</td>\n",
              "    </tr>\n",
              "    <tr>\n",
              "      <th>2</th>\n",
              "      <td>INTP</td>\n",
              "      <td>'Good one  _____   https://www.youtube.com/wat...</td>\n",
              "    </tr>\n",
              "    <tr>\n",
              "      <th>3</th>\n",
              "      <td>INTJ</td>\n",
              "      <td>'Dear INTP,   I enjoyed our conversation the o...</td>\n",
              "    </tr>\n",
              "    <tr>\n",
              "      <th>4</th>\n",
              "      <td>ENTJ</td>\n",
              "      <td>'You're fired.|||That's another silly misconce...</td>\n",
              "    </tr>\n",
              "    <tr>\n",
              "      <th>...</th>\n",
              "      <td>...</td>\n",
              "      <td>...</td>\n",
              "    </tr>\n",
              "    <tr>\n",
              "      <th>8670</th>\n",
              "      <td>ISFP</td>\n",
              "      <td>'https://www.youtube.com/watch?v=t8edHB_h908||...</td>\n",
              "    </tr>\n",
              "    <tr>\n",
              "      <th>8671</th>\n",
              "      <td>ENFP</td>\n",
              "      <td>'So...if this thread already exists someplace ...</td>\n",
              "    </tr>\n",
              "    <tr>\n",
              "      <th>8672</th>\n",
              "      <td>INTP</td>\n",
              "      <td>'So many questions when i do these things.  I ...</td>\n",
              "    </tr>\n",
              "    <tr>\n",
              "      <th>8673</th>\n",
              "      <td>INFP</td>\n",
              "      <td>'I am very conflicted right now when it comes ...</td>\n",
              "    </tr>\n",
              "    <tr>\n",
              "      <th>8674</th>\n",
              "      <td>INFP</td>\n",
              "      <td>'It has been too long since I have been on per...</td>\n",
              "    </tr>\n",
              "  </tbody>\n",
              "</table>\n",
              "<p>8675 rows × 2 columns</p>\n",
              "</div>\n",
              "      <button class=\"colab-df-convert\" onclick=\"convertToInteractive('df-842f6e04-e028-45e6-a35e-a5747a88e553')\"\n",
              "              title=\"Convert this dataframe to an interactive table.\"\n",
              "              style=\"display:none;\">\n",
              "        \n",
              "  <svg xmlns=\"http://www.w3.org/2000/svg\" height=\"24px\"viewBox=\"0 0 24 24\"\n",
              "       width=\"24px\">\n",
              "    <path d=\"M0 0h24v24H0V0z\" fill=\"none\"/>\n",
              "    <path d=\"M18.56 5.44l.94 2.06.94-2.06 2.06-.94-2.06-.94-.94-2.06-.94 2.06-2.06.94zm-11 1L8.5 8.5l.94-2.06 2.06-.94-2.06-.94L8.5 2.5l-.94 2.06-2.06.94zm10 10l.94 2.06.94-2.06 2.06-.94-2.06-.94-.94-2.06-.94 2.06-2.06.94z\"/><path d=\"M17.41 7.96l-1.37-1.37c-.4-.4-.92-.59-1.43-.59-.52 0-1.04.2-1.43.59L10.3 9.45l-7.72 7.72c-.78.78-.78 2.05 0 2.83L4 21.41c.39.39.9.59 1.41.59.51 0 1.02-.2 1.41-.59l7.78-7.78 2.81-2.81c.8-.78.8-2.07 0-2.86zM5.41 20L4 18.59l7.72-7.72 1.47 1.35L5.41 20z\"/>\n",
              "  </svg>\n",
              "      </button>\n",
              "      \n",
              "  <style>\n",
              "    .colab-df-container {\n",
              "      display:flex;\n",
              "      flex-wrap:wrap;\n",
              "      gap: 12px;\n",
              "    }\n",
              "\n",
              "    .colab-df-convert {\n",
              "      background-color: #E8F0FE;\n",
              "      border: none;\n",
              "      border-radius: 50%;\n",
              "      cursor: pointer;\n",
              "      display: none;\n",
              "      fill: #1967D2;\n",
              "      height: 32px;\n",
              "      padding: 0 0 0 0;\n",
              "      width: 32px;\n",
              "    }\n",
              "\n",
              "    .colab-df-convert:hover {\n",
              "      background-color: #E2EBFA;\n",
              "      box-shadow: 0px 1px 2px rgba(60, 64, 67, 0.3), 0px 1px 3px 1px rgba(60, 64, 67, 0.15);\n",
              "      fill: #174EA6;\n",
              "    }\n",
              "\n",
              "    [theme=dark] .colab-df-convert {\n",
              "      background-color: #3B4455;\n",
              "      fill: #D2E3FC;\n",
              "    }\n",
              "\n",
              "    [theme=dark] .colab-df-convert:hover {\n",
              "      background-color: #434B5C;\n",
              "      box-shadow: 0px 1px 3px 1px rgba(0, 0, 0, 0.15);\n",
              "      filter: drop-shadow(0px 1px 2px rgba(0, 0, 0, 0.3));\n",
              "      fill: #FFFFFF;\n",
              "    }\n",
              "  </style>\n",
              "\n",
              "      <script>\n",
              "        const buttonEl =\n",
              "          document.querySelector('#df-842f6e04-e028-45e6-a35e-a5747a88e553 button.colab-df-convert');\n",
              "        buttonEl.style.display =\n",
              "          google.colab.kernel.accessAllowed ? 'block' : 'none';\n",
              "\n",
              "        async function convertToInteractive(key) {\n",
              "          const element = document.querySelector('#df-842f6e04-e028-45e6-a35e-a5747a88e553');\n",
              "          const dataTable =\n",
              "            await google.colab.kernel.invokeFunction('convertToInteractive',\n",
              "                                                     [key], {});\n",
              "          if (!dataTable) return;\n",
              "\n",
              "          const docLinkHtml = 'Like what you see? Visit the ' +\n",
              "            '<a target=\"_blank\" href=https://colab.research.google.com/notebooks/data_table.ipynb>data table notebook</a>'\n",
              "            + ' to learn more about interactive tables.';\n",
              "          element.innerHTML = '';\n",
              "          dataTable['output_type'] = 'display_data';\n",
              "          await google.colab.output.renderOutput(dataTable, element);\n",
              "          const docLink = document.createElement('div');\n",
              "          docLink.innerHTML = docLinkHtml;\n",
              "          element.appendChild(docLink);\n",
              "        }\n",
              "      </script>\n",
              "    </div>\n",
              "  </div>\n",
              "  "
            ]
          },
          "metadata": {},
          "execution_count": 19
        }
      ],
      "source": [
        "mbti_df\n"
      ]
    },
    {
      "cell_type": "code",
      "execution_count": 20,
      "metadata": {
        "id": "nEeATi_hIQQc"
      },
      "outputs": [],
      "source": [
        "mbti_df['posts'] = mbti_df['posts'].apply(lambda x: re.sub(r'https?:\\/\\/.*?[\\s+]', '', x.replace(\"|\",\" \") + \" \"))"
      ]
    },
    {
      "cell_type": "code",
      "execution_count": 21,
      "metadata": {
        "colab": {
          "base_uri": "https://localhost:8080/",
          "height": 206
        },
        "id": "puYSH64JIV9_",
        "outputId": "c9f3a06a-41e4-491c-9ee5-0dfb6aea5dd0"
      },
      "outputs": [
        {
          "output_type": "execute_result",
          "data": {
            "text/plain": [
              "   type                                              posts\n",
              "0  INFJ  '    enfp and intj moments   sportscenter not ...\n",
              "1  ENTP  'I'm finding the lack of me in these posts ver...\n",
              "2  INTP  'Good one  _____     Of course, to which I say...\n",
              "3  INTJ  'Dear INTP,   I enjoyed our conversation the o...\n",
              "4  ENTJ  'You're fired.   That's another silly misconce..."
            ],
            "text/html": [
              "\n",
              "  <div id=\"df-454aa6c8-3b59-41bb-90ca-afdabc52d0ce\">\n",
              "    <div class=\"colab-df-container\">\n",
              "      <div>\n",
              "<style scoped>\n",
              "    .dataframe tbody tr th:only-of-type {\n",
              "        vertical-align: middle;\n",
              "    }\n",
              "\n",
              "    .dataframe tbody tr th {\n",
              "        vertical-align: top;\n",
              "    }\n",
              "\n",
              "    .dataframe thead th {\n",
              "        text-align: right;\n",
              "    }\n",
              "</style>\n",
              "<table border=\"1\" class=\"dataframe\">\n",
              "  <thead>\n",
              "    <tr style=\"text-align: right;\">\n",
              "      <th></th>\n",
              "      <th>type</th>\n",
              "      <th>posts</th>\n",
              "    </tr>\n",
              "  </thead>\n",
              "  <tbody>\n",
              "    <tr>\n",
              "      <th>0</th>\n",
              "      <td>INFJ</td>\n",
              "      <td>'    enfp and intj moments   sportscenter not ...</td>\n",
              "    </tr>\n",
              "    <tr>\n",
              "      <th>1</th>\n",
              "      <td>ENTP</td>\n",
              "      <td>'I'm finding the lack of me in these posts ver...</td>\n",
              "    </tr>\n",
              "    <tr>\n",
              "      <th>2</th>\n",
              "      <td>INTP</td>\n",
              "      <td>'Good one  _____     Of course, to which I say...</td>\n",
              "    </tr>\n",
              "    <tr>\n",
              "      <th>3</th>\n",
              "      <td>INTJ</td>\n",
              "      <td>'Dear INTP,   I enjoyed our conversation the o...</td>\n",
              "    </tr>\n",
              "    <tr>\n",
              "      <th>4</th>\n",
              "      <td>ENTJ</td>\n",
              "      <td>'You're fired.   That's another silly misconce...</td>\n",
              "    </tr>\n",
              "  </tbody>\n",
              "</table>\n",
              "</div>\n",
              "      <button class=\"colab-df-convert\" onclick=\"convertToInteractive('df-454aa6c8-3b59-41bb-90ca-afdabc52d0ce')\"\n",
              "              title=\"Convert this dataframe to an interactive table.\"\n",
              "              style=\"display:none;\">\n",
              "        \n",
              "  <svg xmlns=\"http://www.w3.org/2000/svg\" height=\"24px\"viewBox=\"0 0 24 24\"\n",
              "       width=\"24px\">\n",
              "    <path d=\"M0 0h24v24H0V0z\" fill=\"none\"/>\n",
              "    <path d=\"M18.56 5.44l.94 2.06.94-2.06 2.06-.94-2.06-.94-.94-2.06-.94 2.06-2.06.94zm-11 1L8.5 8.5l.94-2.06 2.06-.94-2.06-.94L8.5 2.5l-.94 2.06-2.06.94zm10 10l.94 2.06.94-2.06 2.06-.94-2.06-.94-.94-2.06-.94 2.06-2.06.94z\"/><path d=\"M17.41 7.96l-1.37-1.37c-.4-.4-.92-.59-1.43-.59-.52 0-1.04.2-1.43.59L10.3 9.45l-7.72 7.72c-.78.78-.78 2.05 0 2.83L4 21.41c.39.39.9.59 1.41.59.51 0 1.02-.2 1.41-.59l7.78-7.78 2.81-2.81c.8-.78.8-2.07 0-2.86zM5.41 20L4 18.59l7.72-7.72 1.47 1.35L5.41 20z\"/>\n",
              "  </svg>\n",
              "      </button>\n",
              "      \n",
              "  <style>\n",
              "    .colab-df-container {\n",
              "      display:flex;\n",
              "      flex-wrap:wrap;\n",
              "      gap: 12px;\n",
              "    }\n",
              "\n",
              "    .colab-df-convert {\n",
              "      background-color: #E8F0FE;\n",
              "      border: none;\n",
              "      border-radius: 50%;\n",
              "      cursor: pointer;\n",
              "      display: none;\n",
              "      fill: #1967D2;\n",
              "      height: 32px;\n",
              "      padding: 0 0 0 0;\n",
              "      width: 32px;\n",
              "    }\n",
              "\n",
              "    .colab-df-convert:hover {\n",
              "      background-color: #E2EBFA;\n",
              "      box-shadow: 0px 1px 2px rgba(60, 64, 67, 0.3), 0px 1px 3px 1px rgba(60, 64, 67, 0.15);\n",
              "      fill: #174EA6;\n",
              "    }\n",
              "\n",
              "    [theme=dark] .colab-df-convert {\n",
              "      background-color: #3B4455;\n",
              "      fill: #D2E3FC;\n",
              "    }\n",
              "\n",
              "    [theme=dark] .colab-df-convert:hover {\n",
              "      background-color: #434B5C;\n",
              "      box-shadow: 0px 1px 3px 1px rgba(0, 0, 0, 0.15);\n",
              "      filter: drop-shadow(0px 1px 2px rgba(0, 0, 0, 0.3));\n",
              "      fill: #FFFFFF;\n",
              "    }\n",
              "  </style>\n",
              "\n",
              "      <script>\n",
              "        const buttonEl =\n",
              "          document.querySelector('#df-454aa6c8-3b59-41bb-90ca-afdabc52d0ce button.colab-df-convert');\n",
              "        buttonEl.style.display =\n",
              "          google.colab.kernel.accessAllowed ? 'block' : 'none';\n",
              "\n",
              "        async function convertToInteractive(key) {\n",
              "          const element = document.querySelector('#df-454aa6c8-3b59-41bb-90ca-afdabc52d0ce');\n",
              "          const dataTable =\n",
              "            await google.colab.kernel.invokeFunction('convertToInteractive',\n",
              "                                                     [key], {});\n",
              "          if (!dataTable) return;\n",
              "\n",
              "          const docLinkHtml = 'Like what you see? Visit the ' +\n",
              "            '<a target=\"_blank\" href=https://colab.research.google.com/notebooks/data_table.ipynb>data table notebook</a>'\n",
              "            + ' to learn more about interactive tables.';\n",
              "          element.innerHTML = '';\n",
              "          dataTable['output_type'] = 'display_data';\n",
              "          await google.colab.output.renderOutput(dataTable, element);\n",
              "          const docLink = document.createElement('div');\n",
              "          docLink.innerHTML = docLinkHtml;\n",
              "          element.appendChild(docLink);\n",
              "        }\n",
              "      </script>\n",
              "    </div>\n",
              "  </div>\n",
              "  "
            ]
          },
          "metadata": {},
          "execution_count": 21
        }
      ],
      "source": [
        "mbti_df.head()"
      ]
    },
    {
      "cell_type": "code",
      "execution_count": 22,
      "metadata": {
        "id": "P7FFJzhcIZaZ"
      },
      "outputs": [],
      "source": [
        "mbti_df[\"posts\"] = mbti_df[\"posts\"].apply(lambda x: re.sub(r'\\.', ' EOSTokenDot ', x + \" \"))\n",
        "mbti_df[\"posts\"] = mbti_df[\"posts\"].apply(lambda x: re.sub(r'\\?', ' EOSTokenQuest ', x + \" \"))\n",
        "mbti_df[\"posts\"] = mbti_df[\"posts\"].apply(lambda x: re.sub(r'!', ' EOSTokenExs ', x + \" \"))\n",
        "\n"
      ]
    },
    {
      "cell_type": "code",
      "execution_count": 23,
      "metadata": {
        "colab": {
          "base_uri": "https://localhost:8080/",
          "height": 206
        },
        "id": "J0m1KgMwIdAf",
        "outputId": "70ca7b09-34b6-41ff-cec9-46445eb97716"
      },
      "outputs": [
        {
          "output_type": "execute_result",
          "data": {
            "text/plain": [
              "   type                                              posts\n",
              "0  INFJ  '    enfp and intj moments   sportscenter not ...\n",
              "1  ENTP  'I'm finding the lack of me in these posts ver...\n",
              "2  INTP  'Good one  _____     Of course, to which I say...\n",
              "3  INTJ  'Dear INTP,   I enjoyed our conversation the o...\n",
              "4  ENTJ  'You're fired EOSTokenDot    That's another si..."
            ],
            "text/html": [
              "\n",
              "  <div id=\"df-42e20f28-86b2-41a3-821c-8259b95ba1cd\">\n",
              "    <div class=\"colab-df-container\">\n",
              "      <div>\n",
              "<style scoped>\n",
              "    .dataframe tbody tr th:only-of-type {\n",
              "        vertical-align: middle;\n",
              "    }\n",
              "\n",
              "    .dataframe tbody tr th {\n",
              "        vertical-align: top;\n",
              "    }\n",
              "\n",
              "    .dataframe thead th {\n",
              "        text-align: right;\n",
              "    }\n",
              "</style>\n",
              "<table border=\"1\" class=\"dataframe\">\n",
              "  <thead>\n",
              "    <tr style=\"text-align: right;\">\n",
              "      <th></th>\n",
              "      <th>type</th>\n",
              "      <th>posts</th>\n",
              "    </tr>\n",
              "  </thead>\n",
              "  <tbody>\n",
              "    <tr>\n",
              "      <th>0</th>\n",
              "      <td>INFJ</td>\n",
              "      <td>'    enfp and intj moments   sportscenter not ...</td>\n",
              "    </tr>\n",
              "    <tr>\n",
              "      <th>1</th>\n",
              "      <td>ENTP</td>\n",
              "      <td>'I'm finding the lack of me in these posts ver...</td>\n",
              "    </tr>\n",
              "    <tr>\n",
              "      <th>2</th>\n",
              "      <td>INTP</td>\n",
              "      <td>'Good one  _____     Of course, to which I say...</td>\n",
              "    </tr>\n",
              "    <tr>\n",
              "      <th>3</th>\n",
              "      <td>INTJ</td>\n",
              "      <td>'Dear INTP,   I enjoyed our conversation the o...</td>\n",
              "    </tr>\n",
              "    <tr>\n",
              "      <th>4</th>\n",
              "      <td>ENTJ</td>\n",
              "      <td>'You're fired EOSTokenDot    That's another si...</td>\n",
              "    </tr>\n",
              "  </tbody>\n",
              "</table>\n",
              "</div>\n",
              "      <button class=\"colab-df-convert\" onclick=\"convertToInteractive('df-42e20f28-86b2-41a3-821c-8259b95ba1cd')\"\n",
              "              title=\"Convert this dataframe to an interactive table.\"\n",
              "              style=\"display:none;\">\n",
              "        \n",
              "  <svg xmlns=\"http://www.w3.org/2000/svg\" height=\"24px\"viewBox=\"0 0 24 24\"\n",
              "       width=\"24px\">\n",
              "    <path d=\"M0 0h24v24H0V0z\" fill=\"none\"/>\n",
              "    <path d=\"M18.56 5.44l.94 2.06.94-2.06 2.06-.94-2.06-.94-.94-2.06-.94 2.06-2.06.94zm-11 1L8.5 8.5l.94-2.06 2.06-.94-2.06-.94L8.5 2.5l-.94 2.06-2.06.94zm10 10l.94 2.06.94-2.06 2.06-.94-2.06-.94-.94-2.06-.94 2.06-2.06.94z\"/><path d=\"M17.41 7.96l-1.37-1.37c-.4-.4-.92-.59-1.43-.59-.52 0-1.04.2-1.43.59L10.3 9.45l-7.72 7.72c-.78.78-.78 2.05 0 2.83L4 21.41c.39.39.9.59 1.41.59.51 0 1.02-.2 1.41-.59l7.78-7.78 2.81-2.81c.8-.78.8-2.07 0-2.86zM5.41 20L4 18.59l7.72-7.72 1.47 1.35L5.41 20z\"/>\n",
              "  </svg>\n",
              "      </button>\n",
              "      \n",
              "  <style>\n",
              "    .colab-df-container {\n",
              "      display:flex;\n",
              "      flex-wrap:wrap;\n",
              "      gap: 12px;\n",
              "    }\n",
              "\n",
              "    .colab-df-convert {\n",
              "      background-color: #E8F0FE;\n",
              "      border: none;\n",
              "      border-radius: 50%;\n",
              "      cursor: pointer;\n",
              "      display: none;\n",
              "      fill: #1967D2;\n",
              "      height: 32px;\n",
              "      padding: 0 0 0 0;\n",
              "      width: 32px;\n",
              "    }\n",
              "\n",
              "    .colab-df-convert:hover {\n",
              "      background-color: #E2EBFA;\n",
              "      box-shadow: 0px 1px 2px rgba(60, 64, 67, 0.3), 0px 1px 3px 1px rgba(60, 64, 67, 0.15);\n",
              "      fill: #174EA6;\n",
              "    }\n",
              "\n",
              "    [theme=dark] .colab-df-convert {\n",
              "      background-color: #3B4455;\n",
              "      fill: #D2E3FC;\n",
              "    }\n",
              "\n",
              "    [theme=dark] .colab-df-convert:hover {\n",
              "      background-color: #434B5C;\n",
              "      box-shadow: 0px 1px 3px 1px rgba(0, 0, 0, 0.15);\n",
              "      filter: drop-shadow(0px 1px 2px rgba(0, 0, 0, 0.3));\n",
              "      fill: #FFFFFF;\n",
              "    }\n",
              "  </style>\n",
              "\n",
              "      <script>\n",
              "        const buttonEl =\n",
              "          document.querySelector('#df-42e20f28-86b2-41a3-821c-8259b95ba1cd button.colab-df-convert');\n",
              "        buttonEl.style.display =\n",
              "          google.colab.kernel.accessAllowed ? 'block' : 'none';\n",
              "\n",
              "        async function convertToInteractive(key) {\n",
              "          const element = document.querySelector('#df-42e20f28-86b2-41a3-821c-8259b95ba1cd');\n",
              "          const dataTable =\n",
              "            await google.colab.kernel.invokeFunction('convertToInteractive',\n",
              "                                                     [key], {});\n",
              "          if (!dataTable) return;\n",
              "\n",
              "          const docLinkHtml = 'Like what you see? Visit the ' +\n",
              "            '<a target=\"_blank\" href=https://colab.research.google.com/notebooks/data_table.ipynb>data table notebook</a>'\n",
              "            + ' to learn more about interactive tables.';\n",
              "          element.innerHTML = '';\n",
              "          dataTable['output_type'] = 'display_data';\n",
              "          await google.colab.output.renderOutput(dataTable, element);\n",
              "          const docLink = document.createElement('div');\n",
              "          docLink.innerHTML = docLinkHtml;\n",
              "          element.appendChild(docLink);\n",
              "        }\n",
              "      </script>\n",
              "    </div>\n",
              "  </div>\n",
              "  "
            ]
          },
          "metadata": {},
          "execution_count": 23
        }
      ],
      "source": [
        "mbti_df.head()"
      ]
    },
    {
      "cell_type": "code",
      "execution_count": 24,
      "metadata": {
        "id": "bX3jz8NpIgPP"
      },
      "outputs": [],
      "source": [
        "mbti_df['posts'] = mbti_df['posts'].apply(lambda x: re.sub(r'[^a-zA-Z\\s]','',x))"
      ]
    },
    {
      "cell_type": "code",
      "execution_count": 25,
      "metadata": {
        "colab": {
          "base_uri": "https://localhost:8080/",
          "height": 206
        },
        "id": "CsdVpJ8nIjit",
        "outputId": "abff753c-b2ab-47bb-a18d-915d11c26187"
      },
      "outputs": [
        {
          "output_type": "execute_result",
          "data": {
            "text/plain": [
              "   type                                              posts\n",
              "0  INFJ      enfp and intj moments   sportscenter not t...\n",
              "1  ENTP  Im finding the lack of me in these posts very ...\n",
              "2  INTP  Good one       Of course to which I say I know...\n",
              "3  INTJ  Dear INTP   I enjoyed our conversation the oth...\n",
              "4  ENTJ  Youre fired EOSTokenDot    Thats another silly..."
            ],
            "text/html": [
              "\n",
              "  <div id=\"df-4cc3146c-3f72-4ba9-ad39-655a3a646f2f\">\n",
              "    <div class=\"colab-df-container\">\n",
              "      <div>\n",
              "<style scoped>\n",
              "    .dataframe tbody tr th:only-of-type {\n",
              "        vertical-align: middle;\n",
              "    }\n",
              "\n",
              "    .dataframe tbody tr th {\n",
              "        vertical-align: top;\n",
              "    }\n",
              "\n",
              "    .dataframe thead th {\n",
              "        text-align: right;\n",
              "    }\n",
              "</style>\n",
              "<table border=\"1\" class=\"dataframe\">\n",
              "  <thead>\n",
              "    <tr style=\"text-align: right;\">\n",
              "      <th></th>\n",
              "      <th>type</th>\n",
              "      <th>posts</th>\n",
              "    </tr>\n",
              "  </thead>\n",
              "  <tbody>\n",
              "    <tr>\n",
              "      <th>0</th>\n",
              "      <td>INFJ</td>\n",
              "      <td>enfp and intj moments   sportscenter not t...</td>\n",
              "    </tr>\n",
              "    <tr>\n",
              "      <th>1</th>\n",
              "      <td>ENTP</td>\n",
              "      <td>Im finding the lack of me in these posts very ...</td>\n",
              "    </tr>\n",
              "    <tr>\n",
              "      <th>2</th>\n",
              "      <td>INTP</td>\n",
              "      <td>Good one       Of course to which I say I know...</td>\n",
              "    </tr>\n",
              "    <tr>\n",
              "      <th>3</th>\n",
              "      <td>INTJ</td>\n",
              "      <td>Dear INTP   I enjoyed our conversation the oth...</td>\n",
              "    </tr>\n",
              "    <tr>\n",
              "      <th>4</th>\n",
              "      <td>ENTJ</td>\n",
              "      <td>Youre fired EOSTokenDot    Thats another silly...</td>\n",
              "    </tr>\n",
              "  </tbody>\n",
              "</table>\n",
              "</div>\n",
              "      <button class=\"colab-df-convert\" onclick=\"convertToInteractive('df-4cc3146c-3f72-4ba9-ad39-655a3a646f2f')\"\n",
              "              title=\"Convert this dataframe to an interactive table.\"\n",
              "              style=\"display:none;\">\n",
              "        \n",
              "  <svg xmlns=\"http://www.w3.org/2000/svg\" height=\"24px\"viewBox=\"0 0 24 24\"\n",
              "       width=\"24px\">\n",
              "    <path d=\"M0 0h24v24H0V0z\" fill=\"none\"/>\n",
              "    <path d=\"M18.56 5.44l.94 2.06.94-2.06 2.06-.94-2.06-.94-.94-2.06-.94 2.06-2.06.94zm-11 1L8.5 8.5l.94-2.06 2.06-.94-2.06-.94L8.5 2.5l-.94 2.06-2.06.94zm10 10l.94 2.06.94-2.06 2.06-.94-2.06-.94-.94-2.06-.94 2.06-2.06.94z\"/><path d=\"M17.41 7.96l-1.37-1.37c-.4-.4-.92-.59-1.43-.59-.52 0-1.04.2-1.43.59L10.3 9.45l-7.72 7.72c-.78.78-.78 2.05 0 2.83L4 21.41c.39.39.9.59 1.41.59.51 0 1.02-.2 1.41-.59l7.78-7.78 2.81-2.81c.8-.78.8-2.07 0-2.86zM5.41 20L4 18.59l7.72-7.72 1.47 1.35L5.41 20z\"/>\n",
              "  </svg>\n",
              "      </button>\n",
              "      \n",
              "  <style>\n",
              "    .colab-df-container {\n",
              "      display:flex;\n",
              "      flex-wrap:wrap;\n",
              "      gap: 12px;\n",
              "    }\n",
              "\n",
              "    .colab-df-convert {\n",
              "      background-color: #E8F0FE;\n",
              "      border: none;\n",
              "      border-radius: 50%;\n",
              "      cursor: pointer;\n",
              "      display: none;\n",
              "      fill: #1967D2;\n",
              "      height: 32px;\n",
              "      padding: 0 0 0 0;\n",
              "      width: 32px;\n",
              "    }\n",
              "\n",
              "    .colab-df-convert:hover {\n",
              "      background-color: #E2EBFA;\n",
              "      box-shadow: 0px 1px 2px rgba(60, 64, 67, 0.3), 0px 1px 3px 1px rgba(60, 64, 67, 0.15);\n",
              "      fill: #174EA6;\n",
              "    }\n",
              "\n",
              "    [theme=dark] .colab-df-convert {\n",
              "      background-color: #3B4455;\n",
              "      fill: #D2E3FC;\n",
              "    }\n",
              "\n",
              "    [theme=dark] .colab-df-convert:hover {\n",
              "      background-color: #434B5C;\n",
              "      box-shadow: 0px 1px 3px 1px rgba(0, 0, 0, 0.15);\n",
              "      filter: drop-shadow(0px 1px 2px rgba(0, 0, 0, 0.3));\n",
              "      fill: #FFFFFF;\n",
              "    }\n",
              "  </style>\n",
              "\n",
              "      <script>\n",
              "        const buttonEl =\n",
              "          document.querySelector('#df-4cc3146c-3f72-4ba9-ad39-655a3a646f2f button.colab-df-convert');\n",
              "        buttonEl.style.display =\n",
              "          google.colab.kernel.accessAllowed ? 'block' : 'none';\n",
              "\n",
              "        async function convertToInteractive(key) {\n",
              "          const element = document.querySelector('#df-4cc3146c-3f72-4ba9-ad39-655a3a646f2f');\n",
              "          const dataTable =\n",
              "            await google.colab.kernel.invokeFunction('convertToInteractive',\n",
              "                                                     [key], {});\n",
              "          if (!dataTable) return;\n",
              "\n",
              "          const docLinkHtml = 'Like what you see? Visit the ' +\n",
              "            '<a target=\"_blank\" href=https://colab.research.google.com/notebooks/data_table.ipynb>data table notebook</a>'\n",
              "            + ' to learn more about interactive tables.';\n",
              "          element.innerHTML = '';\n",
              "          dataTable['output_type'] = 'display_data';\n",
              "          await google.colab.output.renderOutput(dataTable, element);\n",
              "          const docLink = document.createElement('div');\n",
              "          docLink.innerHTML = docLinkHtml;\n",
              "          element.appendChild(docLink);\n",
              "        }\n",
              "      </script>\n",
              "    </div>\n",
              "  </div>\n",
              "  "
            ]
          },
          "metadata": {},
          "execution_count": 25
        }
      ],
      "source": [
        "mbti_df.head()"
      ]
    },
    {
      "cell_type": "code",
      "execution_count": 26,
      "metadata": {
        "id": "a-dL_5owIq-j"
      },
      "outputs": [],
      "source": [
        "mbti_df['posts'] = mbti_df['posts'].apply(lambda x: x.lower())"
      ]
    },
    {
      "cell_type": "code",
      "execution_count": 27,
      "metadata": {
        "colab": {
          "base_uri": "https://localhost:8080/",
          "height": 206
        },
        "id": "AYuZBIrvIufP",
        "outputId": "df6351b9-82f3-4045-d12e-b7c99af3ba1e"
      },
      "outputs": [
        {
          "output_type": "execute_result",
          "data": {
            "text/plain": [
              "   type                                              posts\n",
              "0  INFJ      enfp and intj moments   sportscenter not t...\n",
              "1  ENTP  im finding the lack of me in these posts very ...\n",
              "2  INTP  good one       of course to which i say i know...\n",
              "3  INTJ  dear intp   i enjoyed our conversation the oth...\n",
              "4  ENTJ  youre fired eostokendot    thats another silly..."
            ],
            "text/html": [
              "\n",
              "  <div id=\"df-d2773c57-0add-4dd3-97b9-944b2833e682\">\n",
              "    <div class=\"colab-df-container\">\n",
              "      <div>\n",
              "<style scoped>\n",
              "    .dataframe tbody tr th:only-of-type {\n",
              "        vertical-align: middle;\n",
              "    }\n",
              "\n",
              "    .dataframe tbody tr th {\n",
              "        vertical-align: top;\n",
              "    }\n",
              "\n",
              "    .dataframe thead th {\n",
              "        text-align: right;\n",
              "    }\n",
              "</style>\n",
              "<table border=\"1\" class=\"dataframe\">\n",
              "  <thead>\n",
              "    <tr style=\"text-align: right;\">\n",
              "      <th></th>\n",
              "      <th>type</th>\n",
              "      <th>posts</th>\n",
              "    </tr>\n",
              "  </thead>\n",
              "  <tbody>\n",
              "    <tr>\n",
              "      <th>0</th>\n",
              "      <td>INFJ</td>\n",
              "      <td>enfp and intj moments   sportscenter not t...</td>\n",
              "    </tr>\n",
              "    <tr>\n",
              "      <th>1</th>\n",
              "      <td>ENTP</td>\n",
              "      <td>im finding the lack of me in these posts very ...</td>\n",
              "    </tr>\n",
              "    <tr>\n",
              "      <th>2</th>\n",
              "      <td>INTP</td>\n",
              "      <td>good one       of course to which i say i know...</td>\n",
              "    </tr>\n",
              "    <tr>\n",
              "      <th>3</th>\n",
              "      <td>INTJ</td>\n",
              "      <td>dear intp   i enjoyed our conversation the oth...</td>\n",
              "    </tr>\n",
              "    <tr>\n",
              "      <th>4</th>\n",
              "      <td>ENTJ</td>\n",
              "      <td>youre fired eostokendot    thats another silly...</td>\n",
              "    </tr>\n",
              "  </tbody>\n",
              "</table>\n",
              "</div>\n",
              "      <button class=\"colab-df-convert\" onclick=\"convertToInteractive('df-d2773c57-0add-4dd3-97b9-944b2833e682')\"\n",
              "              title=\"Convert this dataframe to an interactive table.\"\n",
              "              style=\"display:none;\">\n",
              "        \n",
              "  <svg xmlns=\"http://www.w3.org/2000/svg\" height=\"24px\"viewBox=\"0 0 24 24\"\n",
              "       width=\"24px\">\n",
              "    <path d=\"M0 0h24v24H0V0z\" fill=\"none\"/>\n",
              "    <path d=\"M18.56 5.44l.94 2.06.94-2.06 2.06-.94-2.06-.94-.94-2.06-.94 2.06-2.06.94zm-11 1L8.5 8.5l.94-2.06 2.06-.94-2.06-.94L8.5 2.5l-.94 2.06-2.06.94zm10 10l.94 2.06.94-2.06 2.06-.94-2.06-.94-.94-2.06-.94 2.06-2.06.94z\"/><path d=\"M17.41 7.96l-1.37-1.37c-.4-.4-.92-.59-1.43-.59-.52 0-1.04.2-1.43.59L10.3 9.45l-7.72 7.72c-.78.78-.78 2.05 0 2.83L4 21.41c.39.39.9.59 1.41.59.51 0 1.02-.2 1.41-.59l7.78-7.78 2.81-2.81c.8-.78.8-2.07 0-2.86zM5.41 20L4 18.59l7.72-7.72 1.47 1.35L5.41 20z\"/>\n",
              "  </svg>\n",
              "      </button>\n",
              "      \n",
              "  <style>\n",
              "    .colab-df-container {\n",
              "      display:flex;\n",
              "      flex-wrap:wrap;\n",
              "      gap: 12px;\n",
              "    }\n",
              "\n",
              "    .colab-df-convert {\n",
              "      background-color: #E8F0FE;\n",
              "      border: none;\n",
              "      border-radius: 50%;\n",
              "      cursor: pointer;\n",
              "      display: none;\n",
              "      fill: #1967D2;\n",
              "      height: 32px;\n",
              "      padding: 0 0 0 0;\n",
              "      width: 32px;\n",
              "    }\n",
              "\n",
              "    .colab-df-convert:hover {\n",
              "      background-color: #E2EBFA;\n",
              "      box-shadow: 0px 1px 2px rgba(60, 64, 67, 0.3), 0px 1px 3px 1px rgba(60, 64, 67, 0.15);\n",
              "      fill: #174EA6;\n",
              "    }\n",
              "\n",
              "    [theme=dark] .colab-df-convert {\n",
              "      background-color: #3B4455;\n",
              "      fill: #D2E3FC;\n",
              "    }\n",
              "\n",
              "    [theme=dark] .colab-df-convert:hover {\n",
              "      background-color: #434B5C;\n",
              "      box-shadow: 0px 1px 3px 1px rgba(0, 0, 0, 0.15);\n",
              "      filter: drop-shadow(0px 1px 2px rgba(0, 0, 0, 0.3));\n",
              "      fill: #FFFFFF;\n",
              "    }\n",
              "  </style>\n",
              "\n",
              "      <script>\n",
              "        const buttonEl =\n",
              "          document.querySelector('#df-d2773c57-0add-4dd3-97b9-944b2833e682 button.colab-df-convert');\n",
              "        buttonEl.style.display =\n",
              "          google.colab.kernel.accessAllowed ? 'block' : 'none';\n",
              "\n",
              "        async function convertToInteractive(key) {\n",
              "          const element = document.querySelector('#df-d2773c57-0add-4dd3-97b9-944b2833e682');\n",
              "          const dataTable =\n",
              "            await google.colab.kernel.invokeFunction('convertToInteractive',\n",
              "                                                     [key], {});\n",
              "          if (!dataTable) return;\n",
              "\n",
              "          const docLinkHtml = 'Like what you see? Visit the ' +\n",
              "            '<a target=\"_blank\" href=https://colab.research.google.com/notebooks/data_table.ipynb>data table notebook</a>'\n",
              "            + ' to learn more about interactive tables.';\n",
              "          element.innerHTML = '';\n",
              "          dataTable['output_type'] = 'display_data';\n",
              "          await google.colab.output.renderOutput(dataTable, element);\n",
              "          const docLink = document.createElement('div');\n",
              "          docLink.innerHTML = docLinkHtml;\n",
              "          element.appendChild(docLink);\n",
              "        }\n",
              "      </script>\n",
              "    </div>\n",
              "  </div>\n",
              "  "
            ]
          },
          "metadata": {},
          "execution_count": 27
        }
      ],
      "source": [
        "mbti_df.head()"
      ]
    },
    {
      "cell_type": "code",
      "execution_count": 28,
      "metadata": {
        "id": "-5rQR15aIxkc"
      },
      "outputs": [],
      "source": [
        "mbti_df[\"posts\"] = mbti_df[\"posts\"].apply(lambda x: re.sub(r'([a-z])\\1{2,}[\\s|\\w]*','',x))"
      ]
    },
    {
      "cell_type": "code",
      "execution_count": 29,
      "metadata": {
        "colab": {
          "base_uri": "https://localhost:8080/",
          "height": 206
        },
        "id": "aggZwZs8I0yl",
        "outputId": "0df41441-7d33-45de-ad11-b9c3ce6ba000"
      },
      "outputs": [
        {
          "output_type": "execute_result",
          "data": {
            "text/plain": [
              "   type                                              posts\n",
              "0  INFJ      enfp and intj moments   sportscenter not t...\n",
              "1  ENTP  im finding the lack of me in these posts very ...\n",
              "2  INTP  good one       of course to which i say i know...\n",
              "3  INTJ  dear intp   i enjoyed our conversation the oth...\n",
              "4  ENTJ  youre fired eostokendot    thats another silly..."
            ],
            "text/html": [
              "\n",
              "  <div id=\"df-5ee6b9e8-4cd4-4cd3-8ba8-12ce5af807e9\">\n",
              "    <div class=\"colab-df-container\">\n",
              "      <div>\n",
              "<style scoped>\n",
              "    .dataframe tbody tr th:only-of-type {\n",
              "        vertical-align: middle;\n",
              "    }\n",
              "\n",
              "    .dataframe tbody tr th {\n",
              "        vertical-align: top;\n",
              "    }\n",
              "\n",
              "    .dataframe thead th {\n",
              "        text-align: right;\n",
              "    }\n",
              "</style>\n",
              "<table border=\"1\" class=\"dataframe\">\n",
              "  <thead>\n",
              "    <tr style=\"text-align: right;\">\n",
              "      <th></th>\n",
              "      <th>type</th>\n",
              "      <th>posts</th>\n",
              "    </tr>\n",
              "  </thead>\n",
              "  <tbody>\n",
              "    <tr>\n",
              "      <th>0</th>\n",
              "      <td>INFJ</td>\n",
              "      <td>enfp and intj moments   sportscenter not t...</td>\n",
              "    </tr>\n",
              "    <tr>\n",
              "      <th>1</th>\n",
              "      <td>ENTP</td>\n",
              "      <td>im finding the lack of me in these posts very ...</td>\n",
              "    </tr>\n",
              "    <tr>\n",
              "      <th>2</th>\n",
              "      <td>INTP</td>\n",
              "      <td>good one       of course to which i say i know...</td>\n",
              "    </tr>\n",
              "    <tr>\n",
              "      <th>3</th>\n",
              "      <td>INTJ</td>\n",
              "      <td>dear intp   i enjoyed our conversation the oth...</td>\n",
              "    </tr>\n",
              "    <tr>\n",
              "      <th>4</th>\n",
              "      <td>ENTJ</td>\n",
              "      <td>youre fired eostokendot    thats another silly...</td>\n",
              "    </tr>\n",
              "  </tbody>\n",
              "</table>\n",
              "</div>\n",
              "      <button class=\"colab-df-convert\" onclick=\"convertToInteractive('df-5ee6b9e8-4cd4-4cd3-8ba8-12ce5af807e9')\"\n",
              "              title=\"Convert this dataframe to an interactive table.\"\n",
              "              style=\"display:none;\">\n",
              "        \n",
              "  <svg xmlns=\"http://www.w3.org/2000/svg\" height=\"24px\"viewBox=\"0 0 24 24\"\n",
              "       width=\"24px\">\n",
              "    <path d=\"M0 0h24v24H0V0z\" fill=\"none\"/>\n",
              "    <path d=\"M18.56 5.44l.94 2.06.94-2.06 2.06-.94-2.06-.94-.94-2.06-.94 2.06-2.06.94zm-11 1L8.5 8.5l.94-2.06 2.06-.94-2.06-.94L8.5 2.5l-.94 2.06-2.06.94zm10 10l.94 2.06.94-2.06 2.06-.94-2.06-.94-.94-2.06-.94 2.06-2.06.94z\"/><path d=\"M17.41 7.96l-1.37-1.37c-.4-.4-.92-.59-1.43-.59-.52 0-1.04.2-1.43.59L10.3 9.45l-7.72 7.72c-.78.78-.78 2.05 0 2.83L4 21.41c.39.39.9.59 1.41.59.51 0 1.02-.2 1.41-.59l7.78-7.78 2.81-2.81c.8-.78.8-2.07 0-2.86zM5.41 20L4 18.59l7.72-7.72 1.47 1.35L5.41 20z\"/>\n",
              "  </svg>\n",
              "      </button>\n",
              "      \n",
              "  <style>\n",
              "    .colab-df-container {\n",
              "      display:flex;\n",
              "      flex-wrap:wrap;\n",
              "      gap: 12px;\n",
              "    }\n",
              "\n",
              "    .colab-df-convert {\n",
              "      background-color: #E8F0FE;\n",
              "      border: none;\n",
              "      border-radius: 50%;\n",
              "      cursor: pointer;\n",
              "      display: none;\n",
              "      fill: #1967D2;\n",
              "      height: 32px;\n",
              "      padding: 0 0 0 0;\n",
              "      width: 32px;\n",
              "    }\n",
              "\n",
              "    .colab-df-convert:hover {\n",
              "      background-color: #E2EBFA;\n",
              "      box-shadow: 0px 1px 2px rgba(60, 64, 67, 0.3), 0px 1px 3px 1px rgba(60, 64, 67, 0.15);\n",
              "      fill: #174EA6;\n",
              "    }\n",
              "\n",
              "    [theme=dark] .colab-df-convert {\n",
              "      background-color: #3B4455;\n",
              "      fill: #D2E3FC;\n",
              "    }\n",
              "\n",
              "    [theme=dark] .colab-df-convert:hover {\n",
              "      background-color: #434B5C;\n",
              "      box-shadow: 0px 1px 3px 1px rgba(0, 0, 0, 0.15);\n",
              "      filter: drop-shadow(0px 1px 2px rgba(0, 0, 0, 0.3));\n",
              "      fill: #FFFFFF;\n",
              "    }\n",
              "  </style>\n",
              "\n",
              "      <script>\n",
              "        const buttonEl =\n",
              "          document.querySelector('#df-5ee6b9e8-4cd4-4cd3-8ba8-12ce5af807e9 button.colab-df-convert');\n",
              "        buttonEl.style.display =\n",
              "          google.colab.kernel.accessAllowed ? 'block' : 'none';\n",
              "\n",
              "        async function convertToInteractive(key) {\n",
              "          const element = document.querySelector('#df-5ee6b9e8-4cd4-4cd3-8ba8-12ce5af807e9');\n",
              "          const dataTable =\n",
              "            await google.colab.kernel.invokeFunction('convertToInteractive',\n",
              "                                                     [key], {});\n",
              "          if (!dataTable) return;\n",
              "\n",
              "          const docLinkHtml = 'Like what you see? Visit the ' +\n",
              "            '<a target=\"_blank\" href=https://colab.research.google.com/notebooks/data_table.ipynb>data table notebook</a>'\n",
              "            + ' to learn more about interactive tables.';\n",
              "          element.innerHTML = '';\n",
              "          dataTable['output_type'] = 'display_data';\n",
              "          await google.colab.output.renderOutput(dataTable, element);\n",
              "          const docLink = document.createElement('div');\n",
              "          docLink.innerHTML = docLinkHtml;\n",
              "          element.appendChild(docLink);\n",
              "        }\n",
              "      </script>\n",
              "    </div>\n",
              "  </div>\n",
              "  "
            ]
          },
          "metadata": {},
          "execution_count": 29
        }
      ],
      "source": [
        "mbti_df.head()"
      ]
    },
    {
      "cell_type": "code",
      "execution_count": 30,
      "metadata": {
        "id": "7hpN3DS_I3uW"
      },
      "outputs": [],
      "source": [
        "#Remove parenthesis\n",
        "mbti_df[\"posts\"] = mbti_df[\"posts\"].apply(lambda x: re.sub('(\\[|\\()*\\d+(\\]|\\))*', ' ', x))"
      ]
    },
    {
      "cell_type": "code",
      "execution_count": 31,
      "metadata": {
        "id": "Fwvv0wXJJGc1"
      },
      "outputs": [],
      "source": [
        "#Remove spaces more than 1\n",
        "mbti_df[\"posts\"] = mbti_df[\"posts\"].apply(lambda x: re.sub(' +', ' ', x).lower())"
      ]
    },
    {
      "cell_type": "code",
      "execution_count": 32,
      "metadata": {
        "colab": {
          "base_uri": "https://localhost:8080/"
        },
        "id": "oqQhBHBhJJ9v",
        "outputId": "cd979a22-84dd-4074-a364-380b2971d2b1"
      },
      "outputs": [
        {
          "output_type": "stream",
          "name": "stderr",
          "text": [
            "[nltk_data] Downloading package wordnet to /root/nltk_data...\n",
            "[nltk_data] Downloading package omw-1.4 to /root/nltk_data...\n"
          ]
        },
        {
          "output_type": "execute_result",
          "data": {
            "text/plain": [
              "True"
            ]
          },
          "metadata": {},
          "execution_count": 32
        }
      ],
      "source": [
        "nltk.download('wordnet')\n",
        "nltk.download('omw-1.4')"
      ]
    },
    {
      "cell_type": "code",
      "execution_count": 33,
      "metadata": {
        "id": "gVMYpTSRJVAQ"
      },
      "outputs": [],
      "source": [
        "mbti_df['posts'] = mbti_df['posts'].apply(lambda x: WordNetLemmatizer().lemmatize(x))"
      ]
    },
    {
      "cell_type": "code",
      "execution_count": 34,
      "metadata": {
        "colab": {
          "base_uri": "https://localhost:8080/"
        },
        "id": "8rma1p-9J-qp",
        "outputId": "1ce9997b-2efd-4f1f-86d0-f7783492dc92"
      },
      "outputs": [
        {
          "output_type": "stream",
          "name": "stderr",
          "text": [
            "[nltk_data] Downloading package stopwords to /root/nltk_data...\n",
            "[nltk_data]   Unzipping corpora/stopwords.zip.\n"
          ]
        },
        {
          "output_type": "execute_result",
          "data": {
            "text/plain": [
              "True"
            ]
          },
          "metadata": {},
          "execution_count": 34
        }
      ],
      "source": [
        "nltk.download('stopwords')"
      ]
    },
    {
      "cell_type": "code",
      "execution_count": 35,
      "metadata": {
        "colab": {
          "base_uri": "https://localhost:8080/"
        },
        "id": "JCSdzv2dKFFp",
        "outputId": "9f59cb50-ab35-45d2-f8d8-868b485e5a79"
      },
      "outputs": [
        {
          "output_type": "stream",
          "name": "stdout",
          "text": [
            "['i', 'me', 'my', 'myself', 'we', 'our', 'ours', 'ourselves', 'you', \"you're\", \"you've\", \"you'll\", \"you'd\", 'your', 'yours', 'yourself', 'yourselves', 'he', 'him', 'his', 'himself', 'she', \"she's\", 'her', 'hers', 'herself', 'it', \"it's\", 'its', 'itself', 'they', 'them', 'their', 'theirs', 'themselves', 'what', 'which', 'who', 'whom', 'this', 'that', \"that'll\", 'these', 'those', 'am', 'is', 'are', 'was', 'were', 'be', 'been', 'being', 'have', 'has', 'had', 'having', 'do', 'does', 'did', 'doing', 'a', 'an', 'the', 'and', 'but', 'if', 'or', 'because', 'as', 'until', 'while', 'of', 'at', 'by', 'for', 'with', 'about', 'against', 'between', 'into', 'through', 'during', 'before', 'after', 'above', 'below', 'to', 'from', 'up', 'down', 'in', 'out', 'on', 'off', 'over', 'under', 'again', 'further', 'then', 'once', 'here', 'there', 'when', 'where', 'why', 'how', 'all', 'any', 'both', 'each', 'few', 'more', 'most', 'other', 'some', 'such', 'no', 'nor', 'not', 'only', 'own', 'same', 'so', 'than', 'too', 'very', 's', 't', 'can', 'will', 'just', 'don', \"don't\", 'should', \"should've\", 'now', 'd', 'll', 'm', 'o', 're', 've', 'y', 'ain', 'aren', \"aren't\", 'couldn', \"couldn't\", 'didn', \"didn't\", 'doesn', \"doesn't\", 'hadn', \"hadn't\", 'hasn', \"hasn't\", 'haven', \"haven't\", 'isn', \"isn't\", 'ma', 'mightn', \"mightn't\", 'mustn', \"mustn't\", 'needn', \"needn't\", 'shan', \"shan't\", 'shouldn', \"shouldn't\", 'wasn', \"wasn't\", 'weren', \"weren't\", 'won', \"won't\", 'wouldn', \"wouldn't\"]\n"
          ]
        }
      ],
      "source": [
        "print((stopwords.words('english')))"
      ]
    },
    {
      "cell_type": "code",
      "execution_count": 36,
      "metadata": {
        "id": "Yz7De5OBKGvO"
      },
      "outputs": [],
      "source": [
        "from sklearn import preprocessing\n",
        "label_encoder = preprocessing.LabelEncoder()\n",
        "Y= label_encoder.fit_transform(mbti_df['type'])"
      ]
    },
    {
      "cell_type": "code",
      "execution_count": 37,
      "metadata": {
        "colab": {
          "base_uri": "https://localhost:8080/"
        },
        "id": "lGDW5DrdKe8m",
        "outputId": "768ee076-805a-489c-c4d2-8cb525041160"
      },
      "outputs": [
        {
          "output_type": "stream",
          "name": "stdout",
          "text": [
            "(5812,) (5812,) (2863,) (2863,)\n"
          ]
        }
      ],
      "source": [
        "X_train, X_test, y_train, y_test = train_test_split(mbti_df['posts'], Y, test_size=0.33, stratify=Y, random_state=42)\n",
        "print ((X_train.shape),(y_train.shape),(X_test.shape),(y_test.shape))"
      ]
    },
    {
      "cell_type": "code",
      "execution_count": 38,
      "metadata": {
        "id": "JpfYGUrhKjkO"
      },
      "outputs": [],
      "source": [
        "# Vectorizing the posts along with filtering Stop-words\n",
        "vect = CountVectorizer(stop_words='english')"
      ]
    },
    {
      "cell_type": "code",
      "execution_count": 39,
      "metadata": {
        "id": "X0OiV5qLKn0V"
      },
      "outputs": [],
      "source": [
        "# Perform fitting on training data and then transforming it\n",
        "mbti_bow =  vect.fit(X_train)\n",
        "X_train_bow =  mbti_bow.transform(X_train)"
      ]
    },
    {
      "cell_type": "code",
      "execution_count": 40,
      "metadata": {
        "colab": {
          "base_uri": "https://localhost:8080/"
        },
        "id": "XadMD37WKshW",
        "outputId": "6afb577b-0993-4c69-d1d1-c98ce5ca0755"
      },
      "outputs": [
        {
          "output_type": "execute_result",
          "data": {
            "text/plain": [
              "(5812, 81787)"
            ]
          },
          "metadata": {},
          "execution_count": 40
        }
      ],
      "source": [
        "X_train_bow.shape"
      ]
    },
    {
      "cell_type": "code",
      "execution_count": 41,
      "metadata": {
        "id": "3FY-Z9fzKxwz"
      },
      "outputs": [],
      "source": [
        "#Transforming test dataset \n",
        "X_test_bow =  mbti_bow.transform(X_test)"
      ]
    },
    {
      "cell_type": "code",
      "execution_count": 42,
      "metadata": {
        "colab": {
          "base_uri": "https://localhost:8080/"
        },
        "id": "tlmiBi7AK0-m",
        "outputId": "e3b6a0c6-7a86-4f3a-a399-1e25fdc24da2"
      },
      "outputs": [
        {
          "output_type": "execute_result",
          "data": {
            "text/plain": [
              "(2863, 81787)"
            ]
          },
          "metadata": {},
          "execution_count": 42
        }
      ],
      "source": [
        "X_test_bow.shape"
      ]
    },
    {
      "cell_type": "code",
      "execution_count": 43,
      "metadata": {
        "id": "SkK_yr77K20G"
      },
      "outputs": [],
      "source": [
        "from sklearn.feature_extraction.text import TfidfVectorizer"
      ]
    },
    {
      "cell_type": "code",
      "execution_count": 44,
      "metadata": {
        "id": "StcX5o6fK7c9"
      },
      "outputs": [],
      "source": [
        "#Vectorizing posts along with filtering stop words\n",
        "vectorizer = TfidfVectorizer(stop_words='english')"
      ]
    },
    {
      "cell_type": "code",
      "execution_count": 45,
      "metadata": {
        "id": "XNGAZOcIK9kH"
      },
      "outputs": [],
      "source": [
        "#Fitting on training dataset\n",
        "mbti_tfidf = vectorizer.fit(X_train)"
      ]
    },
    {
      "cell_type": "code",
      "execution_count": 46,
      "metadata": {
        "id": "Wi3WBRuDK_6b"
      },
      "outputs": [],
      "source": [
        "#Performing transformation on train and test set\n",
        "X_train_tfidf = mbti_tfidf.transform(X_train)\n",
        "X_test_tfidf = mbti_tfidf.transform(X_test)"
      ]
    },
    {
      "cell_type": "code",
      "execution_count": 47,
      "metadata": {
        "colab": {
          "base_uri": "https://localhost:8080/"
        },
        "id": "BzpfY0tCLDPG",
        "outputId": "d43e052b-7481-46df-883f-164b0397ea15"
      },
      "outputs": [
        {
          "output_type": "execute_result",
          "data": {
            "text/plain": [
              "(5812, 81787)"
            ]
          },
          "metadata": {},
          "execution_count": 47
        }
      ],
      "source": [
        "X_train_tfidf.shape"
      ]
    },
    {
      "cell_type": "code",
      "execution_count": 48,
      "metadata": {
        "colab": {
          "base_uri": "https://localhost:8080/"
        },
        "id": "GAtX_D88LGPm",
        "outputId": "d98f9324-465c-46b3-84b9-5adf1d1f23d3"
      },
      "outputs": [
        {
          "output_type": "execute_result",
          "data": {
            "text/plain": [
              "(2863, 81787)"
            ]
          },
          "metadata": {},
          "execution_count": 48
        }
      ],
      "source": [
        "X_test_tfidf.shape"
      ]
    },
    {
      "cell_type": "code",
      "execution_count": 49,
      "metadata": {
        "id": "QMv-vSDULLCA"
      },
      "outputs": [],
      "source": [
        "basef1_bow = {}\n",
        "basef1_tfidf = {}"
      ]
    },
    {
      "cell_type": "code",
      "execution_count": 50,
      "metadata": {
        "colab": {
          "base_uri": "https://localhost:8080/"
        },
        "id": "LMkRtbr8LN1s",
        "outputId": "89b4bddf-5f53-4bf7-b06d-d240566c5970"
      },
      "outputs": [
        {
          "output_type": "stream",
          "name": "stdout",
          "text": [
            "              precision    recall  f1-score   support\n",
            "\n",
            "           0       0.00      0.00      0.00        63\n",
            "           1       0.50      0.01      0.02       223\n",
            "           2       0.00      0.00      0.00        76\n",
            "           3       1.00      0.01      0.02       226\n",
            "           4       0.00      0.00      0.00        14\n",
            "           5       0.00      0.00      0.00        16\n",
            "           6       0.00      0.00      0.00        13\n",
            "           7       0.00      0.00      0.00        29\n",
            "           8       0.57      0.32      0.41       485\n",
            "           9       0.29      0.94      0.44       605\n",
            "          10       0.75      0.21      0.33       360\n",
            "          11       0.43      0.52      0.47       430\n",
            "          12       0.00      0.00      0.00        55\n",
            "          13       0.00      0.00      0.00        89\n",
            "          14       0.00      0.00      0.00        68\n",
            "          15       0.00      0.00      0.00       111\n",
            "\n",
            "    accuracy                           0.36      2863\n",
            "   macro avg       0.22      0.13      0.11      2863\n",
            "weighted avg       0.43      0.36      0.28      2863\n",
            "\n"
          ]
        }
      ],
      "source": [
        "#SVC for BOW\n",
        "from sklearn.svm import SVC\n",
        "svm = SVC(random_state = 1)\n",
        "svm.fit(X_train_bow, y_train)\n",
        "\n",
        "Y_pred = svm.predict(X_test_bow)\n",
        "\n",
        "# find predictions\n",
        "print(classification_report(y_test,Y_pred))\n",
        "score = f1_score(y_test, Y_pred, average='micro')\n",
        "basef1_bow['SVM'] = score* 100.0"
      ]
    },
    {
      "cell_type": "code",
      "execution_count": 51,
      "metadata": {
        "colab": {
          "base_uri": "https://localhost:8080/"
        },
        "id": "tKQBj4y0MEKs",
        "outputId": "5910a9d6-882f-4596-f0cd-293f842ba9ed"
      },
      "outputs": [
        {
          "output_type": "stream",
          "name": "stdout",
          "text": [
            "              precision    recall  f1-score   support\n",
            "\n",
            "           0       0.00      0.00      0.00        63\n",
            "           1       0.63      0.24      0.35       223\n",
            "           2       1.00      0.01      0.03        76\n",
            "           3       0.60      0.28      0.38       226\n",
            "           4       0.00      0.00      0.00        14\n",
            "           5       0.00      0.00      0.00        16\n",
            "           6       0.00      0.00      0.00        13\n",
            "           7       0.00      0.00      0.00        29\n",
            "           8       0.60      0.55      0.57       485\n",
            "           9       0.41      0.89      0.56       605\n",
            "          10       0.65      0.50      0.56       360\n",
            "          11       0.53      0.74      0.62       430\n",
            "          12       0.50      0.02      0.04        55\n",
            "          13       0.50      0.02      0.04        89\n",
            "          14       0.50      0.01      0.03        68\n",
            "          15       0.77      0.18      0.29       111\n",
            "\n",
            "    accuracy                           0.50      2863\n",
            "   macro avg       0.42      0.22      0.22      2863\n",
            "weighted avg       0.54      0.50      0.45      2863\n",
            "\n"
          ]
        }
      ],
      "source": [
        "#SVC for Tf-IDF\n",
        "from sklearn.svm import SVC\n",
        "svm = SVC(random_state = 1)\n",
        "svm.fit(X_train_tfidf, y_train)\n",
        "\n",
        "Y_pred = svm.predict(X_test_tfidf)\n",
        "\n",
        "# find predictions\n",
        "print(classification_report(y_test,Y_pred))\n",
        "score = f1_score(y_test, Y_pred, average='micro')\n",
        "basef1_tfidf['SVM'] = score* 100.0"
      ]
    },
    {
      "cell_type": "code",
      "execution_count": 52,
      "metadata": {
        "colab": {
          "base_uri": "https://localhost:8080/"
        },
        "id": "wYnbdJc5MOrN",
        "outputId": "ef03392c-7781-4c7c-f087-79c4c0c59587"
      },
      "outputs": [
        {
          "output_type": "stream",
          "name": "stdout",
          "text": [
            "              precision    recall  f1-score   support\n",
            "\n",
            "           0       0.00      0.00      0.00        63\n",
            "           1       0.53      0.09      0.16       223\n",
            "           2       0.00      0.00      0.00        76\n",
            "           3       0.65      0.16      0.26       226\n",
            "           4       0.00      0.00      0.00        14\n",
            "           5       0.00      0.00      0.00        16\n",
            "           6       0.00      0.00      0.00        13\n",
            "           7       0.00      0.00      0.00        29\n",
            "           8       0.41      0.49      0.44       485\n",
            "           9       0.34      0.88      0.49       605\n",
            "          10       0.54      0.29      0.38       360\n",
            "          11       0.53      0.55      0.54       430\n",
            "          12       0.00      0.00      0.00        55\n",
            "          13       0.00      0.00      0.00        89\n",
            "          14       0.00      0.00      0.00        68\n",
            "          15       0.00      0.00      0.00       111\n",
            "\n",
            "    accuracy                           0.41      2863\n",
            "   macro avg       0.19      0.15      0.14      2863\n",
            "weighted avg       0.38      0.41      0.34      2863\n",
            "\n"
          ]
        }
      ],
      "source": [
        "#Random Forest for BOW\n",
        "random_forest = RandomForestClassifier(n_estimators=100, random_state = 1)\n",
        "random_forest.fit(X_train_bow, y_train)\n",
        "\n",
        "# make predictions for test data\n",
        "Y_pred = random_forest.predict(X_test_bow)\n",
        "\n",
        "# evaluate predictions\n",
        "print(classification_report(y_test,Y_pred))\n",
        "score = f1_score(y_test, Y_pred, average='micro')\n",
        "basef1_bow['Random Forest'] = score* 100.0"
      ]
    },
    {
      "cell_type": "code",
      "execution_count": 53,
      "metadata": {
        "colab": {
          "base_uri": "https://localhost:8080/"
        },
        "id": "Lzx_L2l2MRCd",
        "outputId": "dab00fb4-1bc2-4398-cc45-387aae3ded73"
      },
      "outputs": [
        {
          "output_type": "stream",
          "name": "stdout",
          "text": [
            "              precision    recall  f1-score   support\n",
            "\n",
            "           0       0.00      0.00      0.00        63\n",
            "           1       0.53      0.08      0.14       223\n",
            "           2       0.00      0.00      0.00        76\n",
            "           3       0.53      0.07      0.12       226\n",
            "           4       0.00      0.00      0.00        14\n",
            "           5       0.00      0.00      0.00        16\n",
            "           6       0.00      0.00      0.00        13\n",
            "           7       0.00      0.00      0.00        29\n",
            "           8       0.42      0.52      0.47       485\n",
            "           9       0.33      0.86      0.48       605\n",
            "          10       0.55      0.30      0.39       360\n",
            "          11       0.53      0.55      0.54       430\n",
            "          12       0.00      0.00      0.00        55\n",
            "          13       0.00      0.00      0.00        89\n",
            "          14       0.00      0.00      0.00        68\n",
            "          15       0.00      0.00      0.00       111\n",
            "\n",
            "    accuracy                           0.40      2863\n",
            "   macro avg       0.18      0.15      0.13      2863\n",
            "weighted avg       0.37      0.40      0.33      2863\n",
            "\n"
          ]
        }
      ],
      "source": [
        "#Random Forest for TF-IDF\n",
        "random_forest = RandomForestClassifier(n_estimators=100, random_state = 1)\n",
        "random_forest.fit(X_train_tfidf, y_train)\n",
        "\n",
        "# make predictions for test data\n",
        "Y_pred = random_forest.predict(X_test_tfidf)\n",
        "\n",
        "# evaluate predictions\n",
        "print(classification_report(y_test,Y_pred))\n",
        "score = f1_score(y_test, Y_pred, average='micro')\n",
        "basef1_tfidf['Random Forest'] = score* 100.0"
      ]
    },
    {
      "cell_type": "code",
      "execution_count": 54,
      "metadata": {
        "colab": {
          "base_uri": "https://localhost:8080/",
          "height": 112
        },
        "id": "vrSIJgqQMUCT",
        "outputId": "f1aa0f03-5f3f-4b92-bab1-f48a7406f397"
      },
      "outputs": [
        {
          "output_type": "execute_result",
          "data": {
            "text/plain": [
              "               F1-Score Baseline(%)\n",
              "SVM                       35.731750\n",
              "Random Forest             40.691582"
            ],
            "text/html": [
              "\n",
              "  <div id=\"df-895352df-7024-40c6-89f4-c2f812969e17\">\n",
              "    <div class=\"colab-df-container\">\n",
              "      <div>\n",
              "<style scoped>\n",
              "    .dataframe tbody tr th:only-of-type {\n",
              "        vertical-align: middle;\n",
              "    }\n",
              "\n",
              "    .dataframe tbody tr th {\n",
              "        vertical-align: top;\n",
              "    }\n",
              "\n",
              "    .dataframe thead th {\n",
              "        text-align: right;\n",
              "    }\n",
              "</style>\n",
              "<table border=\"1\" class=\"dataframe\">\n",
              "  <thead>\n",
              "    <tr style=\"text-align: right;\">\n",
              "      <th></th>\n",
              "      <th>F1-Score Baseline(%)</th>\n",
              "    </tr>\n",
              "  </thead>\n",
              "  <tbody>\n",
              "    <tr>\n",
              "      <th>SVM</th>\n",
              "      <td>35.731750</td>\n",
              "    </tr>\n",
              "    <tr>\n",
              "      <th>Random Forest</th>\n",
              "      <td>40.691582</td>\n",
              "    </tr>\n",
              "  </tbody>\n",
              "</table>\n",
              "</div>\n",
              "      <button class=\"colab-df-convert\" onclick=\"convertToInteractive('df-895352df-7024-40c6-89f4-c2f812969e17')\"\n",
              "              title=\"Convert this dataframe to an interactive table.\"\n",
              "              style=\"display:none;\">\n",
              "        \n",
              "  <svg xmlns=\"http://www.w3.org/2000/svg\" height=\"24px\"viewBox=\"0 0 24 24\"\n",
              "       width=\"24px\">\n",
              "    <path d=\"M0 0h24v24H0V0z\" fill=\"none\"/>\n",
              "    <path d=\"M18.56 5.44l.94 2.06.94-2.06 2.06-.94-2.06-.94-.94-2.06-.94 2.06-2.06.94zm-11 1L8.5 8.5l.94-2.06 2.06-.94-2.06-.94L8.5 2.5l-.94 2.06-2.06.94zm10 10l.94 2.06.94-2.06 2.06-.94-2.06-.94-.94-2.06-.94 2.06-2.06.94z\"/><path d=\"M17.41 7.96l-1.37-1.37c-.4-.4-.92-.59-1.43-.59-.52 0-1.04.2-1.43.59L10.3 9.45l-7.72 7.72c-.78.78-.78 2.05 0 2.83L4 21.41c.39.39.9.59 1.41.59.51 0 1.02-.2 1.41-.59l7.78-7.78 2.81-2.81c.8-.78.8-2.07 0-2.86zM5.41 20L4 18.59l7.72-7.72 1.47 1.35L5.41 20z\"/>\n",
              "  </svg>\n",
              "      </button>\n",
              "      \n",
              "  <style>\n",
              "    .colab-df-container {\n",
              "      display:flex;\n",
              "      flex-wrap:wrap;\n",
              "      gap: 12px;\n",
              "    }\n",
              "\n",
              "    .colab-df-convert {\n",
              "      background-color: #E8F0FE;\n",
              "      border: none;\n",
              "      border-radius: 50%;\n",
              "      cursor: pointer;\n",
              "      display: none;\n",
              "      fill: #1967D2;\n",
              "      height: 32px;\n",
              "      padding: 0 0 0 0;\n",
              "      width: 32px;\n",
              "    }\n",
              "\n",
              "    .colab-df-convert:hover {\n",
              "      background-color: #E2EBFA;\n",
              "      box-shadow: 0px 1px 2px rgba(60, 64, 67, 0.3), 0px 1px 3px 1px rgba(60, 64, 67, 0.15);\n",
              "      fill: #174EA6;\n",
              "    }\n",
              "\n",
              "    [theme=dark] .colab-df-convert {\n",
              "      background-color: #3B4455;\n",
              "      fill: #D2E3FC;\n",
              "    }\n",
              "\n",
              "    [theme=dark] .colab-df-convert:hover {\n",
              "      background-color: #434B5C;\n",
              "      box-shadow: 0px 1px 3px 1px rgba(0, 0, 0, 0.15);\n",
              "      filter: drop-shadow(0px 1px 2px rgba(0, 0, 0, 0.3));\n",
              "      fill: #FFFFFF;\n",
              "    }\n",
              "  </style>\n",
              "\n",
              "      <script>\n",
              "        const buttonEl =\n",
              "          document.querySelector('#df-895352df-7024-40c6-89f4-c2f812969e17 button.colab-df-convert');\n",
              "        buttonEl.style.display =\n",
              "          google.colab.kernel.accessAllowed ? 'block' : 'none';\n",
              "\n",
              "        async function convertToInteractive(key) {\n",
              "          const element = document.querySelector('#df-895352df-7024-40c6-89f4-c2f812969e17');\n",
              "          const dataTable =\n",
              "            await google.colab.kernel.invokeFunction('convertToInteractive',\n",
              "                                                     [key], {});\n",
              "          if (!dataTable) return;\n",
              "\n",
              "          const docLinkHtml = 'Like what you see? Visit the ' +\n",
              "            '<a target=\"_blank\" href=https://colab.research.google.com/notebooks/data_table.ipynb>data table notebook</a>'\n",
              "            + ' to learn more about interactive tables.';\n",
              "          element.innerHTML = '';\n",
              "          dataTable['output_type'] = 'display_data';\n",
              "          await google.colab.output.renderOutput(dataTable, element);\n",
              "          const docLink = document.createElement('div');\n",
              "          docLink.innerHTML = docLinkHtml;\n",
              "          element.appendChild(docLink);\n",
              "        }\n",
              "      </script>\n",
              "    </div>\n",
              "  </div>\n",
              "  "
            ]
          },
          "metadata": {},
          "execution_count": 54
        }
      ],
      "source": [
        "pd.DataFrame.from_dict(basef1_bow, orient='index', columns=['F1-Score Baseline(%)'])"
      ]
    },
    {
      "cell_type": "code",
      "execution_count": 55,
      "metadata": {
        "colab": {
          "base_uri": "https://localhost:8080/",
          "height": 112
        },
        "id": "jXto7shaMU3K",
        "outputId": "6f0205c8-8eb8-4754-aaff-24847327ec7d"
      },
      "outputs": [
        {
          "output_type": "execute_result",
          "data": {
            "text/plain": [
              "               F1-Score Achieved(TF-TDF)\n",
              "SVM                            50.471533\n",
              "Random Forest                  40.202585"
            ],
            "text/html": [
              "\n",
              "  <div id=\"df-3b2a1cb4-cd9e-4f00-83ae-4099a1d2633f\">\n",
              "    <div class=\"colab-df-container\">\n",
              "      <div>\n",
              "<style scoped>\n",
              "    .dataframe tbody tr th:only-of-type {\n",
              "        vertical-align: middle;\n",
              "    }\n",
              "\n",
              "    .dataframe tbody tr th {\n",
              "        vertical-align: top;\n",
              "    }\n",
              "\n",
              "    .dataframe thead th {\n",
              "        text-align: right;\n",
              "    }\n",
              "</style>\n",
              "<table border=\"1\" class=\"dataframe\">\n",
              "  <thead>\n",
              "    <tr style=\"text-align: right;\">\n",
              "      <th></th>\n",
              "      <th>F1-Score Achieved(TF-TDF)</th>\n",
              "    </tr>\n",
              "  </thead>\n",
              "  <tbody>\n",
              "    <tr>\n",
              "      <th>SVM</th>\n",
              "      <td>50.471533</td>\n",
              "    </tr>\n",
              "    <tr>\n",
              "      <th>Random Forest</th>\n",
              "      <td>40.202585</td>\n",
              "    </tr>\n",
              "  </tbody>\n",
              "</table>\n",
              "</div>\n",
              "      <button class=\"colab-df-convert\" onclick=\"convertToInteractive('df-3b2a1cb4-cd9e-4f00-83ae-4099a1d2633f')\"\n",
              "              title=\"Convert this dataframe to an interactive table.\"\n",
              "              style=\"display:none;\">\n",
              "        \n",
              "  <svg xmlns=\"http://www.w3.org/2000/svg\" height=\"24px\"viewBox=\"0 0 24 24\"\n",
              "       width=\"24px\">\n",
              "    <path d=\"M0 0h24v24H0V0z\" fill=\"none\"/>\n",
              "    <path d=\"M18.56 5.44l.94 2.06.94-2.06 2.06-.94-2.06-.94-.94-2.06-.94 2.06-2.06.94zm-11 1L8.5 8.5l.94-2.06 2.06-.94-2.06-.94L8.5 2.5l-.94 2.06-2.06.94zm10 10l.94 2.06.94-2.06 2.06-.94-2.06-.94-.94-2.06-.94 2.06-2.06.94z\"/><path d=\"M17.41 7.96l-1.37-1.37c-.4-.4-.92-.59-1.43-.59-.52 0-1.04.2-1.43.59L10.3 9.45l-7.72 7.72c-.78.78-.78 2.05 0 2.83L4 21.41c.39.39.9.59 1.41.59.51 0 1.02-.2 1.41-.59l7.78-7.78 2.81-2.81c.8-.78.8-2.07 0-2.86zM5.41 20L4 18.59l7.72-7.72 1.47 1.35L5.41 20z\"/>\n",
              "  </svg>\n",
              "      </button>\n",
              "      \n",
              "  <style>\n",
              "    .colab-df-container {\n",
              "      display:flex;\n",
              "      flex-wrap:wrap;\n",
              "      gap: 12px;\n",
              "    }\n",
              "\n",
              "    .colab-df-convert {\n",
              "      background-color: #E8F0FE;\n",
              "      border: none;\n",
              "      border-radius: 50%;\n",
              "      cursor: pointer;\n",
              "      display: none;\n",
              "      fill: #1967D2;\n",
              "      height: 32px;\n",
              "      padding: 0 0 0 0;\n",
              "      width: 32px;\n",
              "    }\n",
              "\n",
              "    .colab-df-convert:hover {\n",
              "      background-color: #E2EBFA;\n",
              "      box-shadow: 0px 1px 2px rgba(60, 64, 67, 0.3), 0px 1px 3px 1px rgba(60, 64, 67, 0.15);\n",
              "      fill: #174EA6;\n",
              "    }\n",
              "\n",
              "    [theme=dark] .colab-df-convert {\n",
              "      background-color: #3B4455;\n",
              "      fill: #D2E3FC;\n",
              "    }\n",
              "\n",
              "    [theme=dark] .colab-df-convert:hover {\n",
              "      background-color: #434B5C;\n",
              "      box-shadow: 0px 1px 3px 1px rgba(0, 0, 0, 0.15);\n",
              "      filter: drop-shadow(0px 1px 2px rgba(0, 0, 0, 0.3));\n",
              "      fill: #FFFFFF;\n",
              "    }\n",
              "  </style>\n",
              "\n",
              "      <script>\n",
              "        const buttonEl =\n",
              "          document.querySelector('#df-3b2a1cb4-cd9e-4f00-83ae-4099a1d2633f button.colab-df-convert');\n",
              "        buttonEl.style.display =\n",
              "          google.colab.kernel.accessAllowed ? 'block' : 'none';\n",
              "\n",
              "        async function convertToInteractive(key) {\n",
              "          const element = document.querySelector('#df-3b2a1cb4-cd9e-4f00-83ae-4099a1d2633f');\n",
              "          const dataTable =\n",
              "            await google.colab.kernel.invokeFunction('convertToInteractive',\n",
              "                                                     [key], {});\n",
              "          if (!dataTable) return;\n",
              "\n",
              "          const docLinkHtml = 'Like what you see? Visit the ' +\n",
              "            '<a target=\"_blank\" href=https://colab.research.google.com/notebooks/data_table.ipynb>data table notebook</a>'\n",
              "            + ' to learn more about interactive tables.';\n",
              "          element.innerHTML = '';\n",
              "          dataTable['output_type'] = 'display_data';\n",
              "          await google.colab.output.renderOutput(dataTable, element);\n",
              "          const docLink = document.createElement('div');\n",
              "          docLink.innerHTML = docLinkHtml;\n",
              "          element.appendChild(docLink);\n",
              "        }\n",
              "      </script>\n",
              "    </div>\n",
              "  </div>\n",
              "  "
            ]
          },
          "metadata": {},
          "execution_count": 55
        }
      ],
      "source": [
        "pd.DataFrame.from_dict(basef1_tfidf, orient='index', columns=['F1-Score Achieved(TF-TDF)'])"
      ]
    },
    {
      "cell_type": "code",
      "execution_count": 56,
      "metadata": {
        "colab": {
          "base_uri": "https://localhost:8080/",
          "height": 538
        },
        "id": "46Eg7tdRMZe9",
        "outputId": "28450d80-8c26-472f-94d7-dc06eff62460"
      },
      "outputs": [
        {
          "output_type": "display_data",
          "data": {
            "text/plain": [
              "<Figure size 720x576 with 1 Axes>"
            ],
            "image/png": "[encoded data removed]"
          },
          "metadata": {
            "needs_background": "light"
          }
        }
      ],
      "source": [
        "#Plot for comparision between baseline models\n",
        "X = ['SVM', 'Random Forest']\n",
        "basef1_bow_list = list(basef1_bow.values())\n",
        "basef1_tfidf_list =  list(basef1_tfidf.values())\n",
        "f1_bows = basef1_bow_list\n",
        "f1_tfidfs = basef1_tfidf_list\n",
        "  \n",
        "X_axis = np.arange(len(X))\n",
        "plt.figure(figsize=(10,8))   \n",
        "plt.bar(X_axis - 0.2, f1_bows, 0.4, label = 'BoW',color = 'yellow',edgecolor = 'black')\n",
        "plt.bar(X_axis + 0.2, f1_tfidfs, 0.4, label = 'TFIDF',color = 'purple',edgecolor = 'black')\n",
        "  \n",
        "plt.xticks(X_axis, X)\n",
        "plt.xlabel(\"Models\")\n",
        "plt.ylabel(\"F1 Score\")\n",
        "plt.title(\"Comparision of Baseline Models\")\n",
        "plt.legend()\n",
        "\n",
        "plt.show()"
      ]
    },
    {
      "cell_type": "code",
      "execution_count": 57,
      "metadata": {
        "id": "qtuWsiOPMaZh"
      },
      "outputs": [],
      "source": [
        "Newf1_bow = {}\n",
        "Newf1_tfidf = {}"
      ]
    },
    {
      "cell_type": "code",
      "execution_count": 58,
      "metadata": {
        "colab": {
          "base_uri": "https://localhost:8080/"
        },
        "id": "ADQ8OPZwMeDR",
        "outputId": "9d47d298-9221-4976-cfeb-c1070a4ecbf1"
      },
      "outputs": [
        {
          "output_type": "stream",
          "name": "stdout",
          "text": [
            "              precision    recall  f1-score   support\n",
            "\n",
            "           0       0.52      0.21      0.30        63\n",
            "           1       0.61      0.43      0.50       223\n",
            "           2       0.54      0.33      0.41        76\n",
            "           3       0.55      0.47      0.50       226\n",
            "           4       0.25      0.07      0.11        14\n",
            "           5       0.00      0.00      0.00        16\n",
            "           6       1.00      0.15      0.27        13\n",
            "           7       0.64      0.24      0.35        29\n",
            "           8       0.64      0.62      0.63       485\n",
            "           9       0.49      0.78      0.60       605\n",
            "          10       0.63      0.59      0.61       360\n",
            "          11       0.65      0.69      0.67       430\n",
            "          12       0.64      0.33      0.43        55\n",
            "          13       0.57      0.30      0.40        89\n",
            "          14       0.67      0.43      0.52        68\n",
            "          15       0.70      0.58      0.63       111\n",
            "\n",
            "    accuracy                           0.58      2863\n",
            "   macro avg       0.57      0.39      0.43      2863\n",
            "weighted avg       0.59      0.58      0.57      2863\n",
            "\n"
          ]
        }
      ],
      "source": [
        "#XG boost Classifier for BOW Model\n",
        "xgb = XGBClassifier()\n",
        "xgb.fit(X_train_bow,y_train)\n",
        "\n",
        "Y_pred = xgb.predict(X_test_bow)\n",
        "\n",
        "\n",
        "# evaluate predictions\n",
        "print(classification_report(y_test,Y_pred))\n",
        "score = f1_score(y_test, Y_pred, average='micro')\n",
        "Newf1_bow['XG Boost'] = score* 100.0"
      ]
    },
    {
      "cell_type": "code",
      "execution_count": 59,
      "metadata": {
        "colab": {
          "base_uri": "https://localhost:8080/"
        },
        "id": "ItEvUZrUMhqf",
        "outputId": "b4248435-6196-4026-fd92-106487842308"
      },
      "outputs": [
        {
          "output_type": "stream",
          "name": "stdout",
          "text": [
            "              precision    recall  f1-score   support\n",
            "\n",
            "           0       0.54      0.24      0.33        63\n",
            "           1       0.57      0.43      0.49       223\n",
            "           2       0.63      0.32      0.42        76\n",
            "           3       0.55      0.47      0.51       226\n",
            "           4       0.50      0.14      0.22        14\n",
            "           5       0.00      0.00      0.00        16\n",
            "           6       0.00      0.00      0.00        13\n",
            "           7       0.45      0.17      0.25        29\n",
            "           8       0.63      0.61      0.62       485\n",
            "           9       0.50      0.78      0.61       605\n",
            "          10       0.61      0.59      0.60       360\n",
            "          11       0.65      0.68      0.66       430\n",
            "          12       0.66      0.38      0.48        55\n",
            "          13       0.62      0.34      0.44        89\n",
            "          14       0.57      0.37      0.45        68\n",
            "          15       0.68      0.54      0.60       111\n",
            "\n",
            "    accuracy                           0.58      2863\n",
            "   macro avg       0.51      0.38      0.42      2863\n",
            "weighted avg       0.58      0.58      0.57      2863\n",
            "\n"
          ]
        }
      ],
      "source": [
        "#XG boost Classifier for TF-IDF\n",
        "xgb = XGBClassifier()\n",
        "xgb.fit(X_train_tfidf,y_train)\n",
        "\n",
        "Y_pred = xgb.predict(X_test_tfidf)\n",
        "\n",
        "\n",
        "# evaluate predictions\n",
        "print(classification_report(y_test,Y_pred))\n",
        "score = f1_score(y_test, Y_pred, average='micro')\n",
        "Newf1_tfidf['XG Boost'] = score* 100.0"
      ]
    },
    {
      "cell_type": "code",
      "execution_count": 60,
      "metadata": {
        "colab": {
          "base_uri": "https://localhost:8080/"
        },
        "id": "pQsBfXBnMlYT",
        "outputId": "2b410c5a-a0a7-4afd-aca2-43cd3d2e8074"
      },
      "outputs": [
        {
          "output_type": "stream",
          "name": "stdout",
          "text": [
            "Looking in indexes: https://pypi.org/simple, https://us-python.pkg.dev/colab-wheels/public/simple/\n",
            "Collecting catboost\n",
            "  Downloading catboost-1.1.1-cp37-none-manylinux1_x86_64.whl (76.6 MB)\n",
            "\u001b[K     |████████████████████████████████| 76.6 MB 1.3 MB/s \n",
            "\u001b[?25hRequirement already satisfied: pandas>=0.24.0 in /usr/local/lib/python3.7/dist-packages (from catboost) (1.3.5)\n",
            "Requirement already satisfied: graphviz in /usr/local/lib/python3.7/dist-packages (from catboost) (0.10.1)\n",
            "Requirement already satisfied: scipy in /usr/local/lib/python3.7/dist-packages (from catboost) (1.7.3)\n",
            "Requirement already satisfied: matplotlib in /usr/local/lib/python3.7/dist-packages (from catboost) (3.2.2)\n",
            "Requirement already satisfied: six in /usr/local/lib/python3.7/dist-packages (from catboost) (1.15.0)\n",
            "Requirement already satisfied: numpy>=1.16.0 in /usr/local/lib/python3.7/dist-packages (from catboost) (1.21.6)\n",
            "Requirement already satisfied: plotly in /usr/local/lib/python3.7/dist-packages (from catboost) (5.5.0)\n",
            "Requirement already satisfied: python-dateutil>=2.7.3 in /usr/local/lib/python3.7/dist-packages (from pandas>=0.24.0->catboost) (2.8.2)\n",
            "Requirement already satisfied: pytz>=2017.3 in /usr/local/lib/python3.7/dist-packages (from pandas>=0.24.0->catboost) (2022.5)\n",
            "Requirement already satisfied: cycler>=0.10 in /usr/local/lib/python3.7/dist-packages (from matplotlib->catboost) (0.11.0)\n",
            "Requirement already satisfied: kiwisolver>=1.0.1 in /usr/local/lib/python3.7/dist-packages (from matplotlib->catboost) (1.4.4)\n",
            "Requirement already satisfied: pyparsing!=2.0.4,!=2.1.2,!=2.1.6,>=2.0.1 in /usr/local/lib/python3.7/dist-packages (from matplotlib->catboost) (3.0.9)\n",
            "Requirement already satisfied: typing-extensions in /usr/local/lib/python3.7/dist-packages (from kiwisolver>=1.0.1->matplotlib->catboost) (4.1.1)\n",
            "Requirement already satisfied: tenacity>=6.2.0 in /usr/local/lib/python3.7/dist-packages (from plotly->catboost) (8.1.0)\n",
            "Installing collected packages: catboost\n",
            "Successfully installed catboost-1.1.1\n"
          ]
        }
      ],
      "source": [
        "pip install catboost"
      ]
    },
    {
      "cell_type": "code",
      "execution_count": 61,
      "metadata": {
        "colab": {
          "base_uri": "https://localhost:8080/"
        },
        "id": "2s1NpU_xMojQ",
        "outputId": "20baec18-7942-4956-9eda-66aed0fd0783"
      },
      "outputs": [
        {
          "output_type": "stream",
          "name": "stdout",
          "text": [
            "Learning rate set to 0.5\n",
            "0:\tlearn: 2.2468091\ttotal: 8.11s\tremaining: 6m 37s\n",
            "1:\tlearn: 2.0086316\ttotal: 17.2s\tremaining: 6m 52s\n",
            "2:\tlearn: 1.9065735\ttotal: 25.9s\tremaining: 6m 46s\n",
            "3:\tlearn: 1.8411378\ttotal: 37.4s\tremaining: 7m 9s\n",
            "4:\tlearn: 1.7646971\ttotal: 49.1s\tremaining: 7m 21s\n",
            "5:\tlearn: 1.7199275\ttotal: 54s\tremaining: 6m 36s\n",
            "6:\tlearn: 1.6563070\ttotal: 59s\tremaining: 6m 2s\n",
            "7:\tlearn: 1.6293240\ttotal: 1m 4s\tremaining: 5m 36s\n",
            "8:\tlearn: 1.6158091\ttotal: 1m 9s\tremaining: 5m 14s\n",
            "9:\tlearn: 1.5929751\ttotal: 1m 14s\tremaining: 4m 56s\n",
            "10:\tlearn: 1.5841710\ttotal: 1m 19s\tremaining: 4m 40s\n",
            "11:\tlearn: 1.5697990\ttotal: 1m 24s\tremaining: 4m 27s\n",
            "12:\tlearn: 1.5496557\ttotal: 1m 29s\tremaining: 4m 14s\n",
            "13:\tlearn: 1.5277135\ttotal: 1m 34s\tremaining: 4m 3s\n",
            "14:\tlearn: 1.5043157\ttotal: 1m 39s\tremaining: 3m 52s\n",
            "15:\tlearn: 1.5024639\ttotal: 1m 44s\tremaining: 3m 42s\n",
            "16:\tlearn: 1.4656779\ttotal: 1m 49s\tremaining: 3m 33s\n",
            "17:\tlearn: 1.4429899\ttotal: 1m 54s\tremaining: 3m 24s\n",
            "18:\tlearn: 1.4296146\ttotal: 1m 59s\tremaining: 3m 15s\n",
            "19:\tlearn: 1.4010853\ttotal: 2m 4s\tremaining: 3m 7s\n",
            "20:\tlearn: 1.3963664\ttotal: 2m 10s\tremaining: 2m 59s\n",
            "21:\tlearn: 1.3643792\ttotal: 2m 15s\tremaining: 2m 51s\n",
            "22:\tlearn: 1.3544628\ttotal: 2m 21s\tremaining: 2m 45s\n",
            "23:\tlearn: 1.3541934\ttotal: 2m 26s\tremaining: 2m 38s\n",
            "24:\tlearn: 1.3363994\ttotal: 2m 31s\tremaining: 2m 31s\n",
            "25:\tlearn: 1.3247888\ttotal: 2m 36s\tremaining: 2m 24s\n",
            "26:\tlearn: 1.3241256\ttotal: 2m 41s\tremaining: 2m 17s\n",
            "27:\tlearn: 1.3223987\ttotal: 2m 47s\tremaining: 2m 11s\n",
            "28:\tlearn: 1.3191221\ttotal: 2m 52s\tremaining: 2m 4s\n",
            "29:\tlearn: 1.3182629\ttotal: 2m 57s\tremaining: 1m 58s\n",
            "30:\tlearn: 1.3178974\ttotal: 3m 2s\tremaining: 1m 51s\n",
            "31:\tlearn: 1.3162221\ttotal: 3m 8s\tremaining: 1m 45s\n",
            "32:\tlearn: 1.3133870\ttotal: 3m 13s\tremaining: 1m 39s\n",
            "33:\tlearn: 1.3075434\ttotal: 3m 18s\tremaining: 1m 33s\n",
            "34:\tlearn: 1.3022749\ttotal: 3m 24s\tremaining: 1m 27s\n",
            "35:\tlearn: 1.2947523\ttotal: 3m 31s\tremaining: 1m 22s\n",
            "36:\tlearn: 1.2943019\ttotal: 3m 36s\tremaining: 1m 16s\n",
            "37:\tlearn: 1.2925203\ttotal: 3m 42s\tremaining: 1m 10s\n",
            "38:\tlearn: 1.2918262\ttotal: 3m 47s\tremaining: 1m 4s\n",
            "39:\tlearn: 1.2913273\ttotal: 3m 52s\tremaining: 58.2s\n",
            "40:\tlearn: 1.2906967\ttotal: 3m 57s\tremaining: 52.2s\n",
            "41:\tlearn: 1.2853023\ttotal: 4m 2s\tremaining: 46.3s\n",
            "42:\tlearn: 1.2712888\ttotal: 4m 8s\tremaining: 40.4s\n",
            "43:\tlearn: 1.2658704\ttotal: 4m 14s\tremaining: 34.7s\n",
            "44:\tlearn: 1.2636096\ttotal: 4m 22s\tremaining: 29.2s\n",
            "45:\tlearn: 1.2628212\ttotal: 4m 27s\tremaining: 23.3s\n",
            "46:\tlearn: 1.2623261\ttotal: 4m 32s\tremaining: 17.4s\n",
            "47:\tlearn: 1.2616693\ttotal: 4m 38s\tremaining: 11.6s\n",
            "48:\tlearn: 1.2610292\ttotal: 4m 43s\tremaining: 5.79s\n",
            "49:\tlearn: 1.2605200\ttotal: 4m 48s\tremaining: 0us\n",
            "              precision    recall  f1-score   support\n",
            "\n",
            "           0       0.60      0.19      0.29        63\n",
            "           1       0.57      0.39      0.46       223\n",
            "           2       0.51      0.25      0.34        76\n",
            "           3       0.50      0.41      0.45       226\n",
            "           4       0.00      0.00      0.00        14\n",
            "           5       0.00      0.00      0.00        16\n",
            "           6       0.00      0.00      0.00        13\n",
            "           7       0.40      0.07      0.12        29\n",
            "           8       0.60      0.58      0.59       485\n",
            "           9       0.45      0.75      0.56       605\n",
            "          10       0.59      0.60      0.59       360\n",
            "          11       0.64      0.65      0.65       430\n",
            "          12       0.57      0.29      0.39        55\n",
            "          13       0.66      0.28      0.39        89\n",
            "          14       0.56      0.32      0.41        68\n",
            "          15       0.72      0.55      0.62       111\n",
            "\n",
            "    accuracy                           0.55      2863\n",
            "   macro avg       0.46      0.33      0.37      2863\n",
            "weighted avg       0.56      0.55      0.53      2863\n",
            "\n"
          ]
        }
      ],
      "source": [
        "from catboost import CatBoostClassifier\n",
        "model = CatBoostClassifier(iterations=50)\n",
        "\n",
        "# fit the model with the training data\n",
        "model.fit(X_train_bow,y_train,plot=False)\n",
        "\n",
        "\n",
        "# predict the target on the train dataset\n",
        "Y_pred = model.predict(X_test_bow)\n",
        "# evaluate predictions\n",
        "print(classification_report(y_test,Y_pred))\n",
        "score = f1_score(y_test, Y_pred, average='micro')\n",
        "Newf1_bow['Cat Boost'] = score* 100.0"
      ]
    },
    {
      "cell_type": "code",
      "execution_count": 62,
      "metadata": {
        "colab": {
          "base_uri": "https://localhost:8080/"
        },
        "id": "qm9KGQiyMtYY",
        "outputId": "6f0e91ae-2dd5-4483-d7f1-a2f156478cf4"
      },
      "outputs": [
        {
          "output_type": "stream",
          "name": "stdout",
          "text": [
            "0:\tlearn: 2.4599538\ttotal: 23.1s\tremaining: 3m 28s\n",
            "1:\tlearn: 2.2244578\ttotal: 48.8s\tremaining: 3m 15s\n",
            "2:\tlearn: 2.0485224\ttotal: 1m 3s\tremaining: 2m 29s\n",
            "3:\tlearn: 1.9663957\ttotal: 1m 19s\tremaining: 1m 58s\n",
            "4:\tlearn: 1.9521576\ttotal: 1m 34s\tremaining: 1m 34s\n",
            "5:\tlearn: 1.8895459\ttotal: 1m 49s\tremaining: 1m 13s\n",
            "6:\tlearn: 1.8745604\ttotal: 2m 4s\tremaining: 53.4s\n",
            "7:\tlearn: 1.8223401\ttotal: 2m 20s\tremaining: 35.2s\n",
            "8:\tlearn: 1.7757363\ttotal: 2m 35s\tremaining: 17.3s\n",
            "9:\tlearn: 1.7062914\ttotal: 2m 51s\tremaining: 0us\n",
            "              precision    recall  f1-score   support\n",
            "\n",
            "           0       0.18      0.21      0.19        63\n",
            "           1       0.51      0.36      0.42       223\n",
            "           2       0.46      0.22      0.30        76\n",
            "           3       0.50      0.44      0.47       226\n",
            "           4       0.00      0.00      0.00        14\n",
            "           5       0.00      0.00      0.00        16\n",
            "           6       0.00      0.00      0.00        13\n",
            "           7       0.20      0.28      0.23        29\n",
            "           8       0.50      0.45      0.48       485\n",
            "           9       0.44      0.68      0.53       605\n",
            "          10       0.44      0.44      0.44       360\n",
            "          11       0.51      0.54      0.52       430\n",
            "          12       0.00      0.00      0.00        55\n",
            "          13       0.50      0.20      0.29        89\n",
            "          14       0.44      0.34      0.38        68\n",
            "          15       0.55      0.39      0.46       111\n",
            "\n",
            "    accuracy                           0.46      2863\n",
            "   macro avg       0.33      0.28      0.29      2863\n",
            "weighted avg       0.45      0.46      0.45      2863\n",
            "\n"
          ]
        }
      ],
      "source": [
        "#Cat Boost for TF-IDF\n",
        "from catboost import CatBoostClassifier\n",
        "model = CatBoostClassifier(iterations=10,learning_rate=1)\n",
        "\n",
        "# fit the model with the training data\n",
        "model.fit(X_train_tfidf,y_train,plot=False)\n",
        "\n",
        "\n",
        "# predict the target on the train dataset\n",
        "Y_pred = model.predict(X_test_tfidf)\n",
        "# evaluate predictions\n",
        "print(classification_report(y_test,Y_pred))\n",
        "score = f1_score(y_test, Y_pred, average='micro')\n",
        "Newf1_tfidf['Cat Boost'] = score* 100.0"
      ]
    },
    {
      "cell_type": "code",
      "execution_count": 63,
      "metadata": {
        "colab": {
          "base_uri": "https://localhost:8080/"
        },
        "id": "PEtMseGwMxwE",
        "outputId": "350d04cf-bd6b-4908-9f90-45718f27511d"
      },
      "outputs": [
        {
          "output_type": "stream",
          "name": "stdout",
          "text": [
            "              precision    recall  f1-score   support\n",
            "\n",
            "           0       0.00      0.00      0.00        63\n",
            "           1       0.00      0.00      0.00       223\n",
            "           2       0.00      0.00      0.00        76\n",
            "           3       0.00      0.00      0.00       226\n",
            "           4       0.00      0.00      0.00        14\n",
            "           5       0.00      0.00      0.00        16\n",
            "           6       0.00      0.00      0.00        13\n",
            "           7       0.00      0.00      0.00        29\n",
            "           8       0.30      0.26      0.28       485\n",
            "           9       0.26      0.83      0.40       605\n",
            "          10       0.47      0.11      0.18       360\n",
            "          11       0.34      0.35      0.35       430\n",
            "          12       0.00      0.00      0.00        55\n",
            "          13       0.00      0.00      0.00        89\n",
            "          14       0.00      0.00      0.00        68\n",
            "          15       0.00      0.00      0.00       111\n",
            "\n",
            "    accuracy                           0.29      2863\n",
            "   macro avg       0.09      0.10      0.08      2863\n",
            "weighted avg       0.22      0.29      0.21      2863\n",
            "\n"
          ]
        }
      ],
      "source": [
        "#KNN\n",
        "#KNN Classifier for BOW\n",
        "from sklearn.neighbors import KNeighborsClassifier\n",
        "knn = KNeighborsClassifier(n_neighbors = 200)  # n_neighbors means k\n",
        "knn.fit(X_train_bow, y_train)\n",
        "\n",
        "Y_pred = knn.predict(X_test_bow)\n",
        "# evaluate predictions\n",
        "print(classification_report(y_test,Y_pred))\n",
        "score = f1_score(y_test, Y_pred, average='micro')\n",
        "Newf1_bow['KNN'] = score* 100.0\n"
      ]
    },
    {
      "cell_type": "code",
      "execution_count": 64,
      "metadata": {
        "colab": {
          "base_uri": "https://localhost:8080/"
        },
        "id": "MvX0VRGbM0kA",
        "outputId": "58bdb24f-3638-460f-baa8-1f421bbb3ae4"
      },
      "outputs": [
        {
          "output_type": "stream",
          "name": "stdout",
          "text": [
            "              precision    recall  f1-score   support\n",
            "\n",
            "           0       0.00      0.00      0.00        63\n",
            "           1       0.50      0.01      0.02       223\n",
            "           2       0.00      0.00      0.00        76\n",
            "           3       1.00      0.00      0.01       226\n",
            "           4       0.00      0.00      0.00        14\n",
            "           5       0.00      0.00      0.00        16\n",
            "           6       0.00      0.00      0.00        13\n",
            "           7       0.00      0.00      0.00        29\n",
            "           8       0.18      0.91      0.30       485\n",
            "           9       0.36      0.19      0.24       605\n",
            "          10       0.29      0.01      0.01       360\n",
            "          11       0.34      0.03      0.06       430\n",
            "          12       0.00      0.00      0.00        55\n",
            "          13       0.00      0.00      0.00        89\n",
            "          14       0.00      0.00      0.00        68\n",
            "          15       1.00      0.01      0.02       111\n",
            "\n",
            "    accuracy                           0.20      2863\n",
            "   macro avg       0.23      0.07      0.04      2863\n",
            "weighted avg       0.35      0.20      0.11      2863\n",
            "\n"
          ]
        }
      ],
      "source": [
        "#KNN Classifier for TF-IDF\n",
        "from sklearn.neighbors import KNeighborsClassifier\n",
        "knn = KNeighborsClassifier(n_neighbors = 200)  # n_neighbors means k\n",
        "knn.fit(X_train_tfidf, y_train)\n",
        "\n",
        "Y_pred = knn.predict(X_test_tfidf)\n",
        "# evaluate predictions\n",
        "print(classification_report(y_test,Y_pred))\n",
        "score = f1_score(y_test, Y_pred, average='micro')\n",
        "Newf1_tfidf['KNN'] = score* 100.0"
      ]
    },
    {
      "cell_type": "code",
      "execution_count": 65,
      "metadata": {
        "colab": {
          "base_uri": "https://localhost:8080/",
          "height": 143
        },
        "id": "9N5k8iE7M4Hi",
        "outputId": "1a8a6971-e2e1-43c1-bc47-e053a7e8e496"
      },
      "outputs": [
        {
          "output_type": "execute_result",
          "data": {
            "text/plain": [
              "           F1 Score BoW New(%)\n",
              "XG Boost             58.085924\n",
              "Cat Boost            54.662941\n",
              "KNN                  28.711142"
            ],
            "text/html": [
              "\n",
              "  <div id=\"df-c2924c6e-2b1c-40b1-97f5-58c7cffea5ae\">\n",
              "    <div class=\"colab-df-container\">\n",
              "      <div>\n",
              "<style scoped>\n",
              "    .dataframe tbody tr th:only-of-type {\n",
              "        vertical-align: middle;\n",
              "    }\n",
              "\n",
              "    .dataframe tbody tr th {\n",
              "        vertical-align: top;\n",
              "    }\n",
              "\n",
              "    .dataframe thead th {\n",
              "        text-align: right;\n",
              "    }\n",
              "</style>\n",
              "<table border=\"1\" class=\"dataframe\">\n",
              "  <thead>\n",
              "    <tr style=\"text-align: right;\">\n",
              "      <th></th>\n",
              "      <th>F1 Score BoW New(%)</th>\n",
              "    </tr>\n",
              "  </thead>\n",
              "  <tbody>\n",
              "    <tr>\n",
              "      <th>XG Boost</th>\n",
              "      <td>58.085924</td>\n",
              "    </tr>\n",
              "    <tr>\n",
              "      <th>Cat Boost</th>\n",
              "      <td>54.662941</td>\n",
              "    </tr>\n",
              "    <tr>\n",
              "      <th>KNN</th>\n",
              "      <td>28.711142</td>\n",
              "    </tr>\n",
              "  </tbody>\n",
              "</table>\n",
              "</div>\n",
              "      <button class=\"colab-df-convert\" onclick=\"convertToInteractive('df-c2924c6e-2b1c-40b1-97f5-58c7cffea5ae')\"\n",
              "              title=\"Convert this dataframe to an interactive table.\"\n",
              "              style=\"display:none;\">\n",
              "        \n",
              "  <svg xmlns=\"http://www.w3.org/2000/svg\" height=\"24px\"viewBox=\"0 0 24 24\"\n",
              "       width=\"24px\">\n",
              "    <path d=\"M0 0h24v24H0V0z\" fill=\"none\"/>\n",
              "    <path d=\"M18.56 5.44l.94 2.06.94-2.06 2.06-.94-2.06-.94-.94-2.06-.94 2.06-2.06.94zm-11 1L8.5 8.5l.94-2.06 2.06-.94-2.06-.94L8.5 2.5l-.94 2.06-2.06.94zm10 10l.94 2.06.94-2.06 2.06-.94-2.06-.94-.94-2.06-.94 2.06-2.06.94z\"/><path d=\"M17.41 7.96l-1.37-1.37c-.4-.4-.92-.59-1.43-.59-.52 0-1.04.2-1.43.59L10.3 9.45l-7.72 7.72c-.78.78-.78 2.05 0 2.83L4 21.41c.39.39.9.59 1.41.59.51 0 1.02-.2 1.41-.59l7.78-7.78 2.81-2.81c.8-.78.8-2.07 0-2.86zM5.41 20L4 18.59l7.72-7.72 1.47 1.35L5.41 20z\"/>\n",
              "  </svg>\n",
              "      </button>\n",
              "      \n",
              "  <style>\n",
              "    .colab-df-container {\n",
              "      display:flex;\n",
              "      flex-wrap:wrap;\n",
              "      gap: 12px;\n",
              "    }\n",
              "\n",
              "    .colab-df-convert {\n",
              "      background-color: #E8F0FE;\n",
              "      border: none;\n",
              "      border-radius: 50%;\n",
              "      cursor: pointer;\n",
              "      display: none;\n",
              "      fill: #1967D2;\n",
              "      height: 32px;\n",
              "      padding: 0 0 0 0;\n",
              "      width: 32px;\n",
              "    }\n",
              "\n",
              "    .colab-df-convert:hover {\n",
              "      background-color: #E2EBFA;\n",
              "      box-shadow: 0px 1px 2px rgba(60, 64, 67, 0.3), 0px 1px 3px 1px rgba(60, 64, 67, 0.15);\n",
              "      fill: #174EA6;\n",
              "    }\n",
              "\n",
              "    [theme=dark] .colab-df-convert {\n",
              "      background-color: #3B4455;\n",
              "      fill: #D2E3FC;\n",
              "    }\n",
              "\n",
              "    [theme=dark] .colab-df-convert:hover {\n",
              "      background-color: #434B5C;\n",
              "      box-shadow: 0px 1px 3px 1px rgba(0, 0, 0, 0.15);\n",
              "      filter: drop-shadow(0px 1px 2px rgba(0, 0, 0, 0.3));\n",
              "      fill: #FFFFFF;\n",
              "    }\n",
              "  </style>\n",
              "\n",
              "      <script>\n",
              "        const buttonEl =\n",
              "          document.querySelector('#df-c2924c6e-2b1c-40b1-97f5-58c7cffea5ae button.colab-df-convert');\n",
              "        buttonEl.style.display =\n",
              "          google.colab.kernel.accessAllowed ? 'block' : 'none';\n",
              "\n",
              "        async function convertToInteractive(key) {\n",
              "          const element = document.querySelector('#df-c2924c6e-2b1c-40b1-97f5-58c7cffea5ae');\n",
              "          const dataTable =\n",
              "            await google.colab.kernel.invokeFunction('convertToInteractive',\n",
              "                                                     [key], {});\n",
              "          if (!dataTable) return;\n",
              "\n",
              "          const docLinkHtml = 'Like what you see? Visit the ' +\n",
              "            '<a target=\"_blank\" href=https://colab.research.google.com/notebooks/data_table.ipynb>data table notebook</a>'\n",
              "            + ' to learn more about interactive tables.';\n",
              "          element.innerHTML = '';\n",
              "          dataTable['output_type'] = 'display_data';\n",
              "          await google.colab.output.renderOutput(dataTable, element);\n",
              "          const docLink = document.createElement('div');\n",
              "          docLink.innerHTML = docLinkHtml;\n",
              "          element.appendChild(docLink);\n",
              "        }\n",
              "      </script>\n",
              "    </div>\n",
              "  </div>\n",
              "  "
            ]
          },
          "metadata": {},
          "execution_count": 65
        }
      ],
      "source": [
        "pd.DataFrame.from_dict(Newf1_bow, orient='index', columns=['F1 Score BoW New(%)'])"
      ]
    },
    {
      "cell_type": "code",
      "execution_count": 66,
      "metadata": {
        "colab": {
          "base_uri": "https://localhost:8080/",
          "height": 143
        },
        "id": "Ke5y3YZ0NCxY",
        "outputId": "059d127f-0877-477e-d40e-2485e3750068"
      },
      "outputs": [
        {
          "output_type": "execute_result",
          "data": {
            "text/plain": [
              "           F1 Score TF-IDF New(%)\n",
              "XG Boost                57.841425\n",
              "Cat Boost               46.105484\n",
              "KNN                     20.048900"
            ],
            "text/html": [
              "\n",
              "  <div id=\"df-eb8a5d2e-9a5f-4f46-8d88-350cf86c90e4\">\n",
              "    <div class=\"colab-df-container\">\n",
              "      <div>\n",
              "<style scoped>\n",
              "    .dataframe tbody tr th:only-of-type {\n",
              "        vertical-align: middle;\n",
              "    }\n",
              "\n",
              "    .dataframe tbody tr th {\n",
              "        vertical-align: top;\n",
              "    }\n",
              "\n",
              "    .dataframe thead th {\n",
              "        text-align: right;\n",
              "    }\n",
              "</style>\n",
              "<table border=\"1\" class=\"dataframe\">\n",
              "  <thead>\n",
              "    <tr style=\"text-align: right;\">\n",
              "      <th></th>\n",
              "      <th>F1 Score TF-IDF New(%)</th>\n",
              "    </tr>\n",
              "  </thead>\n",
              "  <tbody>\n",
              "    <tr>\n",
              "      <th>XG Boost</th>\n",
              "      <td>57.841425</td>\n",
              "    </tr>\n",
              "    <tr>\n",
              "      <th>Cat Boost</th>\n",
              "      <td>46.105484</td>\n",
              "    </tr>\n",
              "    <tr>\n",
              "      <th>KNN</th>\n",
              "      <td>20.048900</td>\n",
              "    </tr>\n",
              "  </tbody>\n",
              "</table>\n",
              "</div>\n",
              "      <button class=\"colab-df-convert\" onclick=\"convertToInteractive('df-eb8a5d2e-9a5f-4f46-8d88-350cf86c90e4')\"\n",
              "              title=\"Convert this dataframe to an interactive table.\"\n",
              "              style=\"display:none;\">\n",
              "        \n",
              "  <svg xmlns=\"http://www.w3.org/2000/svg\" height=\"24px\"viewBox=\"0 0 24 24\"\n",
              "       width=\"24px\">\n",
              "    <path d=\"M0 0h24v24H0V0z\" fill=\"none\"/>\n",
              "    <path d=\"M18.56 5.44l.94 2.06.94-2.06 2.06-.94-2.06-.94-.94-2.06-.94 2.06-2.06.94zm-11 1L8.5 8.5l.94-2.06 2.06-.94-2.06-.94L8.5 2.5l-.94 2.06-2.06.94zm10 10l.94 2.06.94-2.06 2.06-.94-2.06-.94-.94-2.06-.94 2.06-2.06.94z\"/><path d=\"M17.41 7.96l-1.37-1.37c-.4-.4-.92-.59-1.43-.59-.52 0-1.04.2-1.43.59L10.3 9.45l-7.72 7.72c-.78.78-.78 2.05 0 2.83L4 21.41c.39.39.9.59 1.41.59.51 0 1.02-.2 1.41-.59l7.78-7.78 2.81-2.81c.8-.78.8-2.07 0-2.86zM5.41 20L4 18.59l7.72-7.72 1.47 1.35L5.41 20z\"/>\n",
              "  </svg>\n",
              "      </button>\n",
              "      \n",
              "  <style>\n",
              "    .colab-df-container {\n",
              "      display:flex;\n",
              "      flex-wrap:wrap;\n",
              "      gap: 12px;\n",
              "    }\n",
              "\n",
              "    .colab-df-convert {\n",
              "      background-color: #E8F0FE;\n",
              "      border: none;\n",
              "      border-radius: 50%;\n",
              "      cursor: pointer;\n",
              "      display: none;\n",
              "      fill: #1967D2;\n",
              "      height: 32px;\n",
              "      padding: 0 0 0 0;\n",
              "      width: 32px;\n",
              "    }\n",
              "\n",
              "    .colab-df-convert:hover {\n",
              "      background-color: #E2EBFA;\n",
              "      box-shadow: 0px 1px 2px rgba(60, 64, 67, 0.3), 0px 1px 3px 1px rgba(60, 64, 67, 0.15);\n",
              "      fill: #174EA6;\n",
              "    }\n",
              "\n",
              "    [theme=dark] .colab-df-convert {\n",
              "      background-color: #3B4455;\n",
              "      fill: #D2E3FC;\n",
              "    }\n",
              "\n",
              "    [theme=dark] .colab-df-convert:hover {\n",
              "      background-color: #434B5C;\n",
              "      box-shadow: 0px 1px 3px 1px rgba(0, 0, 0, 0.15);\n",
              "      filter: drop-shadow(0px 1px 2px rgba(0, 0, 0, 0.3));\n",
              "      fill: #FFFFFF;\n",
              "    }\n",
              "  </style>\n",
              "\n",
              "      <script>\n",
              "        const buttonEl =\n",
              "          document.querySelector('#df-eb8a5d2e-9a5f-4f46-8d88-350cf86c90e4 button.colab-df-convert');\n",
              "        buttonEl.style.display =\n",
              "          google.colab.kernel.accessAllowed ? 'block' : 'none';\n",
              "\n",
              "        async function convertToInteractive(key) {\n",
              "          const element = document.querySelector('#df-eb8a5d2e-9a5f-4f46-8d88-350cf86c90e4');\n",
              "          const dataTable =\n",
              "            await google.colab.kernel.invokeFunction('convertToInteractive',\n",
              "                                                     [key], {});\n",
              "          if (!dataTable) return;\n",
              "\n",
              "          const docLinkHtml = 'Like what you see? Visit the ' +\n",
              "            '<a target=\"_blank\" href=https://colab.research.google.com/notebooks/data_table.ipynb>data table notebook</a>'\n",
              "            + ' to learn more about interactive tables.';\n",
              "          element.innerHTML = '';\n",
              "          dataTable['output_type'] = 'display_data';\n",
              "          await google.colab.output.renderOutput(dataTable, element);\n",
              "          const docLink = document.createElement('div');\n",
              "          docLink.innerHTML = docLinkHtml;\n",
              "          element.appendChild(docLink);\n",
              "        }\n",
              "      </script>\n",
              "    </div>\n",
              "  </div>\n",
              "  "
            ]
          },
          "metadata": {},
          "execution_count": 66
        }
      ],
      "source": [
        "pd.DataFrame.from_dict(Newf1_tfidf, orient='index', columns=['F1 Score TF-IDF New(%)'])"
      ]
    },
    {
      "cell_type": "code",
      "execution_count": 67,
      "metadata": {
        "colab": {
          "base_uri": "https://localhost:8080/",
          "height": 538
        },
        "id": "jsATUwfLNEzk",
        "outputId": "886008d3-ff1d-4d4c-e8ef-7bf4878ae0c9"
      },
      "outputs": [
        {
          "output_type": "display_data",
          "data": {
            "text/plain": [
              "<Figure size 720x576 with 1 Axes>"
            ],
            "image/png": "[encoded data removed]"
          },
          "metadata": {
            "needs_background": "light"
          }
        }
      ],
      "source": [
        "#Plot for comparision between baseline models\n",
        "X = list(Newf1_bow.keys())\n",
        "Newf1_bow_list = list(Newf1_bow.values())\n",
        "Newf1_tfidf_list =  list(Newf1_tfidf.values())\n",
        "f1_bows = Newf1_bow_list\n",
        "f1_tfidfs = Newf1_tfidf_list\n",
        "  \n",
        "X_axis = np.arange(len(X))\n",
        "plt.figure(figsize=(10,8))   \n",
        "plt.bar(X_axis - 0.2, f1_bows, 0.4, label = 'BoW',color = 'yellow',edgecolor = 'black')\n",
        "plt.bar(X_axis + 0.2, f1_tfidfs, 0.4, label = 'TFIDF',color = 'purple',edgecolor = 'black')\n",
        "  \n",
        "plt.xticks(X_axis, X)\n",
        "plt.xlabel(\"Models\")\n",
        "plt.ylabel(\"F1 Score\")\n",
        "plt.title(\"Comparision of New Models\")\n",
        "plt.legend()\n",
        "\n",
        "plt.show()"
      ]
    },
    {
      "cell_type": "code",
      "execution_count": 68,
      "metadata": {
        "id": "bpe6qQSFNL1R"
      },
      "outputs": [],
      "source": [
        "mbti_df['I/E'] = mbti_df.type\n",
        "mbti_df['N/S'] = mbti_df.type\n",
        "mbti_df['F/T'] = mbti_df.type\n",
        "mbti_df['P/J'] = mbti_df.type\n",
        "\n",
        "for i, t in enumerate(mbti_df.type):\n",
        "    if 'I' in t:\n",
        "        mbti_df['I/E'][i] = 'I'\n",
        "    elif 'E' in t:\n",
        "        mbti_df['I/E'][i] = 'E'\n",
        "        \n",
        "    if 'N' in t:\n",
        "        mbti_df['N/S'][i] = 'N'\n",
        "    elif 'S' in t:\n",
        "        mbti_df['N/S'][i] = 'S'\n",
        "        \n",
        "    if 'F' in t:\n",
        "        mbti_df['F/T'][i] = 'F'\n",
        "    elif 'T' in t:\n",
        "        mbti_df['F/T'][i] = 'T'\n",
        "        \n",
        "    if 'P' in t:\n",
        "        mbti_df['P/J'][i] = 'P'\n",
        "    elif 'J' in t:\n",
        "        mbti_df['P/J'][i] = 'J'\n",
        "\n",
        "\n",
        "posts = mbti_df.posts.values\n",
        "yIE = mbti_df['I/E'].values\n",
        "yNS = mbti_df['N/S'].values\n",
        "yFT = mbti_df['F/T'].values\n",
        "yPJ = mbti_df['P/J'].values\n",
        "y = mbti_df.type\n"
      ]
    },
    {
      "cell_type": "code",
      "execution_count": 69,
      "metadata": {
        "colab": {
          "base_uri": "https://localhost:8080/",
          "height": 424
        },
        "id": "z3c2l4AYNUYv",
        "outputId": "82616bfb-6adf-41a7-f1ce-dd8caaff4e4d"
      },
      "outputs": [
        {
          "output_type": "execute_result",
          "data": {
            "text/plain": [
              "      type                                              posts I/E N/S F/T P/J\n",
              "0     INFJ   enfp and intj moments sportscenter not top te...   I   N   F   J\n",
              "1     ENTP  im finding the lack of me in these posts very ...   E   N   T   P\n",
              "2     INTP  good one of course to which i say i know thats...   I   N   T   P\n",
              "3     INTJ  dear intp i enjoyed our conversation the other...   I   N   T   J\n",
              "4     ENTJ  youre fired eostokendot thats another silly mi...   E   N   T   J\n",
              "...    ...                                                ...  ..  ..  ..  ..\n",
              "8670  ISFP   ixfp just because i always think of cats as f...   I   S   F   P\n",
              "8671  ENFP  so eostokendot eostokendot eostokendot if this...   E   N   F   P\n",
              "8672  INTP  so many questions when i do these things eosto...   I   N   T   P\n",
              "8673  INFP  i am very conflicted right now when it comes t...   I   N   F   P\n",
              "8674  INFP  it has been too long since i have been on pers...   I   N   F   P\n",
              "\n",
              "[8675 rows x 6 columns]"
            ],
            "text/html": [
              "\n",
              "  <div id=\"df-abba70ba-6f95-4f6d-9289-da99265201fb\">\n",
              "    <div class=\"colab-df-container\">\n",
              "      <div>\n",
              "<style scoped>\n",
              "    .dataframe tbody tr th:only-of-type {\n",
              "        vertical-align: middle;\n",
              "    }\n",
              "\n",
              "    .dataframe tbody tr th {\n",
              "        vertical-align: top;\n",
              "    }\n",
              "\n",
              "    .dataframe thead th {\n",
              "        text-align: right;\n",
              "    }\n",
              "</style>\n",
              "<table border=\"1\" class=\"dataframe\">\n",
              "  <thead>\n",
              "    <tr style=\"text-align: right;\">\n",
              "      <th></th>\n",
              "      <th>type</th>\n",
              "      <th>posts</th>\n",
              "      <th>I/E</th>\n",
              "      <th>N/S</th>\n",
              "      <th>F/T</th>\n",
              "      <th>P/J</th>\n",
              "    </tr>\n",
              "  </thead>\n",
              "  <tbody>\n",
              "    <tr>\n",
              "      <th>0</th>\n",
              "      <td>INFJ</td>\n",
              "      <td>enfp and intj moments sportscenter not top te...</td>\n",
              "      <td>I</td>\n",
              "      <td>N</td>\n",
              "      <td>F</td>\n",
              "      <td>J</td>\n",
              "    </tr>\n",
              "    <tr>\n",
              "      <th>1</th>\n",
              "      <td>ENTP</td>\n",
              "      <td>im finding the lack of me in these posts very ...</td>\n",
              "      <td>E</td>\n",
              "      <td>N</td>\n",
              "      <td>T</td>\n",
              "      <td>P</td>\n",
              "    </tr>\n",
              "    <tr>\n",
              "      <th>2</th>\n",
              "      <td>INTP</td>\n",
              "      <td>good one of course to which i say i know thats...</td>\n",
              "      <td>I</td>\n",
              "      <td>N</td>\n",
              "      <td>T</td>\n",
              "      <td>P</td>\n",
              "    </tr>\n",
              "    <tr>\n",
              "      <th>3</th>\n",
              "      <td>INTJ</td>\n",
              "      <td>dear intp i enjoyed our conversation the other...</td>\n",
              "      <td>I</td>\n",
              "      <td>N</td>\n",
              "      <td>T</td>\n",
              "      <td>J</td>\n",
              "    </tr>\n",
              "    <tr>\n",
              "      <th>4</th>\n",
              "      <td>ENTJ</td>\n",
              "      <td>youre fired eostokendot thats another silly mi...</td>\n",
              "      <td>E</td>\n",
              "      <td>N</td>\n",
              "      <td>T</td>\n",
              "      <td>J</td>\n",
              "    </tr>\n",
              "    <tr>\n",
              "      <th>...</th>\n",
              "      <td>...</td>\n",
              "      <td>...</td>\n",
              "      <td>...</td>\n",
              "      <td>...</td>\n",
              "      <td>...</td>\n",
              "      <td>...</td>\n",
              "    </tr>\n",
              "    <tr>\n",
              "      <th>8670</th>\n",
              "      <td>ISFP</td>\n",
              "      <td>ixfp just because i always think of cats as f...</td>\n",
              "      <td>I</td>\n",
              "      <td>S</td>\n",
              "      <td>F</td>\n",
              "      <td>P</td>\n",
              "    </tr>\n",
              "    <tr>\n",
              "      <th>8671</th>\n",
              "      <td>ENFP</td>\n",
              "      <td>so eostokendot eostokendot eostokendot if this...</td>\n",
              "      <td>E</td>\n",
              "      <td>N</td>\n",
              "      <td>F</td>\n",
              "      <td>P</td>\n",
              "    </tr>\n",
              "    <tr>\n",
              "      <th>8672</th>\n",
              "      <td>INTP</td>\n",
              "      <td>so many questions when i do these things eosto...</td>\n",
              "      <td>I</td>\n",
              "      <td>N</td>\n",
              "      <td>T</td>\n",
              "      <td>P</td>\n",
              "    </tr>\n",
              "    <tr>\n",
              "      <th>8673</th>\n",
              "      <td>INFP</td>\n",
              "      <td>i am very conflicted right now when it comes t...</td>\n",
              "      <td>I</td>\n",
              "      <td>N</td>\n",
              "      <td>F</td>\n",
              "      <td>P</td>\n",
              "    </tr>\n",
              "    <tr>\n",
              "      <th>8674</th>\n",
              "      <td>INFP</td>\n",
              "      <td>it has been too long since i have been on pers...</td>\n",
              "      <td>I</td>\n",
              "      <td>N</td>\n",
              "      <td>F</td>\n",
              "      <td>P</td>\n",
              "    </tr>\n",
              "  </tbody>\n",
              "</table>\n",
              "<p>8675 rows × 6 columns</p>\n",
              "</div>\n",
              "      <button class=\"colab-df-convert\" onclick=\"convertToInteractive('df-abba70ba-6f95-4f6d-9289-da99265201fb')\"\n",
              "              title=\"Convert this dataframe to an interactive table.\"\n",
              "              style=\"display:none;\">\n",
              "        \n",
              "  <svg xmlns=\"http://www.w3.org/2000/svg\" height=\"24px\"viewBox=\"0 0 24 24\"\n",
              "       width=\"24px\">\n",
              "    <path d=\"M0 0h24v24H0V0z\" fill=\"none\"/>\n",
              "    <path d=\"M18.56 5.44l.94 2.06.94-2.06 2.06-.94-2.06-.94-.94-2.06-.94 2.06-2.06.94zm-11 1L8.5 8.5l.94-2.06 2.06-.94-2.06-.94L8.5 2.5l-.94 2.06-2.06.94zm10 10l.94 2.06.94-2.06 2.06-.94-2.06-.94-.94-2.06-.94 2.06-2.06.94z\"/><path d=\"M17.41 7.96l-1.37-1.37c-.4-.4-.92-.59-1.43-.59-.52 0-1.04.2-1.43.59L10.3 9.45l-7.72 7.72c-.78.78-.78 2.05 0 2.83L4 21.41c.39.39.9.59 1.41.59.51 0 1.02-.2 1.41-.59l7.78-7.78 2.81-2.81c.8-.78.8-2.07 0-2.86zM5.41 20L4 18.59l7.72-7.72 1.47 1.35L5.41 20z\"/>\n",
              "  </svg>\n",
              "      </button>\n",
              "      \n",
              "  <style>\n",
              "    .colab-df-container {\n",
              "      display:flex;\n",
              "      flex-wrap:wrap;\n",
              "      gap: 12px;\n",
              "    }\n",
              "\n",
              "    .colab-df-convert {\n",
              "      background-color: #E8F0FE;\n",
              "      border: none;\n",
              "      border-radius: 50%;\n",
              "      cursor: pointer;\n",
              "      display: none;\n",
              "      fill: #1967D2;\n",
              "      height: 32px;\n",
              "      padding: 0 0 0 0;\n",
              "      width: 32px;\n",
              "    }\n",
              "\n",
              "    .colab-df-convert:hover {\n",
              "      background-color: #E2EBFA;\n",
              "      box-shadow: 0px 1px 2px rgba(60, 64, 67, 0.3), 0px 1px 3px 1px rgba(60, 64, 67, 0.15);\n",
              "      fill: #174EA6;\n",
              "    }\n",
              "\n",
              "    [theme=dark] .colab-df-convert {\n",
              "      background-color: #3B4455;\n",
              "      fill: #D2E3FC;\n",
              "    }\n",
              "\n",
              "    [theme=dark] .colab-df-convert:hover {\n",
              "      background-color: #434B5C;\n",
              "      box-shadow: 0px 1px 3px 1px rgba(0, 0, 0, 0.15);\n",
              "      filter: drop-shadow(0px 1px 2px rgba(0, 0, 0, 0.3));\n",
              "      fill: #FFFFFF;\n",
              "    }\n",
              "  </style>\n",
              "\n",
              "      <script>\n",
              "        const buttonEl =\n",
              "          document.querySelector('#df-abba70ba-6f95-4f6d-9289-da99265201fb button.colab-df-convert');\n",
              "        buttonEl.style.display =\n",
              "          google.colab.kernel.accessAllowed ? 'block' : 'none';\n",
              "\n",
              "        async function convertToInteractive(key) {\n",
              "          const element = document.querySelector('#df-abba70ba-6f95-4f6d-9289-da99265201fb');\n",
              "          const dataTable =\n",
              "            await google.colab.kernel.invokeFunction('convertToInteractive',\n",
              "                                                     [key], {});\n",
              "          if (!dataTable) return;\n",
              "\n",
              "          const docLinkHtml = 'Like what you see? Visit the ' +\n",
              "            '<a target=\"_blank\" href=https://colab.research.google.com/notebooks/data_table.ipynb>data table notebook</a>'\n",
              "            + ' to learn more about interactive tables.';\n",
              "          element.innerHTML = '';\n",
              "          dataTable['output_type'] = 'display_data';\n",
              "          await google.colab.output.renderOutput(dataTable, element);\n",
              "          const docLink = document.createElement('div');\n",
              "          docLink.innerHTML = docLinkHtml;\n",
              "          element.appendChild(docLink);\n",
              "        }\n",
              "      </script>\n",
              "    </div>\n",
              "  </div>\n",
              "  "
            ]
          },
          "metadata": {},
          "execution_count": 69
        }
      ],
      "source": [
        "mbti_df"
      ]
    },
    {
      "cell_type": "code",
      "execution_count": 70,
      "metadata": {
        "colab": {
          "base_uri": "https://localhost:8080/"
        },
        "id": "VG2464N7NgP1",
        "outputId": "613329b3-b764-4e4c-e3e2-20dc13bf25cc"
      },
      "outputs": [
        {
          "output_type": "stream",
          "name": "stdout",
          "text": [
            "Frequency :\n",
            "-------------------------------------------------------\n",
            "Introversion (I) /  Extroversion (E):    6676  /  1999\n",
            "Intuition (N) / Sensing (S):             7478  /  1197\n",
            "Thinking (T) / Feeling (F):              4694  /  3981\n",
            "Judging (J) / Perceiving (P):            5241  /  3434\n"
          ]
        }
      ],
      "source": [
        "print(\"Frequency :\")\n",
        "print(\"-------------------------------------------------------\")\n",
        "print (\"Introversion (I) /  Extroversion (E):   \", mbti_df['I/E'].value_counts()['I'], \" / \", mbti_df['I/E'].value_counts()['E'])\n",
        "print (\"Intuition (N) / Sensing (S):            \", mbti_df['N/S'].value_counts()['N'], \" / \", mbti_df['N/S'].value_counts()['S'])\n",
        "print (\"Thinking (T) / Feeling (F):             \", mbti_df['F/T'].value_counts()['F'], \" / \", mbti_df['F/T'].value_counts()['T'])\n",
        "print (\"Judging (J) / Perceiving (P):           \", mbti_df['P/J'].value_counts()['P'], \" / \", mbti_df['P/J'].value_counts()['J'])\n"
      ]
    },
    {
      "cell_type": "code",
      "execution_count": 71,
      "metadata": {
        "colab": {
          "base_uri": "https://localhost:8080/"
        },
        "id": "5Nb3ub0JRoE2",
        "outputId": "d3b846bc-54b5-4229-9b02-f56577859c3e"
      },
      "outputs": [
        {
          "output_type": "stream",
          "name": "stdout",
          "text": [
            "Now the dataset size is as below\n",
            "(8675, 5000)\n"
          ]
        }
      ],
      "source": [
        "cv = CountVectorizer(analyzer=\"word\", max_features=5000) \n",
        "xCV = cv.fit_transform(mbti_df['posts'])\n",
        "tfidf = TfidfTransformer()\n",
        "\n",
        "print(\"Now the dataset size is as below\")\n",
        "X_tfidf =  tfidf.fit_transform(xCV).toarray()\n",
        "print(X_tfidf.shape)\n"
      ]
    },
    {
      "cell_type": "code",
      "execution_count": 72,
      "metadata": {
        "id": "06bN3PnRRrZz"
      },
      "outputs": [],
      "source": [
        "xIETrain, xIETest, yIETrain, yIETest = train_test_split(X_tfidf, yIE, test_size=0.25,stratify=yIE)\n",
        "xNSTrain, xNSTest, yNSTrain, yNSTest = train_test_split(X_tfidf, yNS, test_size=0.25,stratify=yNS)\n",
        "xFTTrain, xFTTest, yFTTrain, yFTTest = train_test_split(X_tfidf, yFT, test_size=0.25,stratify=yFT)\n",
        "xPJTrain, xPJTest, yPJTrain, yPJTest = train_test_split(X_tfidf, yPJ, test_size=0.25,stratify=yPJ)\n"
      ]
    },
    {
      "cell_type": "code",
      "execution_count": 73,
      "metadata": {
        "id": "-Kdb20eNRuWj"
      },
      "outputs": [],
      "source": [
        "#SVM for TF-IDF\n",
        "from sklearn.svm import SVC\n",
        "\n",
        "svm1 = SVC(random_state = 1)\n",
        "svmIE= svm1.fit(xIETrain,yIETrain)\n",
        "\n",
        "svm2 = SVC(random_state = 1)\n",
        "svmNS= svm2.fit(xNSTrain,yNSTrain)\n",
        "\n",
        "svm3 = SVC(random_state = 1)\n",
        "svmFT= svm3.fit(xFTTrain,yFTTrain)\n",
        "\n",
        "svm4 = SVC(random_state = 1)\n",
        "svmPJ= svm4.fit(xPJTrain,yPJTrain)"
      ]
    },
    {
      "cell_type": "code",
      "execution_count": 74,
      "metadata": {
        "id": "Up3esZvtRyeo"
      },
      "outputs": [],
      "source": [
        "Y_pred_IE = svmIE.predict(xIETest)\n",
        "Y_pred_NS = svmNS.predict(xNSTest)\n",
        "Y_pred_FT = svmFT.predict(xFTTest)\n",
        "Y_pred_PJ = svmPJ.predict(xPJTest)"
      ]
    },
    {
      "cell_type": "code",
      "execution_count": 75,
      "metadata": {
        "colab": {
          "base_uri": "https://localhost:8080/"
        },
        "id": "K747K0U9R10_",
        "outputId": "f42784b8-64bb-4cc0-ca38-010dee98b3c3"
      },
      "outputs": [
        {
          "output_type": "stream",
          "name": "stdout",
          "text": [
            "Results : Testing\n",
            "------------------\n",
            "I/E :\n",
            "0.8045182111572153\n",
            "N/S :\n",
            "0.8644536652835408\n",
            "F/T :\n",
            "0.8257261410788381\n",
            "P/J :\n",
            "0.7413554633471647\n"
          ]
        }
      ],
      "source": [
        "print(\"Results : Testing\")\n",
        "print(\"------------------\")\n",
        "\n",
        "print(\"I/E :\")\n",
        "f1_svmIE=f1_score(yIETest, Y_pred_IE, average='micro')\n",
        "print(f1_svmIE)\n",
        "print(\"N/S :\")\n",
        "f1_svmNS=f1_score(yNSTest, Y_pred_NS, average='micro')\n",
        "print(f1_svmNS)\n",
        "print(\"F/T :\")\n",
        "f1_svmFT=f1_score(yFTTest, Y_pred_FT, average='micro')\n",
        "print(f1_svmFT)\n",
        "print(\"P/J :\")\n",
        "f1_svmPJ=f1_score(yPJTest, Y_pred_PJ, average='micro')\n",
        "print(f1_svmPJ)"
      ]
    },
    {
      "cell_type": "code",
      "execution_count": 76,
      "metadata": {
        "id": "uqBvxPr3R5Gs"
      },
      "outputs": [],
      "source": [
        "#Random Forest for TF-IDF\n",
        "from sklearn.ensemble import RandomForestClassifier\n",
        "\n",
        "rf1 = RandomForestClassifier(n_estimators=100, random_state = 1)\n",
        "rfIE= rf1.fit(xIETrain,yIETrain)\n",
        "\n",
        "rf2 = RandomForestClassifier(n_estimators=100, random_state = 1)\n",
        "rfNS= rf2.fit(xNSTrain,yNSTrain)\n",
        "\n",
        "rf3 = RandomForestClassifier(n_estimators=100, random_state = 1)\n",
        "rfFT= rf3.fit(xFTTrain,yFTTrain)\n",
        "\n",
        "rf4 = RandomForestClassifier(n_estimators=100, random_state = 1)\n",
        "rfPJ= rf4.fit(xPJTrain,yPJTrain)"
      ]
    },
    {
      "cell_type": "code",
      "execution_count": 77,
      "metadata": {
        "id": "tDx4iu6xSFju"
      },
      "outputs": [],
      "source": [
        "Y_pred_IE = rfIE.predict(xIETest)\n",
        "Y_pred_NS = rfNS.predict(xNSTest)\n",
        "Y_pred_FT = rfFT.predict(xFTTest)\n",
        "Y_pred_PJ = rfPJ.predict(xPJTest)"
      ]
    },
    {
      "cell_type": "code",
      "execution_count": 78,
      "metadata": {
        "colab": {
          "base_uri": "https://localhost:8080/"
        },
        "id": "FRNPDLGRSIHn",
        "outputId": "80127fc3-cccb-47e1-c4e9-55177422c78f"
      },
      "outputs": [
        {
          "output_type": "stream",
          "name": "stdout",
          "text": [
            "Results : Testing\n",
            "------------------\n",
            "I/E :\n",
            "0.772706316274781\n",
            "N/S :\n",
            "0.8635315813739051\n",
            "F/T :\n",
            "0.7611802674043338\n",
            "P/J :\n",
            "0.6934071000461042\n"
          ]
        }
      ],
      "source": [
        "print(\"Results : Testing\")\n",
        "print(\"------------------\")\n",
        "\n",
        "print(\"I/E :\")\n",
        "f1_rfIE=f1_score(yIETest, Y_pred_IE, average='micro')\n",
        "print(f1_rfIE)\n",
        "print(\"N/S :\")\n",
        "f1_rfNS=f1_score(yNSTest, Y_pred_NS, average='micro')\n",
        "print(f1_rfNS)\n",
        "print(\"F/T :\")\n",
        "f1_rfFT=f1_score(yFTTest, Y_pred_FT, average='micro')\n",
        "print(f1_rfFT)\n",
        "print(\"P/J :\")\n",
        "f1_rfPJ=f1_score(yPJTest, Y_pred_PJ, average='micro')\n",
        "print(f1_rfPJ)"
      ]
    },
    {
      "cell_type": "code",
      "execution_count": 79,
      "metadata": {
        "id": "LEu6j1cISJFK"
      },
      "outputs": [],
      "source": [
        "#XG boost Classifier on TFIDF :\n",
        "xgb1 = XGBClassifier()\n",
        "xgbIE=xgb1.fit(xIETrain,yIETrain)"
      ]
    },
    {
      "cell_type": "code",
      "execution_count": 80,
      "metadata": {
        "id": "2jmftN6fSN12"
      },
      "outputs": [],
      "source": [
        "xgb2 = XGBClassifier()\n",
        "xgbNS=xgb2.fit(xNSTrain,yNSTrain)"
      ]
    },
    {
      "cell_type": "code",
      "execution_count": 81,
      "metadata": {
        "id": "yZE2VFPoSP9P"
      },
      "outputs": [],
      "source": [
        "xgb3 = XGBClassifier()\n",
        "xgbFT=xgb3.fit(xFTTrain,yFTTrain)"
      ]
    },
    {
      "cell_type": "code",
      "execution_count": 82,
      "metadata": {
        "id": "L8jG4idGSS8l"
      },
      "outputs": [],
      "source": [
        "xgb4 = XGBClassifier()\n",
        "xgbPJ=xgb4.fit(xPJTrain,yPJTrain)"
      ]
    },
    {
      "cell_type": "code",
      "execution_count": 83,
      "metadata": {
        "id": "R2MO8GiWSZRS"
      },
      "outputs": [],
      "source": [
        "Y_pred_IE = xgbIE.predict(xIETest)\n",
        "Y_pred_NS = xgbNS.predict(xNSTest)\n",
        "Y_pred_FT = xgbFT.predict(xFTTest)\n",
        "Y_pred_PJ = xgbPJ.predict(xPJTest)"
      ]
    },
    {
      "cell_type": "code",
      "execution_count": 84,
      "metadata": {
        "colab": {
          "base_uri": "https://localhost:8080/"
        },
        "id": "vDr97VULSchN",
        "outputId": "42164b48-6363-4da4-dc35-6bca52e23134"
      },
      "outputs": [
        {
          "output_type": "stream",
          "name": "stdout",
          "text": [
            "Results : Testing\n",
            "------------------\n",
            "I/E :\n",
            "0.8169663439372983\n",
            "N/S :\n",
            "0.8907330567081605\n",
            "F/T :\n",
            "0.8012909174734901\n",
            "P/J :\n",
            "0.7736284001844168\n"
          ]
        }
      ],
      "source": [
        "print(\"Results : Testing\")\n",
        "print(\"------------------\")\n",
        "\n",
        "print(\"I/E :\")\n",
        "f1_xgboostIE=f1_score(yIETest, Y_pred_IE, average='micro')\n",
        "print(f1_xgboostIE)\n",
        "print(\"N/S :\")\n",
        "f1_xgboostNS=f1_score(yNSTest, Y_pred_NS, average='micro')\n",
        "print(f1_xgboostNS)\n",
        "print(\"F/T :\")\n",
        "f1_xgboostFT=f1_score(yFTTest, Y_pred_FT, average='micro')\n",
        "print(f1_xgboostFT)\n",
        "print(\"P/J :\")\n",
        "f1_xgboostPJ=f1_score(yPJTest, Y_pred_PJ, average='micro')\n",
        "print(f1_xgboostPJ)"
      ]
    },
    {
      "cell_type": "code",
      "execution_count": 85,
      "metadata": {
        "colab": {
          "base_uri": "https://localhost:8080/"
        },
        "id": "JYbh0RdOSh0f",
        "outputId": "fb9dfafb-3a12-413c-a02b-cb5e33913288"
      },
      "outputs": [
        {
          "output_type": "stream",
          "name": "stdout",
          "text": [
            "0:\tlearn: 0.5121165\ttotal: 1.88s\tremaining: 16.9s\n",
            "1:\tlearn: 0.4644377\ttotal: 2.8s\tremaining: 11.2s\n",
            "2:\tlearn: 0.4302717\ttotal: 3.7s\tremaining: 8.63s\n",
            "3:\tlearn: 0.4163892\ttotal: 4.63s\tremaining: 6.94s\n",
            "4:\tlearn: 0.4074150\ttotal: 5.56s\tremaining: 5.56s\n",
            "5:\tlearn: 0.3982956\ttotal: 6.44s\tremaining: 4.29s\n",
            "6:\tlearn: 0.3921545\ttotal: 7.33s\tremaining: 3.14s\n",
            "7:\tlearn: 0.3819566\ttotal: 8.23s\tremaining: 2.06s\n",
            "8:\tlearn: 0.3752320\ttotal: 9.11s\tremaining: 1.01s\n",
            "9:\tlearn: 0.3637224\ttotal: 9.99s\tremaining: 0us\n",
            "0:\tlearn: 0.4002482\ttotal: 1.36s\tremaining: 12.2s\n",
            "1:\tlearn: 0.3554349\ttotal: 2.21s\tremaining: 8.86s\n",
            "2:\tlearn: 0.3196851\ttotal: 3.11s\tremaining: 7.26s\n",
            "3:\tlearn: 0.3046308\ttotal: 3.97s\tremaining: 5.96s\n",
            "4:\tlearn: 0.2939949\ttotal: 4.88s\tremaining: 4.88s\n",
            "5:\tlearn: 0.2840804\ttotal: 5.75s\tremaining: 3.83s\n",
            "6:\tlearn: 0.2778613\ttotal: 6.61s\tremaining: 2.83s\n",
            "7:\tlearn: 0.2749737\ttotal: 7.49s\tremaining: 1.87s\n",
            "8:\tlearn: 0.2690827\ttotal: 8.37s\tremaining: 930ms\n",
            "9:\tlearn: 0.2631480\ttotal: 9.24s\tremaining: 0us\n",
            "0:\tlearn: 0.5723726\ttotal: 1.18s\tremaining: 10.6s\n",
            "1:\tlearn: 0.5278816\ttotal: 2.07s\tremaining: 8.28s\n",
            "2:\tlearn: 0.4959853\ttotal: 2.91s\tremaining: 6.8s\n",
            "3:\tlearn: 0.4732081\ttotal: 3.75s\tremaining: 5.63s\n",
            "4:\tlearn: 0.4634208\ttotal: 4.6s\tremaining: 4.6s\n",
            "5:\tlearn: 0.4512160\ttotal: 5.44s\tremaining: 3.63s\n",
            "6:\tlearn: 0.4413874\ttotal: 6.29s\tremaining: 2.69s\n",
            "7:\tlearn: 0.4324706\ttotal: 7.16s\tremaining: 1.79s\n",
            "8:\tlearn: 0.4201142\ttotal: 8.01s\tremaining: 890ms\n",
            "9:\tlearn: 0.4068324\ttotal: 8.86s\tremaining: 0us\n",
            "0:\tlearn: 0.5942856\ttotal: 1.16s\tremaining: 10.4s\n",
            "1:\tlearn: 0.5622993\ttotal: 1.98s\tremaining: 7.94s\n",
            "2:\tlearn: 0.5362925\ttotal: 2.83s\tremaining: 6.61s\n",
            "3:\tlearn: 0.5223116\ttotal: 3.67s\tremaining: 5.5s\n",
            "4:\tlearn: 0.5130043\ttotal: 4.5s\tremaining: 4.5s\n",
            "5:\tlearn: 0.5044334\ttotal: 5.35s\tremaining: 3.56s\n",
            "6:\tlearn: 0.4972803\ttotal: 6.18s\tremaining: 2.65s\n",
            "7:\tlearn: 0.4932942\ttotal: 7.02s\tremaining: 1.75s\n",
            "8:\tlearn: 0.4855441\ttotal: 7.85s\tremaining: 872ms\n",
            "9:\tlearn: 0.4702956\ttotal: 8.69s\tremaining: 0us\n"
          ]
        }
      ],
      "source": [
        "#Cat Boost for TF-IDF\n",
        "from catboost import CatBoostClassifier\n",
        "\n",
        "cat1 = CatBoostClassifier(iterations=10,learning_rate=1)\n",
        "catIE= cat1.fit(xIETrain,yIETrain)\n",
        "\n",
        "cat2 = CatBoostClassifier(iterations=10,learning_rate=1)\n",
        "catNS= cat2.fit(xNSTrain,yNSTrain)\n",
        "\n",
        "cat3 = CatBoostClassifier(iterations=10,learning_rate=1)\n",
        "catFT= cat3.fit(xFTTrain,yFTTrain)\n",
        "\n",
        "cat4 = CatBoostClassifier(iterations=10,learning_rate=1)\n",
        "catPJ= cat4.fit(xPJTrain,yPJTrain)"
      ]
    },
    {
      "cell_type": "code",
      "execution_count": 86,
      "metadata": {
        "id": "8-17YjteTc7L"
      },
      "outputs": [],
      "source": [
        "Y_pred_IE = catIE.predict(xIETest)\n",
        "Y_pred_NS = catNS.predict(xNSTest)\n",
        "Y_pred_FT = catFT.predict(xFTTest)\n",
        "Y_pred_PJ = catPJ.predict(xPJTest)"
      ]
    },
    {
      "cell_type": "code",
      "execution_count": 87,
      "metadata": {
        "colab": {
          "base_uri": "https://localhost:8080/"
        },
        "id": "o17IoQTyTjbb",
        "outputId": "b757d0c3-9ae0-40a4-b95a-711e206ea0b5"
      },
      "outputs": [
        {
          "output_type": "stream",
          "name": "stdout",
          "text": [
            "Results : Testing\n",
            "------------------\n",
            "I/E :\n",
            "0.8105117565698479\n",
            "N/S :\n",
            "0.880129091747349\n",
            "F/T :\n",
            "0.7667127708621486\n",
            "P/J :\n",
            "0.7436606731212542\n"
          ]
        }
      ],
      "source": [
        "print(\"Results : Testing\")\n",
        "print(\"------------------\")\n",
        "\n",
        "print(\"I/E :\")\n",
        "f1_catIE=f1_score(yIETest, Y_pred_IE, average='micro')\n",
        "print(f1_catIE)\n",
        "print(\"N/S :\")\n",
        "f1_catNS=f1_score(yNSTest, Y_pred_NS, average='micro')\n",
        "print(f1_catNS)\n",
        "print(\"F/T :\")\n",
        "f1_catFT=f1_score(yFTTest, Y_pred_FT, average='micro')\n",
        "print(f1_catFT)\n",
        "print(\"P/J :\")\n",
        "f1_catPJ=f1_score(yPJTest, Y_pred_PJ, average='micro')\n",
        "print(f1_catPJ)"
      ]
    },
    {
      "cell_type": "code",
      "execution_count": 88,
      "metadata": {
        "id": "v3Iggg7tUgpF"
      },
      "outputs": [],
      "source": [
        "#KNN Classifier for TF-IDF\n",
        "from sklearn.neighbors import KNeighborsClassifier\n",
        "\n",
        "knn1 = KNeighborsClassifier(n_neighbors = 250)  # n_neighbors means k\n",
        "knnIE = knn1.fit(xIETrain,yIETrain)\n",
        "\n",
        "knn2 = KNeighborsClassifier(n_neighbors = 250)  # n_neighbors means k\n",
        "knnNS = knn2.fit(xNSTrain,yNSTrain)\n",
        "\n",
        "knn3 = KNeighborsClassifier(n_neighbors = 250)  # n_neighbors means k\n",
        "knnFT = knn3.fit(xFTTrain,yFTTrain)\n",
        "\n",
        "knn4 = KNeighborsClassifier(n_neighbors = 250)  # n_neighbors means k\n",
        "knnPJ = knn4.fit(xPJTrain,yPJTrain)\n"
      ]
    },
    {
      "cell_type": "code",
      "execution_count": 89,
      "metadata": {
        "id": "ma-BJ8iWUjd-"
      },
      "outputs": [],
      "source": [
        "Y_pred_IE = knnIE.predict(xIETest)\n",
        "Y_pred_NS = knnNS.predict(xNSTest)\n",
        "Y_pred_FT = knnFT.predict(xFTTest)\n",
        "Y_pred_PJ = knnPJ.predict(xPJTest)"
      ]
    },
    {
      "cell_type": "code",
      "execution_count": 90,
      "metadata": {
        "colab": {
          "base_uri": "https://localhost:8080/"
        },
        "id": "7Ptgy-KyUnk3",
        "outputId": "f32e0fe2-b12b-463f-ea4a-9e697ab086d1"
      },
      "outputs": [
        {
          "output_type": "stream",
          "name": "stdout",
          "text": [
            "Results : Testing\n",
            "------------------\n",
            "I/E :\n",
            "0.7690179806362379\n",
            "N/S :\n",
            "0.8621484555094514\n",
            "F/T :\n",
            "0.5965882895343476\n",
            "P/J :\n",
            "0.6256339326878746\n"
          ]
        }
      ],
      "source": [
        "print(\"Results : Testing\")\n",
        "print(\"------------------\")\n",
        "\n",
        "print(\"I/E :\")\n",
        "f1_knnIE=f1_score(yIETest, Y_pred_IE, average='micro')\n",
        "print(f1_knnIE)\n",
        "print(\"N/S :\")\n",
        "f1_knnNS=f1_score(yNSTest, Y_pred_NS, average='micro')\n",
        "print(f1_knnNS)\n",
        "print(\"F/T :\")\n",
        "f1_knnFT=f1_score(yFTTest, Y_pred_FT, average='micro')\n",
        "print(f1_knnFT)\n",
        "print(\"P/J :\")\n",
        "f1_knnPJ=f1_score(yPJTest, Y_pred_PJ, average='micro')\n",
        "print(f1_knnPJ)"
      ]
    },
    {
      "cell_type": "code",
      "execution_count": 91,
      "metadata": {
        "colab": {
          "base_uri": "https://localhost:8080/",
          "height": 756
        },
        "id": "40gdEfkgUojT",
        "outputId": "d9ebda6d-5e84-45bb-c83e-f577bbacb238"
      },
      "outputs": [
        {
          "output_type": "display_data",
          "data": {
            "text/plain": [
              "<Figure size 1296x864 with 1 Axes>"
            ],
            "image/png": "[encoded data removed]"
          },
          "metadata": {
            "needs_background": "light"
          }
        }
      ],
      "source": [
        "#Plot for comparision between models\n",
        "\n",
        "X = ['I/E','N/S', 'F/T', 'P/J']\n",
        "ySVM = [f1_svmIE,f1_svmNS,f1_svmFT,f1_svmPJ]\n",
        "yRF = [f1_rfIE,f1_rfNS,f1_rfFT,f1_rfPJ]\n",
        "yXB = [f1_xgboostIE,f1_xgboostNS,f1_xgboostFT,f1_xgboostPJ]\n",
        "yCB = [f1_catIE,f1_catNS,f1_catFT,f1_catPJ]\n",
        "yKNN = [f1_knnIE,f1_knnNS,f1_knnFT,f1_knnPJ]\n",
        "\n",
        "\n",
        "X_axis = np.arange(len(X))\n",
        "plt.figure(figsize=(18,12))   \n",
        "plt.bar(X_axis - 0.3, ySVM, 0.15, label = 'SVM',color = 'b',edgecolor = 'black')\n",
        "plt.bar(X_axis - 0.15, yRF, 0.15, label = 'Random Forest',color = 'g',edgecolor = 'black')\n",
        "plt.bar(X_axis - 0.0, yXB, 0.15, label = 'XGboost',color = 'r',edgecolor = 'black')\n",
        "plt.bar(X_axis + 0.15, yCB, 0.15, label = 'Cat-boost',color = 'y',edgecolor = 'black')\n",
        "\n",
        "plt.bar(X_axis + 0.3, yKNN, 0.15, label = 'knn',color = 'orange',edgecolor = 'black')\n",
        "  \n",
        "plt.xticks(X_axis, X)\n",
        "plt.xlabel(\"Models\")\n",
        "plt.ylabel(\"F1 Score\")\n",
        "plt.title(\"Comparision of Models Along 4 Axis\")\n",
        "plt.legend()\n",
        "\n",
        "plt.show()"
      ]
    },
    {
      "cell_type": "code",
      "execution_count": 92,
      "metadata": {
        "id": "4BOVe-f7WjdZ"
      },
      "outputs": [],
      "source": [
        "from sklearn.neural_network import MLPClassifier"
      ]
    },
    {
      "cell_type": "code",
      "execution_count": 93,
      "metadata": {
        "colab": {
          "base_uri": "https://localhost:8080/"
        },
        "id": "cM7OJERsWlbM",
        "outputId": "78d6f61a-5ae6-4a10-8e7f-a9113020f1bd"
      },
      "outputs": [
        {
          "output_type": "stream",
          "name": "stdout",
          "text": [
            "Now the dataset size is as below\n",
            "(8675, 1000)\n"
          ]
        }
      ],
      "source": [
        "cv = CountVectorizer(analyzer=\"word\", max_features=1000) \n",
        "xCV = cv.fit_transform(mbti_df['posts'])\n",
        "\n",
        "tfidf = TfidfTransformer()\n",
        "\n",
        "print(\"Now the dataset size is as below\")\n",
        "X_tfidf =  tfidf.fit_transform(xCV).toarray()\n",
        "print(X_tfidf.shape)"
      ]
    },
    {
      "cell_type": "code",
      "execution_count": 94,
      "metadata": {
        "id": "K1I-xlU1XnTH"
      },
      "outputs": [],
      "source": [
        "noOflayers = ['3-[1]','3-[2]','3-[3]','3-[4]','3-[5]','3-[10]','4-[2,1]','4-[2,2]','4-[2,3]','4-[2,5]', '4-[3,2]','4-[3,3]','4-[5,2]','4-[10,2]','5-[3,2,3]']\n",
        "hidden_layers = [[1],[2],[3],[4],[5],[10],[2,1],[2,2],[2,3],[2,5],[3,2],[3,3],[5,2],[10,2],[3,2,3]]\n",
        "scoresIE = []\n",
        "scoresNS = []\n",
        "scoresFT = []\n",
        "scoresPJ = []"
      ]
    },
    {
      "cell_type": "code",
      "execution_count": 95,
      "metadata": {
        "id": "uqiqcPBTXqGz"
      },
      "outputs": [],
      "source": [
        "for hl in hidden_layers :\n",
        "\n",
        "  xIETrain, xIETest, yIETrain, yIETest = train_test_split(X_tfidf, yIE, test_size=0.25,stratify=yIE)\n",
        "  xNSTrain, xNSTest, yNSTrain, yNSTest = train_test_split(X_tfidf, yNS, test_size=0.25,stratify=yNS)\n",
        "  xFTTrain, xFTTest, yFTTrain, yFTTest = train_test_split(X_tfidf, yFT, test_size=0.25,stratify=yFT)\n",
        "  xPJTrain, xPJTest, yPJTrain, yPJTest = train_test_split(X_tfidf, yPJ, test_size=0.25,stratify=yPJ)\n",
        "  \n",
        "  clf1 = MLPClassifier(hidden_layer_sizes=hl, max_iter=200).fit(xIETrain, yIETrain)\n",
        "  ypredIEs = clf1.predict(xIETest)\n",
        "  scoresIE.append(f1_score(yIETest, ypredIEs, average='micro'))\n",
        "\n",
        "  clf2 = MLPClassifier(hidden_layer_sizes=hl, max_iter=200).fit(xNSTrain, yNSTrain)\n",
        "  ypredNSs = clf2.predict(xNSTest)\n",
        "  scoresNS.append(f1_score(yNSTest, ypredNSs, average='micro'))\n",
        "\n",
        "  clf3 = MLPClassifier(hidden_layer_sizes=hl, max_iter=200).fit(xFTTrain, yFTTrain)\n",
        "  ypredFTs = clf3.predict(xPJTest)\n",
        "  scoresFT.append(f1_score(yFTTest, ypredFTs, average='micro'))\n",
        "\n",
        "  clf4 = MLPClassifier(hidden_layer_sizes=hl, max_iter=200).fit(xPJTrain, yPJTrain)\n",
        "  ypredPJs = clf4.predict(xPJTest)\n",
        "  scoresPJ.append(f1_score(yPJTest, ypredPJs, average='micro'))"
      ]
    },
    {
      "cell_type": "code",
      "execution_count": 96,
      "metadata": {
        "id": "yKk9ok8wX9Ag"
      },
      "outputs": [],
      "source": [
        "avgScores = []\n",
        "for i in range(0,len(noOflayers)) :\n",
        "  avgScores.append((scoresIE[i] + scoresNS[i] + scoresFT[i] + scoresPJ[i])/4)"
      ]
    },
    {
      "cell_type": "code",
      "execution_count": 97,
      "metadata": {
        "colab": {
          "base_uri": "https://localhost:8080/",
          "height": 529
        },
        "id": "v6W9gU0_X9yW",
        "outputId": "518107bd-9e22-4d33-c42b-d0940173211f"
      },
      "outputs": [
        {
          "output_type": "display_data",
          "data": {
            "text/plain": [
              "<Figure size 1296x576 with 1 Axes>"
            ],
            "image/png": "[encoded data removed]"
          },
          "metadata": {
            "needs_background": "light"
          }
        }
      ],
      "source": [
        "\n",
        "\n",
        "avgScores = []\n",
        "for i in range(0,len(noOflayers)) :\n",
        "  avgScores.append((scoresIE[i] + scoresNS[i] + scoresFT[i] + scoresPJ[i])/4)\n",
        "\n",
        "import matplotlib.pyplot as plt\n",
        " \n",
        "x = noOflayers\n",
        "y = avgScores\n",
        "fig, ax = plt.subplots()\n",
        "fig.set_figwidth(18)\n",
        "fig.set_figheight(8)\n",
        "plt.plot(x, y, marker='o')\n",
        "\n",
        "plt.xlabel('hidden_layer_sizes for MLP')\n",
        "\n",
        "plt.ylabel('F1 Score')\n",
        "\n",
        "plt.title('hidden_layer_sizes Vs F1-Score')\n",
        "\n",
        "fig.autofmt_xdate()\n",
        "\n",
        "plt.show()\n",
        "\n"
      ]
    },
    {
      "cell_type": "code",
      "execution_count": 98,
      "metadata": {
        "colab": {
          "base_uri": "https://localhost:8080/"
        },
        "id": "QmFZHvWAYCmn",
        "outputId": "0656114f-47c5-4379-a50c-35d139da6ec2"
      },
      "outputs": [
        {
          "output_type": "stream",
          "name": "stdout",
          "text": [
            "Now the dataset size is as below\n",
            "(8675, 5000)\n"
          ]
        }
      ],
      "source": [
        "cv = CountVectorizer(analyzer=\"word\", max_features=5000) \n",
        "xCV = cv.fit_transform(mbti_df['posts'])\n",
        "\n",
        "tfidf = TfidfTransformer()\n",
        "\n",
        "print(\"Now the dataset size is as below\")\n",
        "X_tfidf =  tfidf.fit_transform(xCV).toarray()\n",
        "print(X_tfidf.shape)"
      ]
    },
    {
      "cell_type": "code",
      "execution_count": 99,
      "metadata": {
        "id": "ZE3yBEe2YFYm"
      },
      "outputs": [],
      "source": [
        "xIETrain, xIETest, yIETrain, yIETest = train_test_split(X_tfidf, yIE, test_size=0.25,stratify=yIE)\n",
        "xNSTrain, xNSTest, yNSTrain, yNSTest = train_test_split(X_tfidf, yNS, test_size=0.25,stratify=yNS)\n",
        "xFTTrain, xFTTest, yFTTrain, yFTTest = train_test_split(X_tfidf, yFT, test_size=0.25,stratify=yFT)\n",
        "xPJTrain, xPJTest, yPJTrain, yPJTest = train_test_split(X_tfidf, yPJ, test_size=0.25,stratify=yPJ)\n",
        "\n",
        "clf1 = MLPClassifier(hidden_layer_sizes=[3,2], max_iter=200).fit(xIETrain, yIETrain)\n",
        "ypredIEs = clf1.predict(xIETest)\n",
        "f1IE = f1_score(yIETest, ypredIEs, average='micro')\n",
        "\n",
        "clf2 = MLPClassifier(hidden_layer_sizes=[3,2], max_iter=200).fit(xNSTrain, yNSTrain)\n",
        "ypredNSs = clf2.predict(xNSTest)\n",
        "f1NS = f1_score(yNSTest, ypredNSs, average='micro')\n",
        "\n",
        "clf3 = MLPClassifier(hidden_layer_sizes=[3,2], max_iter=200).fit(xFTTrain, yFTTrain)\n",
        "ypredFTs = clf3.predict(xPJTest)\n",
        "f1FT = f1_score(yFTTest, ypredFTs, average='micro')\n",
        "\n",
        "clf4 = MLPClassifier(hidden_layer_sizes=[3,2], max_iter=200).fit(xPJTrain, yPJTrain)\n",
        "ypredPJs = clf4.predict(xPJTest)\n",
        "f1PJ = f1_score(yPJTest, ypredPJs, average='micro')"
      ]
    },
    {
      "cell_type": "code",
      "execution_count": 100,
      "metadata": {
        "colab": {
          "base_uri": "https://localhost:8080/"
        },
        "id": "ghdCUHXnYIEL",
        "outputId": "9ba3a8cb-e986-46e8-e837-feb842e36f44"
      },
      "outputs": [
        {
          "output_type": "stream",
          "name": "stdout",
          "text": [
            "Results : Testing\n",
            "------------------\n",
            "I/E :\n",
            "0.7768556938681419\n",
            "N/S :\n",
            "0.8616874135546335\n",
            "F/T :\n",
            "0.524665744582757\n",
            "P/J :\n",
            "0.6883356385431074\n"
          ]
        }
      ],
      "source": [
        "print(\"Results : Testing\")\n",
        "print(\"------------------\")\n",
        "\n",
        "print(\"I/E :\")\n",
        "print(f1IE)\n",
        "print(\"N/S :\")\n",
        "print(f1NS)\n",
        "print(\"F/T :\")\n",
        "print(f1FT)\n",
        "print(\"P/J :\")\n",
        "print(f1PJ)"
      ]
    },
    {
      "cell_type": "code",
      "execution_count": 101,
      "metadata": {
        "colab": {
          "base_uri": "https://localhost:8080/",
          "height": 502
        },
        "id": "kBbC7l-wYLOP",
        "outputId": "2514f3b3-5847-4e52-84e3-44d86470b4df"
      },
      "outputs": [
        {
          "output_type": "execute_result",
          "data": {
            "text/plain": [
              "<matplotlib.legend.Legend at 0x7f42947276d0>"
            ]
          },
          "metadata": {},
          "execution_count": 101
        },
        {
          "output_type": "display_data",
          "data": {
            "text/plain": [
              "<Figure size 720x504 with 1 Axes>"
            ],
            "image/png": "[encoded data removed]"
          },
          "metadata": {
            "needs_background": "light"
          }
        }
      ],
      "source": [
        "X = ['I/E','N/S', 'F/T', 'P/J']\n",
        "yXB = [f1_xgboostIE,f1_xgboostNS,f1_xgboostFT,f1_xgboostPJ]\n",
        "yMLP = [f1IE,f1NS,f1FT,f1PJ]\n",
        "\n",
        "\n",
        "X_axis = np.arange(len(X))\n",
        "plt.figure(figsize=(10,7))   \n",
        "plt.bar(X_axis - 0.2, yMLP, 0.2, label = 'MLP',color = 'maroon',edgecolor = 'black')\n",
        "plt.bar(X_axis + 0.2, yXB, 0.2, label = 'XGboost',color = 'b',edgecolor = 'black')\n",
        "  \n",
        "plt.xticks(X_axis, X)\n",
        "plt.xlabel(\"4 MBTI Axis\")\n",
        "plt.ylabel(\"F1 Score\")\n",
        "plt.title(\"Comparision of MLP & XGboost\")\n",
        "plt.legend()"
      ]
    },
    {
      "cell_type": "code",
      "execution_count": 117,
      "metadata": {
        "id": "BXSxBbnTeX7X"
      },
      "outputs": [],
      "source": [
        "statement= \"Hi my name is Rajvi\""
      ]
    },
    {
      "cell_type": "code",
      "execution_count": 118,
      "metadata": {
        "colab": {
          "base_uri": "https://localhost:8080/"
        },
        "id": "GZcxmqW-eeXD",
        "outputId": "2d7ca460-c046-4d68-bfd3-b17e64fe0b20"
      },
      "outputs": [
        {
          "output_type": "stream",
          "name": "stdout",
          "text": [
            "   type                posts\n",
            "0  INJF  Hi my name is Rajvi\n"
          ]
        }
      ],
      "source": [
        "data = [['INJF',statement]]\n",
        "myStatement = pd.DataFrame(data,columns=['type','posts'])\n",
        "print(myStatement)\n",
        "my_posts = myStatement"
      ]
    },
    {
      "cell_type": "code",
      "execution_count": 119,
      "metadata": {
        "id": "k60z6IElhSE2"
      },
      "outputs": [],
      "source": [
        "xCV = cv.transform(my_posts['posts'])\n",
        "X_tfidf =  tfidf.transform(xCV).toarray()\n",
        "\n",
        "Y_pred_IE = xgbIE.predict(X_tfidf)\n",
        "Y_pred_NS = xgbNS.predict(X_tfidf)\n",
        "Y_pred_FT = xgbFT.predict(X_tfidf)\n",
        "Y_pred_PJ = xgbPJ.predict(X_tfidf)\n"
      ]
    },
    {
      "cell_type": "code",
      "execution_count": 120,
      "metadata": {
        "colab": {
          "base_uri": "https://localhost:8080/"
        },
        "id": "L2yz0OMehUkD",
        "outputId": "477b4f74-b70b-4abf-b400-84e10eb7201a"
      },
      "outputs": [
        {
          "output_type": "execute_result",
          "data": {
            "text/plain": [
              "array(['I'], dtype=object)"
            ]
          },
          "metadata": {},
          "execution_count": 120
        }
      ],
      "source": [
        "Y_pred_IE"
      ]
    },
    {
      "cell_type": "code",
      "execution_count": 121,
      "metadata": {
        "colab": {
          "base_uri": "https://localhost:8080/"
        },
        "id": "zovojswTjjVF",
        "outputId": "900137c9-d98b-4e5c-9ec0-539a8df653f1"
      },
      "outputs": [
        {
          "output_type": "execute_result",
          "data": {
            "text/plain": [
              "array(['N'], dtype=object)"
            ]
          },
          "metadata": {},
          "execution_count": 121
        }
      ],
      "source": [
        "Y_pred_NS"
      ]
    },
    {
      "cell_type": "code",
      "execution_count": 122,
      "metadata": {
        "colab": {
          "base_uri": "https://localhost:8080/"
        },
        "id": "kLLI96aojl8Z",
        "outputId": "4d951d9a-07b1-40d3-9cf6-222dee0a88a8"
      },
      "outputs": [
        {
          "output_type": "execute_result",
          "data": {
            "text/plain": [
              "array(['F'], dtype=object)"
            ]
          },
          "metadata": {},
          "execution_count": 122
        }
      ],
      "source": [
        "Y_pred_FT"
      ]
    },
    {
      "cell_type": "code",
      "execution_count": 123,
      "metadata": {
        "colab": {
          "base_uri": "https://localhost:8080/"
        },
        "id": "mwNYKK5wjoGP",
        "outputId": "386611ff-c20b-421f-ccc0-0c64ab7889ce"
      },
      "outputs": [
        {
          "output_type": "execute_result",
          "data": {
            "text/plain": [
              "array(['P'], dtype=object)"
            ]
          },
          "metadata": {},
          "execution_count": 123
        }
      ],
      "source": [
        "Y_pred_PJ"
      ]
    }
  ],
  "metadata": {
    "colab": {
      "provenance": []
    },
    "kernelspec": {
      "display_name": "Python 3",
      "name": "python3"
    },
    "language_info": {
      "name": "python"
    }
  },
  "nbformat": 4,
  "nbformat_minor": 0
}